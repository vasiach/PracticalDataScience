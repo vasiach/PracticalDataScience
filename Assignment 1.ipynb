{
 "cells": [
  {
   "cell_type": "markdown",
   "metadata": {},
   "source": [
    "## Question 1: TwitterReplyPercentage"
   ]
  },
  {
   "cell_type": "code",
   "execution_count": 1,
   "metadata": {},
   "outputs": [
    {
     "ename": "ImportError",
     "evalue": "No module named tweepy",
     "output_type": "error",
     "traceback": [
      "\u001b[0;31m---------------------------------------------------------------------------\u001b[0m",
      "\u001b[0;31mImportError\u001b[0m                               Traceback (most recent call last)",
      "\u001b[0;32m<ipython-input-1-b820e2cd3f0c>\u001b[0m in \u001b[0;36m<module>\u001b[0;34m()\u001b[0m\n\u001b[0;32m----> 1\u001b[0;31m \u001b[0;32mimport\u001b[0m \u001b[0mtweepy\u001b[0m\u001b[0;34m\u001b[0m\u001b[0m\n\u001b[0m\u001b[1;32m      2\u001b[0m \u001b[0;32mfrom\u001b[0m \u001b[0mtwitter_config\u001b[0m \u001b[0;32mimport\u001b[0m \u001b[0mconfig\u001b[0m\u001b[0;34m\u001b[0m\u001b[0m\n",
      "\u001b[0;31mImportError\u001b[0m: No module named tweepy"
     ]
    }
   ],
   "source": [
    "import tweepy\n",
    "from twitter_config import config"
   ]
  },
  {
   "cell_type": "code",
   "execution_count": 2,
   "metadata": {
    "collapsed": true
   },
   "outputs": [],
   "source": [
    "def get_reply_percentage(config, username, max_tweets=100):\n",
    "\n",
    "    auth = tweepy.OAuthHandler(config['consumer_key'], config['consumer_secret'])\n",
    "    auth.set_access_token(config['access_token'], config['access_token_secret'])\n",
    "    api = tweepy.API(auth)\n",
    "    \n",
    "    tweets = 0\n",
    "    reply_status = 0\n",
    "    \n",
    "    for status in tweepy.Cursor(api.user_timeline, id=username).items(max_tweets):\n",
    "        tweets += 1\n",
    "        if status.in_reply_to_status_id is not None:\n",
    "            print status.text\n",
    "            reply_status += 1\n",
    "    return round(((reply_status/tweets)*100),1)"
   ]
  },
  {
   "cell_type": "code",
   "execution_count": 22,
   "metadata": {},
   "outputs": [
    {
     "name": "stdout",
     "output_type": "stream",
     "text": [
      "@Stranger_Things @JoseAltuve27 @KeeganMKey Plus we've got music from the great @Elbow!\n",
      "I’m sorry to my college roommate. I’m the one who ate all your Bagel Bites. It was a pizza emergency. #WorldSorries\n",
      "You Are What You Eat. Which Means You Eat Awesome. #MondayMotivation #FallonTonight\n",
      "Swipe Right On Yourself. #MondayMotivation #FallonTonight\n",
      "@HillaryClinton @MileyCyrus Hilary was great. So was Miley!! Wow!!\n",
      "Thanks again to @kj_apa, @colesprouse, @CamilaMendes, @lilireinhart, and @madelainepetsch! Can't wait for Season 2!!\n",
      "@ddlovato You did?!?! You did?!???? You did!!!! https://t.co/dVjejQBbRg\n",
      "@catheb You will love it!! Great monologue, great guests and the Spike thing will be memorable.\n",
      "Plus a Spike Jonze live dance performance featuring Mia Wasikowska &amp; @lakeithlakeith! Don't miss! #FallonTonight\n",
      "@CecilyMcLeod Thank you.\n",
      ".@U2 performs their brand new single \"You’re The Best Thing About Me\" https://t.co/5TZSuy74I5 #U2onFallon #FallonTonight\n",
      "@U2 Stay up!!! DVR!!! Ha. If and when you see it - it's worth it. Play it loud. #U2OnFallon\n",
      "Download @NiallOfficial's new single, Slow Hands: https://t.co/tGHKUKV3Og\n",
      "Don't miss tonight's new show! Kate McKinnon, @JohnCena, @Msldemarco, Thank You Notes, &amp; more!\n",
      "The percentage of the tweets that were replies of the user jimmyfallon is 2.8 % \n"
     ]
    }
   ],
   "source": [
    "screen_name = 'jimmyfallon'\n",
    "max_tweets = 500\n",
    "\n",
    "percentage = get_reply_percentage(config, screen_name, max_tweets)\n",
    "print (\"The percentage of the tweets that were replies of the user {} is {} % \".format(screen_name, percentage))"
   ]
  },
  {
   "cell_type": "markdown",
   "metadata": {},
   "source": [
    "## Question 2: GutenbergProject"
   ]
  },
  {
   "cell_type": "code",
   "execution_count": null,
   "metadata": {
    "collapsed": true
   },
   "outputs": [],
   "source": []
  }
 ],
 "metadata": {
  "kernelspec": {
   "display_name": "Python 3",
   "language": "python",
   "name": "python3"
  },
  "language_info": {
   "codemirror_mode": {
    "name": "ipython",
    "version": 2
   },
   "file_extension": ".py",
   "mimetype": "text/x-python",
   "name": "python",
   "nbconvert_exporter": "python",
   "pygments_lexer": "ipython2",
   "version": "2.7.13"
  }
 },
 "nbformat": 4,
 "nbformat_minor": 2
}
