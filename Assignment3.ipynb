{
 "cells": [
  {
   "cell_type": "code",
   "execution_count": 1,
   "metadata": {},
   "outputs": [
    {
     "name": "stderr",
     "output_type": "stream",
     "text": [
      "/home/vasia/.local/lib/python3.5/site-packages/statsmodels/compat/pandas.py:56: FutureWarning: The pandas.core.datetools module is deprecated and will be removed in a future version. Please use the pandas.tseries module instead.\n",
      "  from pandas.core import datetools\n"
     ]
    }
   ],
   "source": [
    "import pandas as pd\n",
    "import numpy as np\n",
    "from sklearn.metrics import accuracy_score\n",
    "import statsmodels.api as sm\n",
    "from statsmodels.formula.api import ols\n",
    "from statsmodels.formula.api import logit\n",
    "from statsmodels.stats.anova import anova_lm\n",
    "from patsy import dmatrices\n",
    "import matplotlib.pyplot as plt\n",
    "%matplotlib inline"
   ]
  },
  {
   "cell_type": "code",
   "execution_count": 2,
   "metadata": {},
   "outputs": [],
   "source": [
    "from scipy import stats\n",
    "stats.chisqprob = lambda chisq, df: stats.chi2.sf(chisq, df)"
   ]
  },
  {
   "cell_type": "markdown",
   "metadata": {},
   "source": [
    "## Question1"
   ]
  },
  {
   "cell_type": "code",
   "execution_count": 3,
   "metadata": {},
   "outputs": [
    {
     "data": {
      "text/html": [
       "<div>\n",
       "<style scoped>\n",
       "    .dataframe tbody tr th:only-of-type {\n",
       "        vertical-align: middle;\n",
       "    }\n",
       "\n",
       "    .dataframe tbody tr th {\n",
       "        vertical-align: top;\n",
       "    }\n",
       "\n",
       "    .dataframe thead th {\n",
       "        text-align: right;\n",
       "    }\n",
       "</style>\n",
       "<table border=\"1\" class=\"dataframe\">\n",
       "  <thead>\n",
       "    <tr style=\"text-align: right;\">\n",
       "      <th></th>\n",
       "      <th>company</th>\n",
       "      <th>year</th>\n",
       "      <th>race</th>\n",
       "      <th>gender</th>\n",
       "      <th>job_category</th>\n",
       "      <th>count</th>\n",
       "    </tr>\n",
       "  </thead>\n",
       "  <tbody>\n",
       "    <tr>\n",
       "      <th>0</th>\n",
       "      <td>23andMe</td>\n",
       "      <td>2016</td>\n",
       "      <td>Latino</td>\n",
       "      <td>male</td>\n",
       "      <td>Executive/Senior officials &amp; Mgrs</td>\n",
       "      <td>0</td>\n",
       "    </tr>\n",
       "    <tr>\n",
       "      <th>1</th>\n",
       "      <td>23andMe</td>\n",
       "      <td>2016</td>\n",
       "      <td>Latino</td>\n",
       "      <td>male</td>\n",
       "      <td>First/Mid officials &amp; Mgrs</td>\n",
       "      <td>1</td>\n",
       "    </tr>\n",
       "    <tr>\n",
       "      <th>2</th>\n",
       "      <td>23andMe</td>\n",
       "      <td>2016</td>\n",
       "      <td>Latino</td>\n",
       "      <td>male</td>\n",
       "      <td>Professionals</td>\n",
       "      <td>7</td>\n",
       "    </tr>\n",
       "  </tbody>\n",
       "</table>\n",
       "</div>"
      ],
      "text/plain": [
       "   company  year    race gender                       job_category  count\n",
       "0  23andMe  2016  Latino   male  Executive/Senior officials & Mgrs      0\n",
       "1  23andMe  2016  Latino   male         First/Mid officials & Mgrs      1\n",
       "2  23andMe  2016  Latino   male                      Professionals      7"
      ]
     },
     "execution_count": 3,
     "metadata": {},
     "output_type": "execute_result"
    }
   ],
   "source": [
    "sildta = pd.read_csv('data/Reveal_EEO1_for_2016.csv')\n",
    "sildta = sildta[(sildta.job_category.str.contains('Totals')==False)]\n",
    "sildta = sildta[(sildta.job_category.str.contains('Previous_totals')==False)]\n",
    "sildta['count']= sildta['count'].astype('int64')\n",
    "sildta.head(3)"
   ]
  },
  {
   "cell_type": "code",
   "execution_count": 4,
   "metadata": {},
   "outputs": [
    {
     "name": "stdout",
     "output_type": "stream",
     "text": [
      "                            OLS Regression Results                            \n",
      "==============================================================================\n",
      "Dep. Variable:                  count   R-squared:                       0.002\n",
      "Model:                            OLS   Adj. R-squared:                  0.002\n",
      "Method:                 Least Squares   F-statistic:                     3.778\n",
      "Date:                Fri, 12 Jan 2018   Prob (F-statistic):             0.0521\n",
      "Time:                        21:44:21   Log-Likelihood:                -12763.\n",
      "No. Observations:                1540   AIC:                         2.553e+04\n",
      "Df Residuals:                    1538   BIC:                         2.554e+04\n",
      "Df Model:                           1                                         \n",
      "Covariance Type:            nonrobust                                         \n",
      "================================================================================\n",
      "                   coef    std err          t      P>|t|      [0.025      0.975]\n",
      "--------------------------------------------------------------------------------\n",
      "Intercept      176.6768     25.852      6.834      0.000     125.967     227.386\n",
      "jobs[T.True]  -158.8975     81.752     -1.944      0.052    -319.255       1.460\n",
      "==============================================================================\n",
      "Omnibus:                     2503.937   Durbin-Watson:                   1.235\n",
      "Prob(Omnibus):                  0.000   Jarque-Bera (JB):          1105920.734\n",
      "Skew:                          10.503   Prob(JB):                         0.00\n",
      "Kurtosis:                     132.591   Cond. No.                         3.37\n",
      "==============================================================================\n",
      "\n",
      "Warnings:\n",
      "[1] Standard Errors assume that the covariance matrix of the errors is correctly specified.\n"
     ]
    },
    {
     "name": "stderr",
     "output_type": "stream",
     "text": [
      "/home/vasia/.local/lib/python3.5/site-packages/ipykernel_launcher.py:2: SettingWithCopyWarning: \n",
      "A value is trying to be set on a copy of a slice from a DataFrame.\n",
      "Try using .loc[row_indexer,col_indexer] = value instead\n",
      "\n",
      "See the caveats in the documentation: http://pandas.pydata.org/pandas-docs/stable/indexing.html#indexing-view-versus-copy\n",
      "  \n",
      "/home/vasia/.local/lib/python3.5/site-packages/scipy/stats/_distn_infrastructure.py:879: RuntimeWarning: invalid value encountered in greater\n",
      "  return (self.a < x) & (x < self.b)\n",
      "/home/vasia/.local/lib/python3.5/site-packages/scipy/stats/_distn_infrastructure.py:879: RuntimeWarning: invalid value encountered in less\n",
      "  return (self.a < x) & (x < self.b)\n",
      "/home/vasia/.local/lib/python3.5/site-packages/scipy/stats/_distn_infrastructure.py:1821: RuntimeWarning: invalid value encountered in less_equal\n",
      "  cond2 = cond0 & (x <= self.a)\n"
     ]
    },
    {
     "data": {
      "text/html": [
       "<div>\n",
       "<style scoped>\n",
       "    .dataframe tbody tr th:only-of-type {\n",
       "        vertical-align: middle;\n",
       "    }\n",
       "\n",
       "    .dataframe tbody tr th {\n",
       "        vertical-align: top;\n",
       "    }\n",
       "\n",
       "    .dataframe thead th {\n",
       "        text-align: right;\n",
       "    }\n",
       "</style>\n",
       "<table border=\"1\" class=\"dataframe\">\n",
       "  <thead>\n",
       "    <tr style=\"text-align: right;\">\n",
       "      <th></th>\n",
       "      <th>df</th>\n",
       "      <th>sum_sq</th>\n",
       "      <th>mean_sq</th>\n",
       "      <th>F</th>\n",
       "      <th>PR(&gt;F)</th>\n",
       "    </tr>\n",
       "  </thead>\n",
       "  <tbody>\n",
       "    <tr>\n",
       "      <th>jobs</th>\n",
       "      <td>1.0</td>\n",
       "      <td>3.499432e+06</td>\n",
       "      <td>3.499432e+06</td>\n",
       "      <td>3.777776</td>\n",
       "      <td>0.05212</td>\n",
       "    </tr>\n",
       "    <tr>\n",
       "      <th>Residual</th>\n",
       "      <td>1538.0</td>\n",
       "      <td>1.424682e+09</td>\n",
       "      <td>9.263209e+05</td>\n",
       "      <td>NaN</td>\n",
       "      <td>NaN</td>\n",
       "    </tr>\n",
       "  </tbody>\n",
       "</table>\n",
       "</div>"
      ],
      "text/plain": [
       "              df        sum_sq       mean_sq         F   PR(>F)\n",
       "jobs         1.0  3.499432e+06  3.499432e+06  3.777776  0.05212\n",
       "Residual  1538.0  1.424682e+09  9.263209e+05       NaN      NaN"
      ]
     },
     "execution_count": 4,
     "metadata": {},
     "output_type": "execute_result"
    }
   ],
   "source": [
    "male_sildta = sildta[sildta['gender']=='male']\n",
    "male_sildta['jobs']= male_sildta.job_category.str.contains('Senior')\n",
    "m_model = ols('count~jobs', data=male_sildta).fit()\n",
    "m_table = anova_lm(m_model)\n",
    "male_sildta\n",
    "print(m_model.summary())\n",
    "m_table\n",
    "\n"
   ]
  },
  {
   "cell_type": "code",
   "execution_count": 5,
   "metadata": {},
   "outputs": [
    {
     "name": "stdout",
     "output_type": "stream",
     "text": [
      "(1.943650086840004, 0.052119854647454264, 1538.0)\n"
     ]
    }
   ],
   "source": [
    "#double check with ttest\n",
    "male_seniors = male_sildta[male_sildta.job_category.str.contains('Senior')]['count']\n",
    "male_non_seniors = male_sildta[male_sildta.job_category.str.contains('Senior')==False]['count']\n",
    "print(sm.stats.ttest_ind(male_non_seniors, male_seniors))"
   ]
  },
  {
   "cell_type": "code",
   "execution_count": 6,
   "metadata": {},
   "outputs": [
    {
     "name": "stdout",
     "output_type": "stream",
     "text": [
      "                            OLS Regression Results                            \n",
      "==============================================================================\n",
      "Dep. Variable:                  count   R-squared:                       0.007\n",
      "Model:                            OLS   Adj. R-squared:                  0.005\n",
      "Method:                 Least Squares   F-statistic:                     3.204\n",
      "Date:                Fri, 12 Jan 2018   Prob (F-statistic):             0.0742\n",
      "Time:                        21:44:21   Log-Likelihood:                -3871.0\n",
      "No. Observations:                 440   AIC:                             7746.\n",
      "Df Residuals:                     438   BIC:                             7754.\n",
      "Df Model:                           1                                         \n",
      "Covariance Type:            nonrobust                                         \n",
      "================================================================================\n",
      "                   coef    std err          t      P>|t|      [0.025      0.975]\n",
      "--------------------------------------------------------------------------------\n",
      "Intercept      516.1414     80.666      6.399      0.000     357.602     674.681\n",
      "jobs[T.True]  -456.5960    255.087     -1.790      0.074    -957.943      44.751\n",
      "==============================================================================\n",
      "Omnibus:                      548.862   Durbin-Watson:                   1.188\n",
      "Prob(Omnibus):                  0.000   Jarque-Bera (JB):            39146.517\n",
      "Skew:                           6.125   Prob(JB):                         0.00\n",
      "Kurtosis:                      47.556   Cond. No.                         3.37\n",
      "==============================================================================\n",
      "\n",
      "Warnings:\n",
      "[1] Standard Errors assume that the covariance matrix of the errors is correctly specified.\n"
     ]
    },
    {
     "name": "stderr",
     "output_type": "stream",
     "text": [
      "/home/vasia/.local/lib/python3.5/site-packages/ipykernel_launcher.py:2: SettingWithCopyWarning: \n",
      "A value is trying to be set on a copy of a slice from a DataFrame.\n",
      "Try using .loc[row_indexer,col_indexer] = value instead\n",
      "\n",
      "See the caveats in the documentation: http://pandas.pydata.org/pandas-docs/stable/indexing.html#indexing-view-versus-copy\n",
      "  \n",
      "/home/vasia/.local/lib/python3.5/site-packages/scipy/stats/_distn_infrastructure.py:879: RuntimeWarning: invalid value encountered in greater\n",
      "  return (self.a < x) & (x < self.b)\n",
      "/home/vasia/.local/lib/python3.5/site-packages/scipy/stats/_distn_infrastructure.py:879: RuntimeWarning: invalid value encountered in less\n",
      "  return (self.a < x) & (x < self.b)\n",
      "/home/vasia/.local/lib/python3.5/site-packages/scipy/stats/_distn_infrastructure.py:1821: RuntimeWarning: invalid value encountered in less_equal\n",
      "  cond2 = cond0 & (x <= self.a)\n"
     ]
    },
    {
     "data": {
      "text/html": [
       "<div>\n",
       "<style scoped>\n",
       "    .dataframe tbody tr th:only-of-type {\n",
       "        vertical-align: middle;\n",
       "    }\n",
       "\n",
       "    .dataframe tbody tr th {\n",
       "        vertical-align: top;\n",
       "    }\n",
       "\n",
       "    .dataframe thead th {\n",
       "        text-align: right;\n",
       "    }\n",
       "</style>\n",
       "<table border=\"1\" class=\"dataframe\">\n",
       "  <thead>\n",
       "    <tr style=\"text-align: right;\">\n",
       "      <th></th>\n",
       "      <th>df</th>\n",
       "      <th>sum_sq</th>\n",
       "      <th>mean_sq</th>\n",
       "      <th>F</th>\n",
       "      <th>PR(&gt;F)</th>\n",
       "    </tr>\n",
       "  </thead>\n",
       "  <tbody>\n",
       "    <tr>\n",
       "      <th>jobs</th>\n",
       "      <td>1.0</td>\n",
       "      <td>8.255803e+06</td>\n",
       "      <td>8.255803e+06</td>\n",
       "      <td>3.203956</td>\n",
       "      <td>0.074151</td>\n",
       "    </tr>\n",
       "    <tr>\n",
       "      <th>Residual</th>\n",
       "      <td>438.0</td>\n",
       "      <td>1.128618e+09</td>\n",
       "      <td>2.576752e+06</td>\n",
       "      <td>NaN</td>\n",
       "      <td>NaN</td>\n",
       "    </tr>\n",
       "  </tbody>\n",
       "</table>\n",
       "</div>"
      ],
      "text/plain": [
       "             df        sum_sq       mean_sq         F    PR(>F)\n",
       "jobs        1.0  8.255803e+06  8.255803e+06  3.203956  0.074151\n",
       "Residual  438.0  1.128618e+09  2.576752e+06       NaN       NaN"
      ]
     },
     "execution_count": 6,
     "metadata": {},
     "output_type": "execute_result"
    }
   ],
   "source": [
    "white_sildta = sildta[sildta['race']=='White']\n",
    "white_sildta['jobs']= white_sildta.job_category.str.contains('Senior')\n",
    "w_model = ols('count~jobs', data=white_sildta).fit()\n",
    "w_table = anova_lm(w_model)\n",
    "print(w_model.summary())\n",
    "w_table"
   ]
  },
  {
   "cell_type": "code",
   "execution_count": 7,
   "metadata": {},
   "outputs": [
    {
     "name": "stdout",
     "output_type": "stream",
     "text": [
      "(1.789959914380308, 0.07415099611184042, 438.0)\n"
     ]
    }
   ],
   "source": [
    "#double check with ttest\n",
    "white_seniors = white_sildta[white_sildta.job_category.str.contains('Senior')]['count']\n",
    "white_non_seniors = white_sildta[white_sildta.job_category.str.contains('Senior')==False]['count']\n",
    "print(sm.stats.ttest_ind(white_non_seniors, white_seniors))"
   ]
  },
  {
   "cell_type": "markdown",
   "metadata": {},
   "source": [
    "# Question 2"
   ]
  },
  {
   "cell_type": "code",
   "execution_count": 8,
   "metadata": {},
   "outputs": [],
   "source": [
    "from datetime import datetime"
   ]
  },
  {
   "cell_type": "code",
   "execution_count": 9,
   "metadata": {},
   "outputs": [
    {
     "data": {
      "text/html": [
       "<div>\n",
       "<style scoped>\n",
       "    .dataframe tbody tr th:only-of-type {\n",
       "        vertical-align: middle;\n",
       "    }\n",
       "\n",
       "    .dataframe tbody tr th {\n",
       "        vertical-align: top;\n",
       "    }\n",
       "\n",
       "    .dataframe thead th {\n",
       "        text-align: right;\n",
       "    }\n",
       "</style>\n",
       "<table border=\"1\" class=\"dataframe\">\n",
       "  <thead>\n",
       "    <tr style=\"text-align: right;\">\n",
       "      <th></th>\n",
       "      <th>Region</th>\n",
       "      <th>Date</th>\n",
       "      <th>Price</th>\n",
       "      <th>Time left on Auction</th>\n",
       "    </tr>\n",
       "  </thead>\n",
       "  <tbody>\n",
       "    <tr>\n",
       "      <th>0</th>\n",
       "      <td>US</td>\n",
       "      <td>4/7/2015 17:12</td>\n",
       "      <td>30000</td>\n",
       "      <td>Short</td>\n",
       "    </tr>\n",
       "    <tr>\n",
       "      <th>1</th>\n",
       "      <td>US</td>\n",
       "      <td>4/7/2015 17:42</td>\n",
       "      <td>30000</td>\n",
       "      <td>Short</td>\n",
       "    </tr>\n",
       "  </tbody>\n",
       "</table>\n",
       "</div>"
      ],
      "text/plain": [
       "  Region            Date  Price Time left on Auction\n",
       "0     US  4/7/2015 17:12  30000                Short\n",
       "1     US  4/7/2015 17:42  30000                Short"
      ]
     },
     "execution_count": 9,
     "metadata": {},
     "output_type": "execute_result"
    }
   ],
   "source": [
    "wow_df = pd.read_csv('data/wowcointotal.csv')\n",
    "wow_df.head(2)"
   ]
  },
  {
   "cell_type": "code",
   "execution_count": 10,
   "metadata": {},
   "outputs": [],
   "source": [
    "wow_df = wow_df.set_index(wow_df['Date'])"
   ]
  },
  {
   "cell_type": "code",
   "execution_count": 11,
   "metadata": {},
   "outputs": [],
   "source": [
    "wow_df.index = pd.to_datetime(wow_df.index).to_period('M')\n",
    "wow_df = wow_df.drop(['Date'], axis=1)\n",
    "wow_df=wow_df.reset_index()\n",
    "wow_df = wow_df.rename(columns={'Date':'YearMonth'})"
   ]
  },
  {
   "cell_type": "code",
   "execution_count": 12,
   "metadata": {},
   "outputs": [
    {
     "data": {
      "text/html": [
       "<table class=\"simpletable\">\n",
       "<caption>OLS Regression Results</caption>\n",
       "<tr>\n",
       "  <th>Dep. Variable:</th>          <td>Price</td>      <th>  R-squared:         </th>  <td>   0.987</td>  \n",
       "</tr>\n",
       "<tr>\n",
       "  <th>Model:</th>                   <td>OLS</td>       <th>  Adj. R-squared:    </th>  <td>   0.987</td>  \n",
       "</tr>\n",
       "<tr>\n",
       "  <th>Method:</th>             <td>Least Squares</td>  <th>  F-statistic:       </th>  <td>2.968e+05</td> \n",
       "</tr>\n",
       "<tr>\n",
       "  <th>Date:</th>             <td>Fri, 12 Jan 2018</td> <th>  Prob (F-statistic):</th>   <td>  0.00</td>   \n",
       "</tr>\n",
       "<tr>\n",
       "  <th>Time:</th>                 <td>21:44:49</td>     <th>  Log-Likelihood:    </th> <td>-1.1207e+06</td>\n",
       "</tr>\n",
       "<tr>\n",
       "  <th>No. Observations:</th>      <td>115274</td>      <th>  AIC:               </th>  <td>2.242e+06</td> \n",
       "</tr>\n",
       "<tr>\n",
       "  <th>Df Residuals:</th>          <td>115244</td>      <th>  BIC:               </th>  <td>2.242e+06</td> \n",
       "</tr>\n",
       "<tr>\n",
       "  <th>Df Model:</th>              <td>    29</td>      <th>                     </th>      <td> </td>     \n",
       "</tr>\n",
       "<tr>\n",
       "  <th>Covariance Type:</th>      <td>nonrobust</td>    <th>                     </th>      <td> </td>     \n",
       "</tr>\n",
       "</table>\n",
       "<table class=\"simpletable\">\n",
       "<tr>\n",
       "                   <td></td>                      <th>coef</th>     <th>std err</th>      <th>t</th>      <th>P>|t|</th>  <th>[0.025</th>    <th>0.975]</th>  \n",
       "</tr>\n",
       "<tr>\n",
       "  <th>Intercept</th>                           <td> 2.278e+04</td> <td>   88.390</td> <td>  257.717</td> <td> 0.000</td> <td> 2.26e+04</td> <td>  2.3e+04</td>\n",
       "</tr>\n",
       "<tr>\n",
       "  <th>YearMonth[T.Period('2015-05', 'M')]</th> <td>  -36.2862</td> <td>  111.312</td> <td>   -0.326</td> <td> 0.744</td> <td> -254.456</td> <td>  181.884</td>\n",
       "</tr>\n",
       "<tr>\n",
       "  <th>YearMonth[T.Period('2015-06', 'M')]</th> <td> 1667.2582</td> <td>  109.854</td> <td>   15.177</td> <td> 0.000</td> <td> 1451.946</td> <td> 1882.570</td>\n",
       "</tr>\n",
       "<tr>\n",
       "  <th>YearMonth[T.Period('2015-07', 'M')]</th> <td> 2223.9864</td> <td>  107.317</td> <td>   20.724</td> <td> 0.000</td> <td> 2013.647</td> <td> 2434.326</td>\n",
       "</tr>\n",
       "<tr>\n",
       "  <th>YearMonth[T.Period('2015-08', 'M')]</th> <td> 4103.9760</td> <td>  107.317</td> <td>   38.242</td> <td> 0.000</td> <td> 3893.637</td> <td> 4314.315</td>\n",
       "</tr>\n",
       "<tr>\n",
       "  <th>YearMonth[T.Period('2015-09', 'M')]</th> <td> 6107.2319</td> <td>  108.907</td> <td>   56.077</td> <td> 0.000</td> <td> 5893.775</td> <td> 6320.689</td>\n",
       "</tr>\n",
       "<tr>\n",
       "  <th>YearMonth[T.Period('2015-10', 'M')]</th> <td> 9547.5388</td> <td>  107.812</td> <td>   88.557</td> <td> 0.000</td> <td> 9336.229</td> <td> 9758.848</td>\n",
       "</tr>\n",
       "<tr>\n",
       "  <th>YearMonth[T.Period('2015-11', 'M')]</th> <td> 1.408e+04</td> <td>  107.853</td> <td>  130.568</td> <td> 0.000</td> <td> 1.39e+04</td> <td> 1.43e+04</td>\n",
       "</tr>\n",
       "<tr>\n",
       "  <th>YearMonth[T.Period('2015-12', 'M')]</th> <td> 1.344e+04</td> <td>  107.427</td> <td>  125.079</td> <td> 0.000</td> <td> 1.32e+04</td> <td> 1.36e+04</td>\n",
       "</tr>\n",
       "<tr>\n",
       "  <th>YearMonth[T.Period('2016-01', 'M')]</th> <td> 1.285e+04</td> <td>  107.204</td> <td>  119.909</td> <td> 0.000</td> <td> 1.26e+04</td> <td> 1.31e+04</td>\n",
       "</tr>\n",
       "<tr>\n",
       "  <th>YearMonth[T.Period('2016-02', 'M')]</th> <td> 1.461e+04</td> <td>  108.563</td> <td>  134.618</td> <td> 0.000</td> <td> 1.44e+04</td> <td> 1.48e+04</td>\n",
       "</tr>\n",
       "<tr>\n",
       "  <th>YearMonth[T.Period('2016-03', 'M')]</th> <td> 1.645e+04</td> <td>  109.798</td> <td>  149.834</td> <td> 0.000</td> <td> 1.62e+04</td> <td> 1.67e+04</td>\n",
       "</tr>\n",
       "<tr>\n",
       "  <th>YearMonth[T.Period('2016-04', 'M')]</th> <td> 1.847e+04</td> <td>  107.974</td> <td>  171.071</td> <td> 0.000</td> <td> 1.83e+04</td> <td> 1.87e+04</td>\n",
       "</tr>\n",
       "<tr>\n",
       "  <th>YearMonth[T.Period('2016-05', 'M')]</th> <td> 2.341e+04</td> <td>  107.636</td> <td>  217.484</td> <td> 0.000</td> <td> 2.32e+04</td> <td> 2.36e+04</td>\n",
       "</tr>\n",
       "<tr>\n",
       "  <th>YearMonth[T.Period('2016-06', 'M')]</th> <td> 2.307e+04</td> <td>  107.882</td> <td>  213.853</td> <td> 0.000</td> <td> 2.29e+04</td> <td> 2.33e+04</td>\n",
       "</tr>\n",
       "<tr>\n",
       "  <th>YearMonth[T.Period('2016-07', 'M')]</th> <td> 1.847e+04</td> <td>  108.187</td> <td>  170.715</td> <td> 0.000</td> <td> 1.83e+04</td> <td> 1.87e+04</td>\n",
       "</tr>\n",
       "<tr>\n",
       "  <th>YearMonth[T.Period('2016-08', 'M')]</th> <td> 1.503e+04</td> <td>  118.687</td> <td>  126.594</td> <td> 0.000</td> <td> 1.48e+04</td> <td> 1.53e+04</td>\n",
       "</tr>\n",
       "<tr>\n",
       "  <th>YearMonth[T.Period('2016-09', 'M')]</th> <td> 1.229e+04</td> <td>  108.050</td> <td>  113.712</td> <td> 0.000</td> <td> 1.21e+04</td> <td> 1.25e+04</td>\n",
       "</tr>\n",
       "<tr>\n",
       "  <th>YearMonth[T.Period('2016-10', 'M')]</th> <td> 1.512e+04</td> <td>  107.372</td> <td>  140.830</td> <td> 0.000</td> <td> 1.49e+04</td> <td> 1.53e+04</td>\n",
       "</tr>\n",
       "<tr>\n",
       "  <th>YearMonth[T.Period('2016-11', 'M')]</th> <td> 2.684e+04</td> <td>  110.319</td> <td>  243.288</td> <td> 0.000</td> <td> 2.66e+04</td> <td> 2.71e+04</td>\n",
       "</tr>\n",
       "<tr>\n",
       "  <th>YearMonth[T.Period('2016-12', 'M')]</th> <td> 3.469e+04</td> <td>  110.575</td> <td>  313.691</td> <td> 0.000</td> <td> 3.45e+04</td> <td> 3.49e+04</td>\n",
       "</tr>\n",
       "<tr>\n",
       "  <th>YearMonth[T.Period('2017-01', 'M')]</th> <td> 3.713e+04</td> <td>  107.932</td> <td>  344.047</td> <td> 0.000</td> <td> 3.69e+04</td> <td> 3.73e+04</td>\n",
       "</tr>\n",
       "<tr>\n",
       "  <th>YearMonth[T.Period('2017-02', 'M')]</th> <td> 5.946e+04</td> <td>  109.146</td> <td>  544.756</td> <td> 0.000</td> <td> 5.92e+04</td> <td> 5.97e+04</td>\n",
       "</tr>\n",
       "<tr>\n",
       "  <th>YearMonth[T.Period('2017-03', 'M')]</th> <td>  7.07e+04</td> <td>  108.080</td> <td>  654.118</td> <td> 0.000</td> <td> 7.05e+04</td> <td> 7.09e+04</td>\n",
       "</tr>\n",
       "<tr>\n",
       "  <th>YearMonth[T.Period('2017-04', 'M')]</th> <td> 7.619e+04</td> <td>  108.101</td> <td>  704.831</td> <td> 0.000</td> <td>  7.6e+04</td> <td> 7.64e+04</td>\n",
       "</tr>\n",
       "<tr>\n",
       "  <th>YearMonth[T.Period('2017-05', 'M')]</th> <td> 9.017e+04</td> <td>  107.644</td> <td>  837.685</td> <td> 0.000</td> <td>    9e+04</td> <td> 9.04e+04</td>\n",
       "</tr>\n",
       "<tr>\n",
       "  <th>YearMonth[T.Period('2017-06', 'M')]</th> <td> 1.067e+05</td> <td>  109.360</td> <td>  975.866</td> <td> 0.000</td> <td> 1.07e+05</td> <td> 1.07e+05</td>\n",
       "</tr>\n",
       "<tr>\n",
       "  <th>YearMonth[T.Period('2017-07', 'M')]</th> <td> 1.055e+05</td> <td>  110.766</td> <td>  952.108</td> <td> 0.000</td> <td> 1.05e+05</td> <td> 1.06e+05</td>\n",
       "</tr>\n",
       "<tr>\n",
       "  <th>YearMonth[T.Period('2017-08', 'M')]</th> <td>  1.25e+05</td> <td>  124.169</td> <td> 1006.863</td> <td> 0.000</td> <td> 1.25e+05</td> <td> 1.25e+05</td>\n",
       "</tr>\n",
       "<tr>\n",
       "  <th>YearMonth[T.Period('2017-09', 'M')]</th> <td> 1.351e+05</td> <td>  142.842</td> <td>  945.878</td> <td> 0.000</td> <td> 1.35e+05</td> <td> 1.35e+05</td>\n",
       "</tr>\n",
       "</table>\n",
       "<table class=\"simpletable\">\n",
       "<tr>\n",
       "  <th>Omnibus:</th>       <td>25389.847</td> <th>  Durbin-Watson:     </th>  <td>   0.003</td>  \n",
       "</tr>\n",
       "<tr>\n",
       "  <th>Prob(Omnibus):</th>  <td> 0.000</td>   <th>  Jarque-Bera (JB):  </th> <td>1071366.498</td>\n",
       "</tr>\n",
       "<tr>\n",
       "  <th>Skew:</th>           <td>-0.205</td>   <th>  Prob(JB):          </th>  <td>    0.00</td>  \n",
       "</tr>\n",
       "<tr>\n",
       "  <th>Kurtosis:</th>       <td>17.929</td>   <th>  Cond. No.          </th>  <td>    41.8</td>  \n",
       "</tr>\n",
       "</table>"
      ],
      "text/plain": [
       "<class 'statsmodels.iolib.summary.Summary'>\n",
       "\"\"\"\n",
       "                            OLS Regression Results                            \n",
       "==============================================================================\n",
       "Dep. Variable:                  Price   R-squared:                       0.987\n",
       "Model:                            OLS   Adj. R-squared:                  0.987\n",
       "Method:                 Least Squares   F-statistic:                 2.968e+05\n",
       "Date:                Fri, 12 Jan 2018   Prob (F-statistic):               0.00\n",
       "Time:                        21:44:49   Log-Likelihood:            -1.1207e+06\n",
       "No. Observations:              115274   AIC:                         2.242e+06\n",
       "Df Residuals:                  115244   BIC:                         2.242e+06\n",
       "Df Model:                          29                                         \n",
       "Covariance Type:            nonrobust                                         \n",
       "=======================================================================================================\n",
       "                                          coef    std err          t      P>|t|      [0.025      0.975]\n",
       "-------------------------------------------------------------------------------------------------------\n",
       "Intercept                            2.278e+04     88.390    257.717      0.000    2.26e+04     2.3e+04\n",
       "YearMonth[T.Period('2015-05', 'M')]   -36.2862    111.312     -0.326      0.744    -254.456     181.884\n",
       "YearMonth[T.Period('2015-06', 'M')]  1667.2582    109.854     15.177      0.000    1451.946    1882.570\n",
       "YearMonth[T.Period('2015-07', 'M')]  2223.9864    107.317     20.724      0.000    2013.647    2434.326\n",
       "YearMonth[T.Period('2015-08', 'M')]  4103.9760    107.317     38.242      0.000    3893.637    4314.315\n",
       "YearMonth[T.Period('2015-09', 'M')]  6107.2319    108.907     56.077      0.000    5893.775    6320.689\n",
       "YearMonth[T.Period('2015-10', 'M')]  9547.5388    107.812     88.557      0.000    9336.229    9758.848\n",
       "YearMonth[T.Period('2015-11', 'M')]  1.408e+04    107.853    130.568      0.000    1.39e+04    1.43e+04\n",
       "YearMonth[T.Period('2015-12', 'M')]  1.344e+04    107.427    125.079      0.000    1.32e+04    1.36e+04\n",
       "YearMonth[T.Period('2016-01', 'M')]  1.285e+04    107.204    119.909      0.000    1.26e+04    1.31e+04\n",
       "YearMonth[T.Period('2016-02', 'M')]  1.461e+04    108.563    134.618      0.000    1.44e+04    1.48e+04\n",
       "YearMonth[T.Period('2016-03', 'M')]  1.645e+04    109.798    149.834      0.000    1.62e+04    1.67e+04\n",
       "YearMonth[T.Period('2016-04', 'M')]  1.847e+04    107.974    171.071      0.000    1.83e+04    1.87e+04\n",
       "YearMonth[T.Period('2016-05', 'M')]  2.341e+04    107.636    217.484      0.000    2.32e+04    2.36e+04\n",
       "YearMonth[T.Period('2016-06', 'M')]  2.307e+04    107.882    213.853      0.000    2.29e+04    2.33e+04\n",
       "YearMonth[T.Period('2016-07', 'M')]  1.847e+04    108.187    170.715      0.000    1.83e+04    1.87e+04\n",
       "YearMonth[T.Period('2016-08', 'M')]  1.503e+04    118.687    126.594      0.000    1.48e+04    1.53e+04\n",
       "YearMonth[T.Period('2016-09', 'M')]  1.229e+04    108.050    113.712      0.000    1.21e+04    1.25e+04\n",
       "YearMonth[T.Period('2016-10', 'M')]  1.512e+04    107.372    140.830      0.000    1.49e+04    1.53e+04\n",
       "YearMonth[T.Period('2016-11', 'M')]  2.684e+04    110.319    243.288      0.000    2.66e+04    2.71e+04\n",
       "YearMonth[T.Period('2016-12', 'M')]  3.469e+04    110.575    313.691      0.000    3.45e+04    3.49e+04\n",
       "YearMonth[T.Period('2017-01', 'M')]  3.713e+04    107.932    344.047      0.000    3.69e+04    3.73e+04\n",
       "YearMonth[T.Period('2017-02', 'M')]  5.946e+04    109.146    544.756      0.000    5.92e+04    5.97e+04\n",
       "YearMonth[T.Period('2017-03', 'M')]   7.07e+04    108.080    654.118      0.000    7.05e+04    7.09e+04\n",
       "YearMonth[T.Period('2017-04', 'M')]  7.619e+04    108.101    704.831      0.000     7.6e+04    7.64e+04\n",
       "YearMonth[T.Period('2017-05', 'M')]  9.017e+04    107.644    837.685      0.000       9e+04    9.04e+04\n",
       "YearMonth[T.Period('2017-06', 'M')]  1.067e+05    109.360    975.866      0.000    1.07e+05    1.07e+05\n",
       "YearMonth[T.Period('2017-07', 'M')]  1.055e+05    110.766    952.108      0.000    1.05e+05    1.06e+05\n",
       "YearMonth[T.Period('2017-08', 'M')]   1.25e+05    124.169   1006.863      0.000    1.25e+05    1.25e+05\n",
       "YearMonth[T.Period('2017-09', 'M')]  1.351e+05    142.842    945.878      0.000    1.35e+05    1.35e+05\n",
       "==============================================================================\n",
       "Omnibus:                    25389.847   Durbin-Watson:                   0.003\n",
       "Prob(Omnibus):                  0.000   Jarque-Bera (JB):          1071366.498\n",
       "Skew:                          -0.205   Prob(JB):                         0.00\n",
       "Kurtosis:                      17.929   Cond. No.                         41.8\n",
       "==============================================================================\n",
       "\n",
       "Warnings:\n",
       "[1] Standard Errors assume that the covariance matrix of the errors is correctly specified.\n",
       "\"\"\""
      ]
     },
     "execution_count": 12,
     "metadata": {},
     "output_type": "execute_result"
    }
   ],
   "source": [
    "wow_model = ols('Price~YearMonth', data=wow_df).fit()\n",
    "wow_model.summary()"
   ]
  },
  {
   "cell_type": "code",
   "execution_count": null,
   "metadata": {},
   "outputs": [],
   "source": []
  },
  {
   "cell_type": "markdown",
   "metadata": {},
   "source": [
    "In order to see the spike in prices to determine the inflation point in the economy we can plot the price in relation to time."
   ]
  },
  {
   "cell_type": "code",
   "execution_count": 13,
   "metadata": {},
   "outputs": [
    {
     "data": {
      "image/png": "[encoded data removed]",
      "text/plain": [
       "<matplotlib.figure.Figure at 0x7f14f82b4cc0>"
      ]
     },
     "metadata": {},
     "output_type": "display_data"
    }
   ],
   "source": [
    "inflation_df = wow_df[[\"Price\", 'YearMonth']]\n",
    "inflation_df = wow_df.set_index('YearMonth')\n",
    "plt.style.use('ggplot')\n",
    "x = np.linspace(0, 2, 100)\n",
    "fig = plt.figure(figsize=(12,8))\n",
    "ax = fig.add_subplot(111)\n",
    "inflation_df.plot(ax=ax, fontsize=16)\n",
    "legend = ax.get_legend()\n",
    "legend.prop.set_size(20)"
   ]
  },
  {
   "cell_type": "markdown",
   "metadata": {},
   "source": [
    "As we can see the point where the price has the most steep increase is on February 2017."
   ]
  },
  {
   "cell_type": "code",
   "execution_count": 14,
   "metadata": {},
   "outputs": [
    {
     "data": {
      "text/html": [
       "<table class=\"simpletable\">\n",
       "<caption>OLS Regression Results</caption>\n",
       "<tr>\n",
       "  <th>Dep. Variable:</th>          <td>Price</td>      <th>  R-squared:         </th>  <td>   0.967</td>  \n",
       "</tr>\n",
       "<tr>\n",
       "  <th>Model:</th>                   <td>OLS</td>       <th>  Adj. R-squared:    </th>  <td>   0.967</td>  \n",
       "</tr>\n",
       "<tr>\n",
       "  <th>Method:</th>             <td>Least Squares</td>  <th>  F-statistic:       </th>  <td>1.226e+05</td> \n",
       "</tr>\n",
       "<tr>\n",
       "  <th>Date:</th>             <td>Fri, 12 Jan 2018</td> <th>  Prob (F-statistic):</th>   <td>  0.00</td>   \n",
       "</tr>\n",
       "<tr>\n",
       "  <th>Time:</th>                 <td>21:44:58</td>     <th>  Log-Likelihood:    </th> <td>-7.8069e+05</td>\n",
       "</tr>\n",
       "<tr>\n",
       "  <th>No. Observations:</th>      <td> 87522</td>      <th>  AIC:               </th>  <td>1.561e+06</td> \n",
       "</tr>\n",
       "<tr>\n",
       "  <th>Df Residuals:</th>          <td> 87500</td>      <th>  BIC:               </th>  <td>1.562e+06</td> \n",
       "</tr>\n",
       "<tr>\n",
       "  <th>Df Model:</th>              <td>    21</td>      <th>                     </th>      <td> </td>     \n",
       "</tr>\n",
       "<tr>\n",
       "  <th>Covariance Type:</th>      <td>nonrobust</td>    <th>                     </th>      <td> </td>     \n",
       "</tr>\n",
       "</table>\n",
       "<table class=\"simpletable\">\n",
       "<tr>\n",
       "                   <td></td>                      <th>coef</th>     <th>std err</th>      <th>t</th>      <th>P>|t|</th>  <th>[0.025</th>    <th>0.975]</th>  \n",
       "</tr>\n",
       "<tr>\n",
       "  <th>Intercept</th>                           <td> 2.278e+04</td> <td>   39.621</td> <td>  574.933</td> <td> 0.000</td> <td> 2.27e+04</td> <td> 2.29e+04</td>\n",
       "</tr>\n",
       "<tr>\n",
       "  <th>YearMonth[T.Period('2015-05', 'M')]</th> <td>  -36.2862</td> <td>   49.896</td> <td>   -0.727</td> <td> 0.467</td> <td> -134.083</td> <td>   61.510</td>\n",
       "</tr>\n",
       "<tr>\n",
       "  <th>YearMonth[T.Period('2015-06', 'M')]</th> <td> 1667.2582</td> <td>   49.243</td> <td>   33.858</td> <td> 0.000</td> <td> 1570.743</td> <td> 1763.774</td>\n",
       "</tr>\n",
       "<tr>\n",
       "  <th>YearMonth[T.Period('2015-07', 'M')]</th> <td> 2223.9864</td> <td>   48.106</td> <td>   46.231</td> <td> 0.000</td> <td> 2129.700</td> <td> 2318.273</td>\n",
       "</tr>\n",
       "<tr>\n",
       "  <th>YearMonth[T.Period('2015-08', 'M')]</th> <td> 4103.9760</td> <td>   48.106</td> <td>   85.312</td> <td> 0.000</td> <td> 4009.690</td> <td> 4198.262</td>\n",
       "</tr>\n",
       "<tr>\n",
       "  <th>YearMonth[T.Period('2015-09', 'M')]</th> <td> 6107.2319</td> <td>   48.818</td> <td>  125.101</td> <td> 0.000</td> <td> 6011.548</td> <td> 6202.916</td>\n",
       "</tr>\n",
       "<tr>\n",
       "  <th>YearMonth[T.Period('2015-10', 'M')]</th> <td> 9547.5388</td> <td>   48.327</td> <td>  197.560</td> <td> 0.000</td> <td> 9452.818</td> <td> 9642.260</td>\n",
       "</tr>\n",
       "<tr>\n",
       "  <th>YearMonth[T.Period('2015-11', 'M')]</th> <td> 1.408e+04</td> <td>   48.346</td> <td>  291.280</td> <td> 0.000</td> <td>  1.4e+04</td> <td> 1.42e+04</td>\n",
       "</tr>\n",
       "<tr>\n",
       "  <th>YearMonth[T.Period('2015-12', 'M')]</th> <td> 1.344e+04</td> <td>   48.155</td> <td>  279.034</td> <td> 0.000</td> <td> 1.33e+04</td> <td> 1.35e+04</td>\n",
       "</tr>\n",
       "<tr>\n",
       "  <th>YearMonth[T.Period('2016-01', 'M')]</th> <td> 1.285e+04</td> <td>   48.055</td> <td>  267.501</td> <td> 0.000</td> <td> 1.28e+04</td> <td> 1.29e+04</td>\n",
       "</tr>\n",
       "<tr>\n",
       "  <th>YearMonth[T.Period('2016-02', 'M')]</th> <td> 1.461e+04</td> <td>   48.664</td> <td>  300.315</td> <td> 0.000</td> <td> 1.45e+04</td> <td> 1.47e+04</td>\n",
       "</tr>\n",
       "<tr>\n",
       "  <th>YearMonth[T.Period('2016-03', 'M')]</th> <td> 1.645e+04</td> <td>   49.218</td> <td>  334.259</td> <td> 0.000</td> <td> 1.64e+04</td> <td> 1.65e+04</td>\n",
       "</tr>\n",
       "<tr>\n",
       "  <th>YearMonth[T.Period('2016-04', 'M')]</th> <td> 1.847e+04</td> <td>   48.400</td> <td>  381.636</td> <td> 0.000</td> <td> 1.84e+04</td> <td> 1.86e+04</td>\n",
       "</tr>\n",
       "<tr>\n",
       "  <th>YearMonth[T.Period('2016-05', 'M')]</th> <td> 2.341e+04</td> <td>   48.248</td> <td>  485.177</td> <td> 0.000</td> <td> 2.33e+04</td> <td> 2.35e+04</td>\n",
       "</tr>\n",
       "<tr>\n",
       "  <th>YearMonth[T.Period('2016-06', 'M')]</th> <td> 2.307e+04</td> <td>   48.359</td> <td>  477.076</td> <td> 0.000</td> <td>  2.3e+04</td> <td> 2.32e+04</td>\n",
       "</tr>\n",
       "<tr>\n",
       "  <th>YearMonth[T.Period('2016-07', 'M')]</th> <td> 1.847e+04</td> <td>   48.495</td> <td>  380.841</td> <td> 0.000</td> <td> 1.84e+04</td> <td> 1.86e+04</td>\n",
       "</tr>\n",
       "<tr>\n",
       "  <th>YearMonth[T.Period('2016-08', 'M')]</th> <td> 1.503e+04</td> <td>   53.202</td> <td>  282.415</td> <td> 0.000</td> <td> 1.49e+04</td> <td> 1.51e+04</td>\n",
       "</tr>\n",
       "<tr>\n",
       "  <th>YearMonth[T.Period('2016-09', 'M')]</th> <td> 1.229e+04</td> <td>   48.434</td> <td>  253.675</td> <td> 0.000</td> <td> 1.22e+04</td> <td> 1.24e+04</td>\n",
       "</tr>\n",
       "<tr>\n",
       "  <th>YearMonth[T.Period('2016-10', 'M')]</th> <td> 1.512e+04</td> <td>   48.130</td> <td>  314.173</td> <td> 0.000</td> <td>  1.5e+04</td> <td> 1.52e+04</td>\n",
       "</tr>\n",
       "<tr>\n",
       "  <th>YearMonth[T.Period('2016-11', 'M')]</th> <td> 2.684e+04</td> <td>   49.451</td> <td>  542.743</td> <td> 0.000</td> <td> 2.67e+04</td> <td> 2.69e+04</td>\n",
       "</tr>\n",
       "<tr>\n",
       "  <th>YearMonth[T.Period('2016-12', 'M')]</th> <td> 3.469e+04</td> <td>   49.566</td> <td>  699.802</td> <td> 0.000</td> <td> 3.46e+04</td> <td> 3.48e+04</td>\n",
       "</tr>\n",
       "<tr>\n",
       "  <th>YearMonth[T.Period('2017-01', 'M')]</th> <td> 3.713e+04</td> <td>   48.381</td> <td>  767.521</td> <td> 0.000</td> <td>  3.7e+04</td> <td> 3.72e+04</td>\n",
       "</tr>\n",
       "</table>\n",
       "<table class=\"simpletable\">\n",
       "<tr>\n",
       "  <th>Omnibus:</th>       <td>27068.401</td> <th>  Durbin-Watson:     </th>  <td>   0.005</td> \n",
       "</tr>\n",
       "<tr>\n",
       "  <th>Prob(Omnibus):</th>  <td> 0.000</td>   <th>  Jarque-Bera (JB):  </th> <td>533122.438</td>\n",
       "</tr>\n",
       "<tr>\n",
       "  <th>Skew:</th>           <td> 1.000</td>   <th>  Prob(JB):          </th>  <td>    0.00</td> \n",
       "</tr>\n",
       "<tr>\n",
       "  <th>Kurtosis:</th>       <td>14.924</td>   <th>  Cond. No.          </th>  <td>    31.4</td> \n",
       "</tr>\n",
       "</table>"
      ],
      "text/plain": [
       "<class 'statsmodels.iolib.summary.Summary'>\n",
       "\"\"\"\n",
       "                            OLS Regression Results                            \n",
       "==============================================================================\n",
       "Dep. Variable:                  Price   R-squared:                       0.967\n",
       "Model:                            OLS   Adj. R-squared:                  0.967\n",
       "Method:                 Least Squares   F-statistic:                 1.226e+05\n",
       "Date:                Fri, 12 Jan 2018   Prob (F-statistic):               0.00\n",
       "Time:                        21:44:58   Log-Likelihood:            -7.8069e+05\n",
       "No. Observations:               87522   AIC:                         1.561e+06\n",
       "Df Residuals:                   87500   BIC:                         1.562e+06\n",
       "Df Model:                          21                                         \n",
       "Covariance Type:            nonrobust                                         \n",
       "=======================================================================================================\n",
       "                                          coef    std err          t      P>|t|      [0.025      0.975]\n",
       "-------------------------------------------------------------------------------------------------------\n",
       "Intercept                            2.278e+04     39.621    574.933      0.000    2.27e+04    2.29e+04\n",
       "YearMonth[T.Period('2015-05', 'M')]   -36.2862     49.896     -0.727      0.467    -134.083      61.510\n",
       "YearMonth[T.Period('2015-06', 'M')]  1667.2582     49.243     33.858      0.000    1570.743    1763.774\n",
       "YearMonth[T.Period('2015-07', 'M')]  2223.9864     48.106     46.231      0.000    2129.700    2318.273\n",
       "YearMonth[T.Period('2015-08', 'M')]  4103.9760     48.106     85.312      0.000    4009.690    4198.262\n",
       "YearMonth[T.Period('2015-09', 'M')]  6107.2319     48.818    125.101      0.000    6011.548    6202.916\n",
       "YearMonth[T.Period('2015-10', 'M')]  9547.5388     48.327    197.560      0.000    9452.818    9642.260\n",
       "YearMonth[T.Period('2015-11', 'M')]  1.408e+04     48.346    291.280      0.000     1.4e+04    1.42e+04\n",
       "YearMonth[T.Period('2015-12', 'M')]  1.344e+04     48.155    279.034      0.000    1.33e+04    1.35e+04\n",
       "YearMonth[T.Period('2016-01', 'M')]  1.285e+04     48.055    267.501      0.000    1.28e+04    1.29e+04\n",
       "YearMonth[T.Period('2016-02', 'M')]  1.461e+04     48.664    300.315      0.000    1.45e+04    1.47e+04\n",
       "YearMonth[T.Period('2016-03', 'M')]  1.645e+04     49.218    334.259      0.000    1.64e+04    1.65e+04\n",
       "YearMonth[T.Period('2016-04', 'M')]  1.847e+04     48.400    381.636      0.000    1.84e+04    1.86e+04\n",
       "YearMonth[T.Period('2016-05', 'M')]  2.341e+04     48.248    485.177      0.000    2.33e+04    2.35e+04\n",
       "YearMonth[T.Period('2016-06', 'M')]  2.307e+04     48.359    477.076      0.000     2.3e+04    2.32e+04\n",
       "YearMonth[T.Period('2016-07', 'M')]  1.847e+04     48.495    380.841      0.000    1.84e+04    1.86e+04\n",
       "YearMonth[T.Period('2016-08', 'M')]  1.503e+04     53.202    282.415      0.000    1.49e+04    1.51e+04\n",
       "YearMonth[T.Period('2016-09', 'M')]  1.229e+04     48.434    253.675      0.000    1.22e+04    1.24e+04\n",
       "YearMonth[T.Period('2016-10', 'M')]  1.512e+04     48.130    314.173      0.000     1.5e+04    1.52e+04\n",
       "YearMonth[T.Period('2016-11', 'M')]  2.684e+04     49.451    542.743      0.000    2.67e+04    2.69e+04\n",
       "YearMonth[T.Period('2016-12', 'M')]  3.469e+04     49.566    699.802      0.000    3.46e+04    3.48e+04\n",
       "YearMonth[T.Period('2017-01', 'M')]  3.713e+04     48.381    767.521      0.000     3.7e+04    3.72e+04\n",
       "==============================================================================\n",
       "Omnibus:                    27068.401   Durbin-Watson:                   0.005\n",
       "Prob(Omnibus):                  0.000   Jarque-Bera (JB):           533122.438\n",
       "Skew:                           1.000   Prob(JB):                         0.00\n",
       "Kurtosis:                      14.924   Cond. No.                         31.4\n",
       "==============================================================================\n",
       "\n",
       "Warnings:\n",
       "[1] Standard Errors assume that the covariance matrix of the errors is correctly specified.\n",
       "\"\"\""
      ]
     },
     "execution_count": 14,
     "metadata": {},
     "output_type": "execute_result"
    }
   ],
   "source": [
    "wow_df_before = wow_df[wow_df.YearMonth<pd.Period('2017-02')]\n",
    "wow_before_model =  ols('Price~YearMonth', data=wow_df_before).fit()\n",
    "wow_before_model.summary()"
   ]
  },
  {
   "cell_type": "code",
   "execution_count": 15,
   "metadata": {},
   "outputs": [
    {
     "data": {
      "text/html": [
       "<table class=\"simpletable\">\n",
       "<caption>OLS Regression Results</caption>\n",
       "<tr>\n",
       "  <th>Dep. Variable:</th>          <td>Price</td>      <th>  R-squared:         </th>  <td>   0.893</td>  \n",
       "</tr>\n",
       "<tr>\n",
       "  <th>Model:</th>                   <td>OLS</td>       <th>  Adj. R-squared:    </th>  <td>   0.893</td>  \n",
       "</tr>\n",
       "<tr>\n",
       "  <th>Method:</th>             <td>Least Squares</td>  <th>  F-statistic:       </th>  <td>3.316e+04</td> \n",
       "</tr>\n",
       "<tr>\n",
       "  <th>Date:</th>             <td>Fri, 12 Jan 2018</td> <th>  Prob (F-statistic):</th>   <td>  0.00</td>   \n",
       "</tr>\n",
       "<tr>\n",
       "  <th>Time:</th>                 <td>21:45:00</td>     <th>  Log-Likelihood:    </th> <td>-2.8728e+05</td>\n",
       "</tr>\n",
       "<tr>\n",
       "  <th>No. Observations:</th>      <td> 27752</td>      <th>  AIC:               </th>  <td>5.746e+05</td> \n",
       "</tr>\n",
       "<tr>\n",
       "  <th>Df Residuals:</th>          <td> 27744</td>      <th>  BIC:               </th>  <td>5.746e+05</td> \n",
       "</tr>\n",
       "<tr>\n",
       "  <th>Df Model:</th>              <td>     7</td>      <th>                     </th>      <td> </td>     \n",
       "</tr>\n",
       "<tr>\n",
       "  <th>Covariance Type:</th>      <td>nonrobust</td>    <th>                     </th>      <td> </td>     \n",
       "</tr>\n",
       "</table>\n",
       "<table class=\"simpletable\">\n",
       "<tr>\n",
       "                   <td></td>                      <th>coef</th>     <th>std err</th>      <th>t</th>      <th>P>|t|</th>  <th>[0.025</th>    <th>0.975]</th>  \n",
       "</tr>\n",
       "<tr>\n",
       "  <th>Intercept</th>                           <td> 8.224e+04</td> <td>  120.134</td> <td>  684.547</td> <td> 0.000</td> <td>  8.2e+04</td> <td> 8.25e+04</td>\n",
       "</tr>\n",
       "<tr>\n",
       "  <th>YearMonth[T.Period('2017-03', 'M')]</th> <td> 1.124e+04</td> <td>  167.480</td> <td>   67.108</td> <td> 0.000</td> <td> 1.09e+04</td> <td> 1.16e+04</td>\n",
       "</tr>\n",
       "<tr>\n",
       "  <th>YearMonth[T.Period('2017-04', 'M')]</th> <td> 1.674e+04</td> <td>  167.528</td> <td>   99.896</td> <td> 0.000</td> <td> 1.64e+04</td> <td> 1.71e+04</td>\n",
       "</tr>\n",
       "<tr>\n",
       "  <th>YearMonth[T.Period('2017-05', 'M')]</th> <td> 3.071e+04</td> <td>  166.489</td> <td>  184.481</td> <td> 0.000</td> <td> 3.04e+04</td> <td>  3.1e+04</td>\n",
       "</tr>\n",
       "<tr>\n",
       "  <th>YearMonth[T.Period('2017-06', 'M')]</th> <td> 4.726e+04</td> <td>  170.381</td> <td>  277.398</td> <td> 0.000</td> <td> 4.69e+04</td> <td> 4.76e+04</td>\n",
       "</tr>\n",
       "<tr>\n",
       "  <th>YearMonth[T.Period('2017-07', 'M')]</th> <td>   4.6e+04</td> <td>  173.547</td> <td>  265.076</td> <td> 0.000</td> <td> 4.57e+04</td> <td> 4.63e+04</td>\n",
       "</tr>\n",
       "<tr>\n",
       "  <th>YearMonth[T.Period('2017-08', 'M')]</th> <td> 6.556e+04</td> <td>  202.986</td> <td>  322.996</td> <td> 0.000</td> <td> 6.52e+04</td> <td>  6.6e+04</td>\n",
       "</tr>\n",
       "<tr>\n",
       "  <th>YearMonth[T.Period('2017-09', 'M')]</th> <td> 7.565e+04</td> <td>  242.393</td> <td>  312.111</td> <td> 0.000</td> <td> 7.52e+04</td> <td> 7.61e+04</td>\n",
       "</tr>\n",
       "</table>\n",
       "<table class=\"simpletable\">\n",
       "<tr>\n",
       "  <th>Omnibus:</th>       <td>2002.763</td> <th>  Durbin-Watson:     </th> <td>   0.002</td>\n",
       "</tr>\n",
       "<tr>\n",
       "  <th>Prob(Omnibus):</th>  <td> 0.000</td>  <th>  Jarque-Bera (JB):  </th> <td>9576.507</td>\n",
       "</tr>\n",
       "<tr>\n",
       "  <th>Skew:</th>           <td>-0.172</td>  <th>  Prob(JB):          </th> <td>    0.00</td>\n",
       "</tr>\n",
       "<tr>\n",
       "  <th>Kurtosis:</th>       <td> 5.857</td>  <th>  Cond. No.          </th> <td>    8.53</td>\n",
       "</tr>\n",
       "</table>"
      ],
      "text/plain": [
       "<class 'statsmodels.iolib.summary.Summary'>\n",
       "\"\"\"\n",
       "                            OLS Regression Results                            \n",
       "==============================================================================\n",
       "Dep. Variable:                  Price   R-squared:                       0.893\n",
       "Model:                            OLS   Adj. R-squared:                  0.893\n",
       "Method:                 Least Squares   F-statistic:                 3.316e+04\n",
       "Date:                Fri, 12 Jan 2018   Prob (F-statistic):               0.00\n",
       "Time:                        21:45:00   Log-Likelihood:            -2.8728e+05\n",
       "No. Observations:               27752   AIC:                         5.746e+05\n",
       "Df Residuals:                   27744   BIC:                         5.746e+05\n",
       "Df Model:                           7                                         \n",
       "Covariance Type:            nonrobust                                         \n",
       "=======================================================================================================\n",
       "                                          coef    std err          t      P>|t|      [0.025      0.975]\n",
       "-------------------------------------------------------------------------------------------------------\n",
       "Intercept                            8.224e+04    120.134    684.547      0.000     8.2e+04    8.25e+04\n",
       "YearMonth[T.Period('2017-03', 'M')]  1.124e+04    167.480     67.108      0.000    1.09e+04    1.16e+04\n",
       "YearMonth[T.Period('2017-04', 'M')]  1.674e+04    167.528     99.896      0.000    1.64e+04    1.71e+04\n",
       "YearMonth[T.Period('2017-05', 'M')]  3.071e+04    166.489    184.481      0.000    3.04e+04     3.1e+04\n",
       "YearMonth[T.Period('2017-06', 'M')]  4.726e+04    170.381    277.398      0.000    4.69e+04    4.76e+04\n",
       "YearMonth[T.Period('2017-07', 'M')]    4.6e+04    173.547    265.076      0.000    4.57e+04    4.63e+04\n",
       "YearMonth[T.Period('2017-08', 'M')]  6.556e+04    202.986    322.996      0.000    6.52e+04     6.6e+04\n",
       "YearMonth[T.Period('2017-09', 'M')]  7.565e+04    242.393    312.111      0.000    7.52e+04    7.61e+04\n",
       "==============================================================================\n",
       "Omnibus:                     2002.763   Durbin-Watson:                   0.002\n",
       "Prob(Omnibus):                  0.000   Jarque-Bera (JB):             9576.507\n",
       "Skew:                          -0.172   Prob(JB):                         0.00\n",
       "Kurtosis:                       5.857   Cond. No.                         8.53\n",
       "==============================================================================\n",
       "\n",
       "Warnings:\n",
       "[1] Standard Errors assume that the covariance matrix of the errors is correctly specified.\n",
       "\"\"\""
      ]
     },
     "execution_count": 15,
     "metadata": {},
     "output_type": "execute_result"
    }
   ],
   "source": [
    "wow_df_after = wow_df[wow_df.YearMonth>=pd.Period('2017-02')]\n",
    "wow_after_model =  ols('Price~YearMonth', data=wow_df_after).fit()\n",
    "wow_after_model.summary()"
   ]
  },
  {
   "cell_type": "markdown",
   "metadata": {},
   "source": [
    "# Question 3"
   ]
  },
  {
   "cell_type": "code",
   "execution_count": 16,
   "metadata": {},
   "outputs": [],
   "source": [
    "credit_df = pd.read_csv('data/creditcard.csv')"
   ]
  },
  {
   "cell_type": "code",
   "execution_count": 17,
   "metadata": {},
   "outputs": [],
   "source": [
    "formula= 'Class~V1+V2+V3+V4+V5+V6+V7+V8+V9+V10+V11+V12+V13+V14+V15+V16+V17+V18+V19+V20+V21+V22+V23+V24+V25+V26+V27+V28+Amount'"
   ]
  },
  {
   "cell_type": "code",
   "execution_count": 18,
   "metadata": {},
   "outputs": [],
   "source": [
    "credit_labels = credit_df['Class']"
   ]
  },
  {
   "cell_type": "code",
   "execution_count": 19,
   "metadata": {},
   "outputs": [
    {
     "name": "stdout",
     "output_type": "stream",
     "text": [
      "Optimization terminated successfully.\n",
      "         Current function value: 0.003919\n",
      "         Iterations 13\n"
     ]
    },
    {
     "data": {
      "text/html": [
       "<table class=\"simpletable\">\n",
       "<caption>Logit Regression Results</caption>\n",
       "<tr>\n",
       "  <th>Dep. Variable:</th>       <td>Class</td>      <th>  No. Observations:  </th>  <td>284807</td> \n",
       "</tr>\n",
       "<tr>\n",
       "  <th>Model:</th>               <td>Logit</td>      <th>  Df Residuals:      </th>  <td>284777</td> \n",
       "</tr>\n",
       "<tr>\n",
       "  <th>Method:</th>               <td>MLE</td>       <th>  Df Model:          </th>  <td>    29</td> \n",
       "</tr>\n",
       "<tr>\n",
       "  <th>Date:</th>          <td>Fri, 12 Jan 2018</td> <th>  Pseudo R-squ.:     </th>  <td>0.6918</td> \n",
       "</tr>\n",
       "<tr>\n",
       "  <th>Time:</th>              <td>21:45:08</td>     <th>  Log-Likelihood:    </th> <td> -1116.1</td>\n",
       "</tr>\n",
       "<tr>\n",
       "  <th>converged:</th>           <td>True</td>       <th>  LL-Null:           </th> <td> -3621.2</td>\n",
       "</tr>\n",
       "<tr>\n",
       "  <th> </th>                      <td> </td>        <th>  LLR p-value:       </th>  <td> 0.000</td> \n",
       "</tr>\n",
       "</table>\n",
       "<table class=\"simpletable\">\n",
       "<tr>\n",
       "      <td></td>         <th>coef</th>     <th>std err</th>      <th>z</th>      <th>P>|z|</th>  <th>[0.025</th>    <th>0.975]</th>  \n",
       "</tr>\n",
       "<tr>\n",
       "  <th>Intercept</th> <td>   -8.7304</td> <td>    0.151</td> <td>  -57.654</td> <td> 0.000</td> <td>   -9.027</td> <td>   -8.434</td>\n",
       "</tr>\n",
       "<tr>\n",
       "  <th>V1</th>        <td>    0.0837</td> <td>    0.042</td> <td>    2.016</td> <td> 0.044</td> <td>    0.002</td> <td>    0.165</td>\n",
       "</tr>\n",
       "<tr>\n",
       "  <th>V2</th>        <td>    0.0130</td> <td>    0.058</td> <td>    0.226</td> <td> 0.822</td> <td>   -0.100</td> <td>    0.126</td>\n",
       "</tr>\n",
       "<tr>\n",
       "  <th>V3</th>        <td>    0.0384</td> <td>    0.045</td> <td>    0.845</td> <td> 0.398</td> <td>   -0.051</td> <td>    0.128</td>\n",
       "</tr>\n",
       "<tr>\n",
       "  <th>V4</th>        <td>    0.7059</td> <td>    0.074</td> <td>    9.578</td> <td> 0.000</td> <td>    0.561</td> <td>    0.850</td>\n",
       "</tr>\n",
       "<tr>\n",
       "  <th>V5</th>        <td>    0.1020</td> <td>    0.065</td> <td>    1.559</td> <td> 0.119</td> <td>   -0.026</td> <td>    0.230</td>\n",
       "</tr>\n",
       "<tr>\n",
       "  <th>V6</th>        <td>   -0.1229</td> <td>    0.076</td> <td>   -1.621</td> <td> 0.105</td> <td>   -0.271</td> <td>    0.026</td>\n",
       "</tr>\n",
       "<tr>\n",
       "  <th>V7</th>        <td>   -0.1107</td> <td>    0.066</td> <td>   -1.674</td> <td> 0.094</td> <td>   -0.240</td> <td>    0.019</td>\n",
       "</tr>\n",
       "<tr>\n",
       "  <th>V8</th>        <td>   -0.1683</td> <td>    0.031</td> <td>   -5.511</td> <td> 0.000</td> <td>   -0.228</td> <td>   -0.108</td>\n",
       "</tr>\n",
       "<tr>\n",
       "  <th>V9</th>        <td>   -0.2609</td> <td>    0.110</td> <td>   -2.375</td> <td> 0.018</td> <td>   -0.476</td> <td>   -0.046</td>\n",
       "</tr>\n",
       "<tr>\n",
       "  <th>V10</th>       <td>   -0.8188</td> <td>    0.097</td> <td>   -8.439</td> <td> 0.000</td> <td>   -1.009</td> <td>   -0.629</td>\n",
       "</tr>\n",
       "<tr>\n",
       "  <th>V11</th>       <td>   -0.0123</td> <td>    0.076</td> <td>   -0.162</td> <td> 0.871</td> <td>   -0.161</td> <td>    0.137</td>\n",
       "</tr>\n",
       "<tr>\n",
       "  <th>V12</th>       <td>    0.0693</td> <td>    0.086</td> <td>    0.805</td> <td> 0.421</td> <td>   -0.099</td> <td>    0.238</td>\n",
       "</tr>\n",
       "<tr>\n",
       "  <th>V13</th>       <td>   -0.3200</td> <td>    0.081</td> <td>   -3.937</td> <td> 0.000</td> <td>   -0.479</td> <td>   -0.161</td>\n",
       "</tr>\n",
       "<tr>\n",
       "  <th>V14</th>       <td>   -0.5451</td> <td>    0.062</td> <td>   -8.843</td> <td> 0.000</td> <td>   -0.666</td> <td>   -0.424</td>\n",
       "</tr>\n",
       "<tr>\n",
       "  <th>V15</th>       <td>   -0.0853</td> <td>    0.084</td> <td>   -1.016</td> <td> 0.310</td> <td>   -0.250</td> <td>    0.079</td>\n",
       "</tr>\n",
       "<tr>\n",
       "  <th>V16</th>       <td>   -0.1936</td> <td>    0.125</td> <td>   -1.551</td> <td> 0.121</td> <td>   -0.438</td> <td>    0.051</td>\n",
       "</tr>\n",
       "<tr>\n",
       "  <th>V17</th>       <td>    0.0024</td> <td>    0.069</td> <td>    0.035</td> <td> 0.972</td> <td>   -0.132</td> <td>    0.137</td>\n",
       "</tr>\n",
       "<tr>\n",
       "  <th>V18</th>       <td>   -0.0373</td> <td>    0.128</td> <td>   -0.292</td> <td> 0.770</td> <td>   -0.287</td> <td>    0.213</td>\n",
       "</tr>\n",
       "<tr>\n",
       "  <th>V19</th>       <td>    0.0764</td> <td>    0.096</td> <td>    0.797</td> <td> 0.425</td> <td>   -0.111</td> <td>    0.264</td>\n",
       "</tr>\n",
       "<tr>\n",
       "  <th>V20</th>       <td>   -0.4473</td> <td>    0.082</td> <td>   -5.488</td> <td> 0.000</td> <td>   -0.607</td> <td>   -0.288</td>\n",
       "</tr>\n",
       "<tr>\n",
       "  <th>V21</th>       <td>    0.3675</td> <td>    0.058</td> <td>    6.334</td> <td> 0.000</td> <td>    0.254</td> <td>    0.481</td>\n",
       "</tr>\n",
       "<tr>\n",
       "  <th>V22</th>       <td>    0.5787</td> <td>    0.128</td> <td>    4.514</td> <td> 0.000</td> <td>    0.327</td> <td>    0.830</td>\n",
       "</tr>\n",
       "<tr>\n",
       "  <th>V23</th>       <td>   -0.0901</td> <td>    0.057</td> <td>   -1.568</td> <td> 0.117</td> <td>   -0.203</td> <td>    0.023</td>\n",
       "</tr>\n",
       "<tr>\n",
       "  <th>V24</th>       <td>    0.1384</td> <td>    0.149</td> <td>    0.928</td> <td> 0.353</td> <td>   -0.154</td> <td>    0.431</td>\n",
       "</tr>\n",
       "<tr>\n",
       "  <th>V25</th>       <td>   -0.0449</td> <td>    0.129</td> <td>   -0.349</td> <td> 0.727</td> <td>   -0.297</td> <td>    0.207</td>\n",
       "</tr>\n",
       "<tr>\n",
       "  <th>V26</th>       <td>   -0.0034</td> <td>    0.189</td> <td>   -0.018</td> <td> 0.986</td> <td>   -0.374</td> <td>    0.368</td>\n",
       "</tr>\n",
       "<tr>\n",
       "  <th>V27</th>       <td>   -0.8052</td> <td>    0.123</td> <td>   -6.568</td> <td> 0.000</td> <td>   -1.045</td> <td>   -0.565</td>\n",
       "</tr>\n",
       "<tr>\n",
       "  <th>V28</th>       <td>   -0.2943</td> <td>    0.089</td> <td>   -3.295</td> <td> 0.001</td> <td>   -0.469</td> <td>   -0.119</td>\n",
       "</tr>\n",
       "<tr>\n",
       "  <th>Amount</th>    <td>    0.0009</td> <td>    0.000</td> <td>    2.458</td> <td> 0.014</td> <td>    0.000</td> <td>    0.002</td>\n",
       "</tr>\n",
       "</table>"
      ],
      "text/plain": [
       "<class 'statsmodels.iolib.summary.Summary'>\n",
       "\"\"\"\n",
       "                           Logit Regression Results                           \n",
       "==============================================================================\n",
       "Dep. Variable:                  Class   No. Observations:               284807\n",
       "Model:                          Logit   Df Residuals:                   284777\n",
       "Method:                           MLE   Df Model:                           29\n",
       "Date:                Fri, 12 Jan 2018   Pseudo R-squ.:                  0.6918\n",
       "Time:                        21:45:08   Log-Likelihood:                -1116.1\n",
       "converged:                       True   LL-Null:                       -3621.2\n",
       "                                        LLR p-value:                     0.000\n",
       "==============================================================================\n",
       "                 coef    std err          z      P>|z|      [0.025      0.975]\n",
       "------------------------------------------------------------------------------\n",
       "Intercept     -8.7304      0.151    -57.654      0.000      -9.027      -8.434\n",
       "V1             0.0837      0.042      2.016      0.044       0.002       0.165\n",
       "V2             0.0130      0.058      0.226      0.822      -0.100       0.126\n",
       "V3             0.0384      0.045      0.845      0.398      -0.051       0.128\n",
       "V4             0.7059      0.074      9.578      0.000       0.561       0.850\n",
       "V5             0.1020      0.065      1.559      0.119      -0.026       0.230\n",
       "V6            -0.1229      0.076     -1.621      0.105      -0.271       0.026\n",
       "V7            -0.1107      0.066     -1.674      0.094      -0.240       0.019\n",
       "V8            -0.1683      0.031     -5.511      0.000      -0.228      -0.108\n",
       "V9            -0.2609      0.110     -2.375      0.018      -0.476      -0.046\n",
       "V10           -0.8188      0.097     -8.439      0.000      -1.009      -0.629\n",
       "V11           -0.0123      0.076     -0.162      0.871      -0.161       0.137\n",
       "V12            0.0693      0.086      0.805      0.421      -0.099       0.238\n",
       "V13           -0.3200      0.081     -3.937      0.000      -0.479      -0.161\n",
       "V14           -0.5451      0.062     -8.843      0.000      -0.666      -0.424\n",
       "V15           -0.0853      0.084     -1.016      0.310      -0.250       0.079\n",
       "V16           -0.1936      0.125     -1.551      0.121      -0.438       0.051\n",
       "V17            0.0024      0.069      0.035      0.972      -0.132       0.137\n",
       "V18           -0.0373      0.128     -0.292      0.770      -0.287       0.213\n",
       "V19            0.0764      0.096      0.797      0.425      -0.111       0.264\n",
       "V20           -0.4473      0.082     -5.488      0.000      -0.607      -0.288\n",
       "V21            0.3675      0.058      6.334      0.000       0.254       0.481\n",
       "V22            0.5787      0.128      4.514      0.000       0.327       0.830\n",
       "V23           -0.0901      0.057     -1.568      0.117      -0.203       0.023\n",
       "V24            0.1384      0.149      0.928      0.353      -0.154       0.431\n",
       "V25           -0.0449      0.129     -0.349      0.727      -0.297       0.207\n",
       "V26           -0.0034      0.189     -0.018      0.986      -0.374       0.368\n",
       "V27           -0.8052      0.123     -6.568      0.000      -1.045      -0.565\n",
       "V28           -0.2943      0.089     -3.295      0.001      -0.469      -0.119\n",
       "Amount         0.0009      0.000      2.458      0.014       0.000       0.002\n",
       "==============================================================================\n",
       "\n",
       "Possibly complete quasi-separation: A fraction 0.31 of observations can be\n",
       "perfectly predicted. This might indicate that there is complete\n",
       "quasi-separation. In this case some parameters will not be identified.\n",
       "\"\"\""
      ]
     },
     "execution_count": 19,
     "metadata": {},
     "output_type": "execute_result"
    }
   ],
   "source": [
    "credit_model = logit(formula=formula, data=credit_df).fit()\n",
    "credit_model.summary()"
   ]
  },
  {
   "cell_type": "code",
   "execution_count": 20,
   "metadata": {},
   "outputs": [],
   "source": [
    "y_pred = pd.DataFrame(np.exp(credit_model.fittedvalues), columns=['fitted_values'])\n",
    "y_pred['label']= np.where(y_pred['fitted_values']>0.5, 1, 0)\n",
    "del(y_pred['fitted_values'])"
   ]
  },
  {
   "cell_type": "code",
   "execution_count": 21,
   "metadata": {},
   "outputs": [
    {
     "name": "stdout",
     "output_type": "stream",
     "text": [
      "accuracy score:  0.999227547075739\n"
     ]
    }
   ],
   "source": [
    "print('accuracy score: ' , accuracy_score(credit_df['Class'], y_pred['label']))"
   ]
  },
  {
   "cell_type": "code",
   "execution_count": 22,
   "metadata": {},
   "outputs": [
    {
     "name": "stdout",
     "output_type": "stream",
     "text": [
      "Class Inbalance: \n"
     ]
    },
    {
     "data": {
      "text/plain": [
       "0    284315\n",
       "1       492\n",
       "Name: Class, dtype: int64"
      ]
     },
     "execution_count": 22,
     "metadata": {},
     "output_type": "execute_result"
    }
   ],
   "source": [
    "print('Class Inbalance: ')\n",
    "credit_df.Class.value_counts()"
   ]
  },
  {
   "cell_type": "code",
   "execution_count": 23,
   "metadata": {},
   "outputs": [],
   "source": [
    "y_pred = y_pred.as_matrix()\n",
    "credit_labels =credit_labels.as_matrix()"
   ]
  },
  {
   "cell_type": "code",
   "execution_count": 85,
   "metadata": {},
   "outputs": [],
   "source": [
    "def precision_recall(true_labels, predicted):\n",
    "# calculate true positives, false positives, true negatives, false negatives\n",
    "    tr_pos=0\n",
    "    f_neg=0\n",
    "    tr_neg=0\n",
    "    f_pos=0\n",
    "\n",
    "    for i in range(len(true_labels)):\n",
    "        if (true_labels[i]==1 and predicted[i]==1):\n",
    "            tr_pos += 1\n",
    "        elif (true_labels[i]==1 and predicted[i]==0):\n",
    "            f_neg += 1\n",
    "        elif (true_labels[i]==0 and predicted[i]==0):\n",
    "            tr_neg += 1\n",
    "        elif (true_labels[i]==0 and predicted[i]==1):\n",
    "            f_pos += 1\n",
    "    print('Precision score for positive class(fraud): {0} '.format( tr_pos/(tr_pos+f_pos)))\n",
    "    print('Precision score for negative class(non-fraud): {0} '.format( tr_neg/(tr_neg+f_neg)))\n",
    "    print('Recall score for positive class(fraud): {0}'.format(tr_pos/(tr_pos+f_neg)))\n",
    "    print('Recall score for negative class(non-fraud): {0}'.format(tr_neg/(tr_neg+f_pos)))"
   ]
  },
  {
   "cell_type": "code",
   "execution_count": 86,
   "metadata": {},
   "outputs": [
    {
     "name": "stdout",
     "output_type": "stream",
     "text": [
      "Precision score for positive class(fraud): 0.8417085427135679 \n",
      "Precision score for negative class(non-fraud): 0.9994479780878945 \n",
      "Recall score for positive class(fraud): 0.6808943089430894\n",
      "Recall score for negative class(non-fraud): 0.9997784147864165\n"
     ]
    }
   ],
   "source": [
    "precision_recall(credit_labels, y_pred)"
   ]
  },
  {
   "cell_type": "code",
   "execution_count": 72,
   "metadata": {},
   "outputs": [
    {
     "name": "stdout",
     "output_type": "stream",
     "text": [
      "Frauds vs Non-Frauds :  492 / 284315\n"
     ]
    }
   ],
   "source": [
    "credit_fraud = len(credit_df[credit_df.Class == 1])\n",
    "credit_non_fraud = len(credit_df[credit_df.Class==0])\n",
    "print('Frauds vs Non-Frauds : ', credit_fraud, '/', credit_non_fraud)"
   ]
  },
  {
   "cell_type": "code",
   "execution_count": 73,
   "metadata": {},
   "outputs": [],
   "source": [
    "fraud_indices = list(credit_df[credit_df.Class == 1].index)\n",
    "non_fraud_indices = list(credit_df[credit_df.Class==0].index)"
   ]
  },
  {
   "cell_type": "code",
   "execution_count": 74,
   "metadata": {},
   "outputs": [],
   "source": [
    "# randomly choose a sample of non fraud indices equal to the fraud indices to balance the set\n",
    "balance_indices = np.random.choice(non_fraud_indices, credit_fraud, replace = False)\n",
    "balance_indices = np.array(balance_indices)"
   ]
  },
  {
   "cell_type": "code",
   "execution_count": 75,
   "metadata": {},
   "outputs": [],
   "source": [
    "fraud_indices = np.array(fraud_indices)\n",
    "balanced_set = np.concatenate([fraud_indices, balance_indices])\n",
    "new_credit_df = credit_df.iloc[balanced_set,:]\n",
    "new_credit_df=new_credit_df.sample(frac=1)\n",
    "new_credit_df.Class.value_counts()"
   ]
  },
  {
   "cell_type": "code",
   "execution_count": 79,
   "metadata": {},
   "outputs": [],
   "source": [
    "new_credit_labels = new_credit_df['Class']"
   ]
  },
  {
   "cell_type": "code",
   "execution_count": 80,
   "metadata": {},
   "outputs": [
    {
     "name": "stdout",
     "output_type": "stream",
     "text": [
      "Warning: Maximum number of iterations has been exceeded.\n",
      "         Current function value: 0.107914\n",
      "         Iterations: 35\n"
     ]
    },
    {
     "name": "stderr",
     "output_type": "stream",
     "text": [
      "/home/vasia/.local/lib/python3.5/site-packages/statsmodels/base/model.py:496: ConvergenceWarning: Maximum Likelihood optimization failed to converge. Check mle_retvals\n",
      "  \"Check mle_retvals\", ConvergenceWarning)\n"
     ]
    },
    {
     "data": {
      "text/html": [
       "<table class=\"simpletable\">\n",
       "<caption>Logit Regression Results</caption>\n",
       "<tr>\n",
       "  <th>Dep. Variable:</th>       <td>Class</td>      <th>  No. Observations:  </th>   <td>   984</td>  \n",
       "</tr>\n",
       "<tr>\n",
       "  <th>Model:</th>               <td>Logit</td>      <th>  Df Residuals:      </th>   <td>   954</td>  \n",
       "</tr>\n",
       "<tr>\n",
       "  <th>Method:</th>               <td>MLE</td>       <th>  Df Model:          </th>   <td>    29</td>  \n",
       "</tr>\n",
       "<tr>\n",
       "  <th>Date:</th>          <td>Fri, 12 Jan 2018</td> <th>  Pseudo R-squ.:     </th>   <td>0.8443</td>  \n",
       "</tr>\n",
       "<tr>\n",
       "  <th>Time:</th>              <td>22:43:10</td>     <th>  Log-Likelihood:    </th>  <td> -106.19</td> \n",
       "</tr>\n",
       "<tr>\n",
       "  <th>converged:</th>           <td>False</td>      <th>  LL-Null:           </th>  <td> -682.06</td> \n",
       "</tr>\n",
       "<tr>\n",
       "  <th> </th>                      <td> </td>        <th>  LLR p-value:       </th> <td>6.522e-224</td>\n",
       "</tr>\n",
       "</table>\n",
       "<table class=\"simpletable\">\n",
       "<tr>\n",
       "      <td></td>         <th>coef</th>     <th>std err</th>      <th>z</th>      <th>P>|z|</th>  <th>[0.025</th>    <th>0.975]</th>  \n",
       "</tr>\n",
       "<tr>\n",
       "  <th>Intercept</th> <td>  -35.6102</td> <td> 6303.407</td> <td>   -0.006</td> <td> 0.995</td> <td>-1.24e+04</td> <td> 1.23e+04</td>\n",
       "</tr>\n",
       "<tr>\n",
       "  <th>V1</th>        <td>   -5.7838</td> <td> 1368.484</td> <td>   -0.004</td> <td> 0.997</td> <td>-2687.964</td> <td> 2676.396</td>\n",
       "</tr>\n",
       "<tr>\n",
       "  <th>V2</th>        <td>   69.2187</td> <td> 9285.577</td> <td>    0.007</td> <td> 0.994</td> <td>-1.81e+04</td> <td> 1.83e+04</td>\n",
       "</tr>\n",
       "<tr>\n",
       "  <th>V3</th>        <td>  -52.6988</td> <td> 3592.307</td> <td>   -0.015</td> <td> 0.988</td> <td>-7093.492</td> <td> 6988.094</td>\n",
       "</tr>\n",
       "<tr>\n",
       "  <th>V4</th>        <td>   37.0053</td> <td> 2930.329</td> <td>    0.013</td> <td> 0.990</td> <td>-5706.334</td> <td> 5780.345</td>\n",
       "</tr>\n",
       "<tr>\n",
       "  <th>V5</th>        <td>  -19.4108</td> <td>  324.768</td> <td>   -0.060</td> <td> 0.952</td> <td> -655.945</td> <td>  617.124</td>\n",
       "</tr>\n",
       "<tr>\n",
       "  <th>V6</th>        <td>  -33.0693</td> <td> 4222.903</td> <td>   -0.008</td> <td> 0.994</td> <td>-8309.808</td> <td> 8243.669</td>\n",
       "</tr>\n",
       "<tr>\n",
       "  <th>V7</th>        <td> -127.4272</td> <td> 1.45e+04</td> <td>   -0.009</td> <td> 0.993</td> <td>-2.86e+04</td> <td> 2.84e+04</td>\n",
       "</tr>\n",
       "<tr>\n",
       "  <th>V8</th>        <td>   23.6534</td> <td> 2468.022</td> <td>    0.010</td> <td> 0.992</td> <td>-4813.581</td> <td> 4860.888</td>\n",
       "</tr>\n",
       "<tr>\n",
       "  <th>V9</th>        <td>  -46.8493</td> <td> 4437.718</td> <td>   -0.011</td> <td> 0.992</td> <td>-8744.617</td> <td> 8650.918</td>\n",
       "</tr>\n",
       "<tr>\n",
       "  <th>V10</th>       <td> -107.9290</td> <td> 1.02e+04</td> <td>   -0.011</td> <td> 0.992</td> <td>-2.01e+04</td> <td> 1.99e+04</td>\n",
       "</tr>\n",
       "<tr>\n",
       "  <th>V11</th>       <td>   84.7724</td> <td> 8662.133</td> <td>    0.010</td> <td> 0.992</td> <td>-1.69e+04</td> <td> 1.71e+04</td>\n",
       "</tr>\n",
       "<tr>\n",
       "  <th>V12</th>       <td> -152.2586</td> <td> 1.56e+04</td> <td>   -0.010</td> <td> 0.992</td> <td>-3.06e+04</td> <td> 3.03e+04</td>\n",
       "</tr>\n",
       "<tr>\n",
       "  <th>V13</th>       <td>   -1.9181</td> <td>  410.268</td> <td>   -0.005</td> <td> 0.996</td> <td> -806.029</td> <td>  802.192</td>\n",
       "</tr>\n",
       "<tr>\n",
       "  <th>V14</th>       <td> -163.0981</td> <td>  1.7e+04</td> <td>   -0.010</td> <td> 0.992</td> <td>-3.34e+04</td> <td> 3.31e+04</td>\n",
       "</tr>\n",
       "<tr>\n",
       "  <th>V15</th>       <td>   -4.9456</td> <td>  606.558</td> <td>   -0.008</td> <td> 0.993</td> <td>-1193.777</td> <td> 1183.886</td>\n",
       "</tr>\n",
       "<tr>\n",
       "  <th>V16</th>       <td> -144.8422</td> <td>  1.5e+04</td> <td>   -0.010</td> <td> 0.992</td> <td>-2.95e+04</td> <td> 2.92e+04</td>\n",
       "</tr>\n",
       "<tr>\n",
       "  <th>V17</th>       <td> -257.1123</td> <td> 2.63e+04</td> <td>   -0.010</td> <td> 0.992</td> <td>-5.18e+04</td> <td> 5.13e+04</td>\n",
       "</tr>\n",
       "<tr>\n",
       "  <th>V18</th>       <td>  -97.0422</td> <td>    1e+04</td> <td>   -0.010</td> <td> 0.992</td> <td>-1.98e+04</td> <td> 1.96e+04</td>\n",
       "</tr>\n",
       "<tr>\n",
       "  <th>V19</th>       <td>   37.1182</td> <td> 4168.999</td> <td>    0.009</td> <td> 0.993</td> <td>-8133.970</td> <td> 8208.206</td>\n",
       "</tr>\n",
       "<tr>\n",
       "  <th>V20</th>       <td>  -10.4471</td> <td> 2824.101</td> <td>   -0.004</td> <td> 0.997</td> <td>-5545.583</td> <td> 5524.689</td>\n",
       "</tr>\n",
       "<tr>\n",
       "  <th>V21</th>       <td>   11.6320</td> <td>  674.770</td> <td>    0.017</td> <td> 0.986</td> <td>-1310.892</td> <td> 1334.156</td>\n",
       "</tr>\n",
       "<tr>\n",
       "  <th>V22</th>       <td>   12.3167</td> <td> 1846.881</td> <td>    0.007</td> <td> 0.995</td> <td>-3607.503</td> <td> 3632.137</td>\n",
       "</tr>\n",
       "<tr>\n",
       "  <th>V23</th>       <td>   32.5634</td> <td> 5580.517</td> <td>    0.006</td> <td> 0.995</td> <td>-1.09e+04</td> <td>  1.1e+04</td>\n",
       "</tr>\n",
       "<tr>\n",
       "  <th>V24</th>       <td>   -3.7228</td> <td>  531.794</td> <td>   -0.007</td> <td> 0.994</td> <td>-1046.020</td> <td> 1038.575</td>\n",
       "</tr>\n",
       "<tr>\n",
       "  <th>V25</th>       <td>   17.7436</td> <td> 2542.612</td> <td>    0.007</td> <td> 0.994</td> <td>-4965.684</td> <td> 5001.171</td>\n",
       "</tr>\n",
       "<tr>\n",
       "  <th>V26</th>       <td>    4.0974</td> <td>  640.431</td> <td>    0.006</td> <td> 0.995</td> <td>-1251.124</td> <td> 1259.319</td>\n",
       "</tr>\n",
       "<tr>\n",
       "  <th>V27</th>       <td>   21.7815</td> <td> 1994.934</td> <td>    0.011</td> <td> 0.991</td> <td>-3888.218</td> <td> 3931.781</td>\n",
       "</tr>\n",
       "<tr>\n",
       "  <th>V28</th>       <td>   48.1510</td> <td> 6771.612</td> <td>    0.007</td> <td> 0.994</td> <td>-1.32e+04</td> <td> 1.33e+04</td>\n",
       "</tr>\n",
       "<tr>\n",
       "  <th>Amount</th>    <td>    0.3886</td> <td>   64.499</td> <td>    0.006</td> <td> 0.995</td> <td> -126.026</td> <td>  126.803</td>\n",
       "</tr>\n",
       "</table>"
      ],
      "text/plain": [
       "<class 'statsmodels.iolib.summary.Summary'>\n",
       "\"\"\"\n",
       "                           Logit Regression Results                           \n",
       "==============================================================================\n",
       "Dep. Variable:                  Class   No. Observations:                  984\n",
       "Model:                          Logit   Df Residuals:                      954\n",
       "Method:                           MLE   Df Model:                           29\n",
       "Date:                Fri, 12 Jan 2018   Pseudo R-squ.:                  0.8443\n",
       "Time:                        22:43:10   Log-Likelihood:                -106.19\n",
       "converged:                      False   LL-Null:                       -682.06\n",
       "                                        LLR p-value:                6.522e-224\n",
       "==============================================================================\n",
       "                 coef    std err          z      P>|z|      [0.025      0.975]\n",
       "------------------------------------------------------------------------------\n",
       "Intercept    -35.6102   6303.407     -0.006      0.995   -1.24e+04    1.23e+04\n",
       "V1            -5.7838   1368.484     -0.004      0.997   -2687.964    2676.396\n",
       "V2            69.2187   9285.577      0.007      0.994   -1.81e+04    1.83e+04\n",
       "V3           -52.6988   3592.307     -0.015      0.988   -7093.492    6988.094\n",
       "V4            37.0053   2930.329      0.013      0.990   -5706.334    5780.345\n",
       "V5           -19.4108    324.768     -0.060      0.952    -655.945     617.124\n",
       "V6           -33.0693   4222.903     -0.008      0.994   -8309.808    8243.669\n",
       "V7          -127.4272   1.45e+04     -0.009      0.993   -2.86e+04    2.84e+04\n",
       "V8            23.6534   2468.022      0.010      0.992   -4813.581    4860.888\n",
       "V9           -46.8493   4437.718     -0.011      0.992   -8744.617    8650.918\n",
       "V10         -107.9290   1.02e+04     -0.011      0.992   -2.01e+04    1.99e+04\n",
       "V11           84.7724   8662.133      0.010      0.992   -1.69e+04    1.71e+04\n",
       "V12         -152.2586   1.56e+04     -0.010      0.992   -3.06e+04    3.03e+04\n",
       "V13           -1.9181    410.268     -0.005      0.996    -806.029     802.192\n",
       "V14         -163.0981    1.7e+04     -0.010      0.992   -3.34e+04    3.31e+04\n",
       "V15           -4.9456    606.558     -0.008      0.993   -1193.777    1183.886\n",
       "V16         -144.8422    1.5e+04     -0.010      0.992   -2.95e+04    2.92e+04\n",
       "V17         -257.1123   2.63e+04     -0.010      0.992   -5.18e+04    5.13e+04\n",
       "V18          -97.0422      1e+04     -0.010      0.992   -1.98e+04    1.96e+04\n",
       "V19           37.1182   4168.999      0.009      0.993   -8133.970    8208.206\n",
       "V20          -10.4471   2824.101     -0.004      0.997   -5545.583    5524.689\n",
       "V21           11.6320    674.770      0.017      0.986   -1310.892    1334.156\n",
       "V22           12.3167   1846.881      0.007      0.995   -3607.503    3632.137\n",
       "V23           32.5634   5580.517      0.006      0.995   -1.09e+04     1.1e+04\n",
       "V24           -3.7228    531.794     -0.007      0.994   -1046.020    1038.575\n",
       "V25           17.7436   2542.612      0.007      0.994   -4965.684    5001.171\n",
       "V26            4.0974    640.431      0.006      0.995   -1251.124    1259.319\n",
       "V27           21.7815   1994.934      0.011      0.991   -3888.218    3931.781\n",
       "V28           48.1510   6771.612      0.007      0.994   -1.32e+04    1.33e+04\n",
       "Amount         0.3886     64.499      0.006      0.995    -126.026     126.803\n",
       "==============================================================================\n",
       "\n",
       "Possibly complete quasi-separation: A fraction 0.51 of observations can be\n",
       "perfectly predicted. This might indicate that there is complete\n",
       "quasi-separation. In this case some parameters will not be identified.\n",
       "\"\"\""
      ]
     },
     "execution_count": 80,
     "metadata": {},
     "output_type": "execute_result"
    }
   ],
   "source": [
    "new_credit_model = logit(formula=formula, data=new_credit_df).fit()\n",
    "new_credit_model.summary()"
   ]
  },
  {
   "cell_type": "code",
   "execution_count": 81,
   "metadata": {},
   "outputs": [
    {
     "name": "stderr",
     "output_type": "stream",
     "text": [
      "/home/vasia/.local/lib/python3.5/site-packages/ipykernel_launcher.py:1: RuntimeWarning: overflow encountered in exp\n",
      "  \"\"\"Entry point for launching an IPython kernel.\n"
     ]
    }
   ],
   "source": [
    "new_y_pred = pd.DataFrame(np.exp(new_credit_model.fittedvalues), columns=['fitted_values'])\n",
    "new_y_pred['label']= np.where(new_y_pred['fitted_values']>0.5, 1, 0)\n",
    "del(new_y_pred['fitted_values'])"
   ]
  },
  {
   "cell_type": "code",
   "execution_count": 82,
   "metadata": {},
   "outputs": [
    {
     "name": "stdout",
     "output_type": "stream",
     "text": [
      "accuracy score:  0.9522357723577236\n"
     ]
    }
   ],
   "source": [
    "print('accuracy score: ' , accuracy_score(new_credit_df['Class'], new_y_pred['label']))"
   ]
  },
  {
   "cell_type": "code",
   "execution_count": 83,
   "metadata": {},
   "outputs": [],
   "source": [
    "new_y_pred = new_y_pred.as_matrix()\n",
    "new_credit_labels =new_credit_labels.as_matrix()"
   ]
  },
  {
   "cell_type": "code",
   "execution_count": 87,
   "metadata": {},
   "outputs": [
    {
     "name": "stdout",
     "output_type": "stream",
     "text": [
      "Precision score for positive class(fraud): 0.9476861167002012 \n",
      "Precision score for negative class(non-fraud): 0.9568788501026694 \n",
      "Recall score for positive class(fraud): 0.9573170731707317\n",
      "Recall score for negative class(non-fraud): 0.9471544715447154\n"
     ]
    }
   ],
   "source": [
    "precision_recall(new_credit_labels, new_y_pred)"
   ]
  },
  {
   "cell_type": "code",
   "execution_count": null,
   "metadata": {},
   "outputs": [],
   "source": []
  }
 ],
 "metadata": {
  "kernelspec": {
   "display_name": "Python 3",
   "language": "python",
   "name": "python3"
  },
  "language_info": {
   "codemirror_mode": {
    "name": "ipython",
    "version": 3
   },
   "file_extension": ".py",
   "mimetype": "text/x-python",
   "name": "python",
   "nbconvert_exporter": "python",
   "pygments_lexer": "ipython3",
   "version": "3.5.4"
  }
 },
 "nbformat": 4,
 "nbformat_minor": 2
}
