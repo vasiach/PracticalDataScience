{
 "cells": [
  {
   "cell_type": "code",
   "execution_count": 141,
   "metadata": {},
   "outputs": [],
   "source": [
    "import pandas as pd\n",
    "import numpy as np\n",
    "import statsmodels.api as sm\n",
    "from statsmodels.formula.api import ols\n",
    "from statsmodels.stats.anova import anova_lm\n",
    "import matplotlib.pyplot as plt"
   ]
  },
  {
   "cell_type": "markdown",
   "metadata": {},
   "source": [
    "## Question1"
   ]
  },
  {
   "cell_type": "code",
   "execution_count": 142,
   "metadata": {},
   "outputs": [
    {
     "data": {
      "text/html": [
       "<div>\n",
       "<style scoped>\n",
       "    .dataframe tbody tr th:only-of-type {\n",
       "        vertical-align: middle;\n",
       "    }\n",
       "\n",
       "    .dataframe tbody tr th {\n",
       "        vertical-align: top;\n",
       "    }\n",
       "\n",
       "    .dataframe thead th {\n",
       "        text-align: right;\n",
       "    }\n",
       "</style>\n",
       "<table border=\"1\" class=\"dataframe\">\n",
       "  <thead>\n",
       "    <tr style=\"text-align: right;\">\n",
       "      <th></th>\n",
       "      <th>company</th>\n",
       "      <th>year</th>\n",
       "      <th>race</th>\n",
       "      <th>gender</th>\n",
       "      <th>job_category</th>\n",
       "      <th>count</th>\n",
       "    </tr>\n",
       "  </thead>\n",
       "  <tbody>\n",
       "    <tr>\n",
       "      <th>0</th>\n",
       "      <td>23andMe</td>\n",
       "      <td>2016</td>\n",
       "      <td>Latino</td>\n",
       "      <td>male</td>\n",
       "      <td>Executive/Senior officials &amp; Mgrs</td>\n",
       "      <td>0</td>\n",
       "    </tr>\n",
       "    <tr>\n",
       "      <th>1</th>\n",
       "      <td>23andMe</td>\n",
       "      <td>2016</td>\n",
       "      <td>Latino</td>\n",
       "      <td>male</td>\n",
       "      <td>First/Mid officials &amp; Mgrs</td>\n",
       "      <td>1</td>\n",
       "    </tr>\n",
       "    <tr>\n",
       "      <th>2</th>\n",
       "      <td>23andMe</td>\n",
       "      <td>2016</td>\n",
       "      <td>Latino</td>\n",
       "      <td>male</td>\n",
       "      <td>Professionals</td>\n",
       "      <td>7</td>\n",
       "    </tr>\n",
       "  </tbody>\n",
       "</table>\n",
       "</div>"
      ],
      "text/plain": [
       "   company  year    race gender                       job_category  count\n",
       "0  23andMe  2016  Latino   male  Executive/Senior officials & Mgrs      0\n",
       "1  23andMe  2016  Latino   male         First/Mid officials & Mgrs      1\n",
       "2  23andMe  2016  Latino   male                      Professionals      7"
      ]
     },
     "execution_count": 142,
     "metadata": {},
     "output_type": "execute_result"
    }
   ],
   "source": [
    "sildta = pd.read_csv('data/Reveal_EEO1_for_2016.csv')\n",
    "sildta = sildta[(sildta.job_category.str.contains('Totals')==False)]\n",
    "sildta = sildta[(sildta.job_category.str.contains('Previous_totals')==False)]\n",
    "sildta['count']= sildta['count'].astype('int64')\n",
    "sildta.head(3)"
   ]
  },
  {
   "cell_type": "code",
   "execution_count": 145,
   "metadata": {},
   "outputs": [
    {
     "name": "stdout",
     "output_type": "stream",
     "text": [
      "                            OLS Regression Results                            \n",
      "==============================================================================\n",
      "Dep. Variable:                  count   R-squared:                       0.002\n",
      "Model:                            OLS   Adj. R-squared:                  0.002\n",
      "Method:                 Least Squares   F-statistic:                     3.778\n",
      "Date:                Tue, 19 Dec 2017   Prob (F-statistic):             0.0521\n",
      "Time:                        18:46:08   Log-Likelihood:                -12763.\n",
      "No. Observations:                1540   AIC:                         2.553e+04\n",
      "Df Residuals:                    1538   BIC:                         2.554e+04\n",
      "Df Model:                           1                                         \n",
      "Covariance Type:            nonrobust                                         \n",
      "================================================================================\n",
      "                   coef    std err          t      P>|t|      [0.025      0.975]\n",
      "--------------------------------------------------------------------------------\n",
      "Intercept      176.6768     25.852      6.834      0.000     125.967     227.386\n",
      "jobs[T.True]  -158.8975     81.752     -1.944      0.052    -319.255       1.460\n",
      "==============================================================================\n",
      "Omnibus:                     2503.937   Durbin-Watson:                   1.235\n",
      "Prob(Omnibus):                  0.000   Jarque-Bera (JB):          1105920.734\n",
      "Skew:                          10.503   Prob(JB):                         0.00\n",
      "Kurtosis:                     132.591   Cond. No.                         3.37\n",
      "==============================================================================\n",
      "\n",
      "Warnings:\n",
      "[1] Standard Errors assume that the covariance matrix of the errors is correctly specified.\n"
     ]
    },
    {
     "name": "stderr",
     "output_type": "stream",
     "text": [
      "/home/vasia/.local/lib/python3.5/site-packages/ipykernel_launcher.py:2: SettingWithCopyWarning: \n",
      "A value is trying to be set on a copy of a slice from a DataFrame.\n",
      "Try using .loc[row_indexer,col_indexer] = value instead\n",
      "\n",
      "See the caveats in the documentation: http://pandas.pydata.org/pandas-docs/stable/indexing.html#indexing-view-versus-copy\n",
      "  \n",
      "/home/vasia/anaconda2/envs/p3env/lib/python3.5/site-packages/scipy/stats/_distn_infrastructure.py:879: RuntimeWarning: invalid value encountered in greater\n",
      "  return (self.a < x) & (x < self.b)\n",
      "/home/vasia/anaconda2/envs/p3env/lib/python3.5/site-packages/scipy/stats/_distn_infrastructure.py:879: RuntimeWarning: invalid value encountered in less\n",
      "  return (self.a < x) & (x < self.b)\n",
      "/home/vasia/anaconda2/envs/p3env/lib/python3.5/site-packages/scipy/stats/_distn_infrastructure.py:1821: RuntimeWarning: invalid value encountered in less_equal\n",
      "  cond2 = cond0 & (x <= self.a)\n"
     ]
    },
    {
     "data": {
      "text/html": [
       "<div>\n",
       "<style scoped>\n",
       "    .dataframe tbody tr th:only-of-type {\n",
       "        vertical-align: middle;\n",
       "    }\n",
       "\n",
       "    .dataframe tbody tr th {\n",
       "        vertical-align: top;\n",
       "    }\n",
       "\n",
       "    .dataframe thead th {\n",
       "        text-align: right;\n",
       "    }\n",
       "</style>\n",
       "<table border=\"1\" class=\"dataframe\">\n",
       "  <thead>\n",
       "    <tr style=\"text-align: right;\">\n",
       "      <th></th>\n",
       "      <th>df</th>\n",
       "      <th>sum_sq</th>\n",
       "      <th>mean_sq</th>\n",
       "      <th>F</th>\n",
       "      <th>PR(&gt;F)</th>\n",
       "    </tr>\n",
       "  </thead>\n",
       "  <tbody>\n",
       "    <tr>\n",
       "      <th>jobs</th>\n",
       "      <td>1.0</td>\n",
       "      <td>3.499432e+06</td>\n",
       "      <td>3.499432e+06</td>\n",
       "      <td>3.777776</td>\n",
       "      <td>0.05212</td>\n",
       "    </tr>\n",
       "    <tr>\n",
       "      <th>Residual</th>\n",
       "      <td>1538.0</td>\n",
       "      <td>1.424682e+09</td>\n",
       "      <td>9.263209e+05</td>\n",
       "      <td>NaN</td>\n",
       "      <td>NaN</td>\n",
       "    </tr>\n",
       "  </tbody>\n",
       "</table>\n",
       "</div>"
      ],
      "text/plain": [
       "              df        sum_sq       mean_sq         F   PR(>F)\n",
       "jobs         1.0  3.499432e+06  3.499432e+06  3.777776  0.05212\n",
       "Residual  1538.0  1.424682e+09  9.263209e+05       NaN      NaN"
      ]
     },
     "execution_count": 145,
     "metadata": {},
     "output_type": "execute_result"
    }
   ],
   "source": [
    "male_sildta = sildta[sildta['gender']=='male']\n",
    "male_sildta['jobs']= male_sildta.job_category.str.contains('Senior')\n",
    "m_model = ols('count~jobs', data=male_sildta).fit()\n",
    "m_table = anova_lm(m_model)\n",
    "male_sildta\n",
    "print(model.summary())\n",
    "m_table\n",
    "\n"
   ]
  },
  {
   "cell_type": "code",
   "execution_count": 144,
   "metadata": {},
   "outputs": [
    {
     "name": "stdout",
     "output_type": "stream",
     "text": [
      "(1.943650086840004, 0.052119854647454264, 1538.0)\n"
     ]
    }
   ],
   "source": [
    "#double check with ttest\n",
    "male_seniors = male_sildta[male_sildta.job_category.str.contains('Senior')]['count']\n",
    "male_non_seniors = male_sildta[male_sildta.job_category.str.contains('Senior')==False]['count']\n",
    "print(sm.stats.ttest_ind(male_nonseniors, male_seniors))"
   ]
  },
  {
   "cell_type": "code",
   "execution_count": 146,
   "metadata": {},
   "outputs": [
    {
     "name": "stdout",
     "output_type": "stream",
     "text": [
      "                            OLS Regression Results                            \n",
      "==============================================================================\n",
      "Dep. Variable:                  count   R-squared:                       0.007\n",
      "Model:                            OLS   Adj. R-squared:                  0.005\n",
      "Method:                 Least Squares   F-statistic:                     3.204\n",
      "Date:                Tue, 19 Dec 2017   Prob (F-statistic):             0.0742\n",
      "Time:                        18:46:34   Log-Likelihood:                -3871.0\n",
      "No. Observations:                 440   AIC:                             7746.\n",
      "Df Residuals:                     438   BIC:                             7754.\n",
      "Df Model:                           1                                         \n",
      "Covariance Type:            nonrobust                                         \n",
      "================================================================================\n",
      "                   coef    std err          t      P>|t|      [0.025      0.975]\n",
      "--------------------------------------------------------------------------------\n",
      "Intercept      516.1414     80.666      6.399      0.000     357.602     674.681\n",
      "jobs[T.True]  -456.5960    255.087     -1.790      0.074    -957.943      44.751\n",
      "==============================================================================\n",
      "Omnibus:                      548.862   Durbin-Watson:                   1.188\n",
      "Prob(Omnibus):                  0.000   Jarque-Bera (JB):            39146.517\n",
      "Skew:                           6.125   Prob(JB):                         0.00\n",
      "Kurtosis:                      47.556   Cond. No.                         3.37\n",
      "==============================================================================\n",
      "\n",
      "Warnings:\n",
      "[1] Standard Errors assume that the covariance matrix of the errors is correctly specified.\n"
     ]
    },
    {
     "name": "stderr",
     "output_type": "stream",
     "text": [
      "/home/vasia/.local/lib/python3.5/site-packages/ipykernel_launcher.py:2: SettingWithCopyWarning: \n",
      "A value is trying to be set on a copy of a slice from a DataFrame.\n",
      "Try using .loc[row_indexer,col_indexer] = value instead\n",
      "\n",
      "See the caveats in the documentation: http://pandas.pydata.org/pandas-docs/stable/indexing.html#indexing-view-versus-copy\n",
      "  \n",
      "/home/vasia/anaconda2/envs/p3env/lib/python3.5/site-packages/scipy/stats/_distn_infrastructure.py:879: RuntimeWarning: invalid value encountered in greater\n",
      "  return (self.a < x) & (x < self.b)\n",
      "/home/vasia/anaconda2/envs/p3env/lib/python3.5/site-packages/scipy/stats/_distn_infrastructure.py:879: RuntimeWarning: invalid value encountered in less\n",
      "  return (self.a < x) & (x < self.b)\n",
      "/home/vasia/anaconda2/envs/p3env/lib/python3.5/site-packages/scipy/stats/_distn_infrastructure.py:1821: RuntimeWarning: invalid value encountered in less_equal\n",
      "  cond2 = cond0 & (x <= self.a)\n"
     ]
    },
    {
     "data": {
      "text/html": [
       "<div>\n",
       "<style scoped>\n",
       "    .dataframe tbody tr th:only-of-type {\n",
       "        vertical-align: middle;\n",
       "    }\n",
       "\n",
       "    .dataframe tbody tr th {\n",
       "        vertical-align: top;\n",
       "    }\n",
       "\n",
       "    .dataframe thead th {\n",
       "        text-align: right;\n",
       "    }\n",
       "</style>\n",
       "<table border=\"1\" class=\"dataframe\">\n",
       "  <thead>\n",
       "    <tr style=\"text-align: right;\">\n",
       "      <th></th>\n",
       "      <th>df</th>\n",
       "      <th>sum_sq</th>\n",
       "      <th>mean_sq</th>\n",
       "      <th>F</th>\n",
       "      <th>PR(&gt;F)</th>\n",
       "    </tr>\n",
       "  </thead>\n",
       "  <tbody>\n",
       "    <tr>\n",
       "      <th>jobs</th>\n",
       "      <td>1.0</td>\n",
       "      <td>8.255803e+06</td>\n",
       "      <td>8.255803e+06</td>\n",
       "      <td>3.203956</td>\n",
       "      <td>0.074151</td>\n",
       "    </tr>\n",
       "    <tr>\n",
       "      <th>Residual</th>\n",
       "      <td>438.0</td>\n",
       "      <td>1.128618e+09</td>\n",
       "      <td>2.576752e+06</td>\n",
       "      <td>NaN</td>\n",
       "      <td>NaN</td>\n",
       "    </tr>\n",
       "  </tbody>\n",
       "</table>\n",
       "</div>"
      ],
      "text/plain": [
       "             df        sum_sq       mean_sq         F    PR(>F)\n",
       "jobs        1.0  8.255803e+06  8.255803e+06  3.203956  0.074151\n",
       "Residual  438.0  1.128618e+09  2.576752e+06       NaN       NaN"
      ]
     },
     "execution_count": 146,
     "metadata": {},
     "output_type": "execute_result"
    }
   ],
   "source": [
    "white_sildta = sildta[sildta['race']=='White']\n",
    "white_sildta['jobs']= white_sildta.job_category.str.contains('Senior')\n",
    "w_model = ols('count~jobs', data=white_sildta).fit()\n",
    "w_table = anova_lm(w_model)\n",
    "print(w_model.summary())\n",
    "w_table"
   ]
  },
  {
   "cell_type": "code",
   "execution_count": 147,
   "metadata": {},
   "outputs": [
    {
     "name": "stdout",
     "output_type": "stream",
     "text": [
      "(1.789959914380308, 0.074150996111840423, 438.0)\n"
     ]
    }
   ],
   "source": [
    "#double check with ttest\n",
    "white_seniors = white_sildta[white_sildta.job_category.str.contains('Senior')]['count']\n",
    "white_non_seniors = white_sildta[white_sildta.job_category.str.contains('Senior')==False]['count']\n",
    "print(sm.stats.ttest_ind(white_nonseniors, white_seniors))"
   ]
  },
  {
   "cell_type": "code",
   "execution_count": null,
   "metadata": {},
   "outputs": [],
   "source": []
  }
 ],
 "metadata": {
  "kernelspec": {
   "display_name": "Python 3",
   "language": "python",
   "name": "python3"
  },
  "language_info": {
   "codemirror_mode": {
    "name": "ipython",
    "version": 3
   },
   "file_extension": ".py",
   "mimetype": "text/x-python",
   "name": "python",
   "nbconvert_exporter": "python",
   "pygments_lexer": "ipython3",
   "version": "3.5.4"
  }
 },
 "nbformat": 4,
 "nbformat_minor": 2
}
