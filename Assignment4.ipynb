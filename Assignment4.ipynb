{
 "cells": [
  {
   "cell_type": "markdown",
   "metadata": {},
   "source": [
    "# Question 1"
   ]
  },
  {
   "cell_type": "code",
   "execution_count": 41,
   "metadata": {},
   "outputs": [],
   "source": [
    "import pandas as pd\n",
    "from matplotlib import pyplot as plt\n",
    "import seaborn as sns\n",
    "from scipy import stats\n",
    "from sklearn.metrics import r2_score, accuracy_score, mean_squared_error, classification_report\n",
    "from sklearn.decomposition import PCA\n",
    "from sklearn.cross_validation import train_test_split\n",
    "from sklearn.model_selection import StratifiedShuffleSplit\n",
    "from scipy.sparse import isspmatrix\n",
    "from sklearn import preprocessing\n",
    "from scipy.stats import norm, skew\n",
    "import numpy as np\n",
    "%matplotlib inline"
   ]
  },
  {
   "cell_type": "code",
   "execution_count": 2,
   "metadata": {},
   "outputs": [],
   "source": [
    "train_set = pd.read_csv('data/train.csv')\n",
    "test_set = pd.read_csv('data/test.csv')"
   ]
  },
  {
   "cell_type": "markdown",
   "metadata": {},
   "source": [
    "We can see there are both categorical and continuous data in the data set"
   ]
  },
  {
   "cell_type": "code",
   "execution_count": 3,
   "metadata": {},
   "outputs": [
    {
     "data": {
      "text/html": [
       "<div>\n",
       "<style scoped>\n",
       "    .dataframe tbody tr th:only-of-type {\n",
       "        vertical-align: middle;\n",
       "    }\n",
       "\n",
       "    .dataframe tbody tr th {\n",
       "        vertical-align: top;\n",
       "    }\n",
       "\n",
       "    .dataframe thead th {\n",
       "        text-align: right;\n",
       "    }\n",
       "</style>\n",
       "<table border=\"1\" class=\"dataframe\">\n",
       "  <thead>\n",
       "    <tr style=\"text-align: right;\">\n",
       "      <th></th>\n",
       "      <th>Id</th>\n",
       "      <th>MSSubClass</th>\n",
       "      <th>MSZoning</th>\n",
       "      <th>LotFrontage</th>\n",
       "      <th>LotArea</th>\n",
       "      <th>Street</th>\n",
       "      <th>Alley</th>\n",
       "      <th>LotShape</th>\n",
       "      <th>LandContour</th>\n",
       "      <th>Utilities</th>\n",
       "      <th>...</th>\n",
       "      <th>PoolArea</th>\n",
       "      <th>PoolQC</th>\n",
       "      <th>Fence</th>\n",
       "      <th>MiscFeature</th>\n",
       "      <th>MiscVal</th>\n",
       "      <th>MoSold</th>\n",
       "      <th>YrSold</th>\n",
       "      <th>SaleType</th>\n",
       "      <th>SaleCondition</th>\n",
       "      <th>SalePrice</th>\n",
       "    </tr>\n",
       "  </thead>\n",
       "  <tbody>\n",
       "    <tr>\n",
       "      <th>0</th>\n",
       "      <td>1</td>\n",
       "      <td>60</td>\n",
       "      <td>RL</td>\n",
       "      <td>65.0</td>\n",
       "      <td>8450</td>\n",
       "      <td>Pave</td>\n",
       "      <td>NaN</td>\n",
       "      <td>Reg</td>\n",
       "      <td>Lvl</td>\n",
       "      <td>AllPub</td>\n",
       "      <td>...</td>\n",
       "      <td>0</td>\n",
       "      <td>NaN</td>\n",
       "      <td>NaN</td>\n",
       "      <td>NaN</td>\n",
       "      <td>0</td>\n",
       "      <td>2</td>\n",
       "      <td>2008</td>\n",
       "      <td>WD</td>\n",
       "      <td>Normal</td>\n",
       "      <td>208500</td>\n",
       "    </tr>\n",
       "    <tr>\n",
       "      <th>1</th>\n",
       "      <td>2</td>\n",
       "      <td>20</td>\n",
       "      <td>RL</td>\n",
       "      <td>80.0</td>\n",
       "      <td>9600</td>\n",
       "      <td>Pave</td>\n",
       "      <td>NaN</td>\n",
       "      <td>Reg</td>\n",
       "      <td>Lvl</td>\n",
       "      <td>AllPub</td>\n",
       "      <td>...</td>\n",
       "      <td>0</td>\n",
       "      <td>NaN</td>\n",
       "      <td>NaN</td>\n",
       "      <td>NaN</td>\n",
       "      <td>0</td>\n",
       "      <td>5</td>\n",
       "      <td>2007</td>\n",
       "      <td>WD</td>\n",
       "      <td>Normal</td>\n",
       "      <td>181500</td>\n",
       "    </tr>\n",
       "    <tr>\n",
       "      <th>2</th>\n",
       "      <td>3</td>\n",
       "      <td>60</td>\n",
       "      <td>RL</td>\n",
       "      <td>68.0</td>\n",
       "      <td>11250</td>\n",
       "      <td>Pave</td>\n",
       "      <td>NaN</td>\n",
       "      <td>IR1</td>\n",
       "      <td>Lvl</td>\n",
       "      <td>AllPub</td>\n",
       "      <td>...</td>\n",
       "      <td>0</td>\n",
       "      <td>NaN</td>\n",
       "      <td>NaN</td>\n",
       "      <td>NaN</td>\n",
       "      <td>0</td>\n",
       "      <td>9</td>\n",
       "      <td>2008</td>\n",
       "      <td>WD</td>\n",
       "      <td>Normal</td>\n",
       "      <td>223500</td>\n",
       "    </tr>\n",
       "    <tr>\n",
       "      <th>3</th>\n",
       "      <td>4</td>\n",
       "      <td>70</td>\n",
       "      <td>RL</td>\n",
       "      <td>60.0</td>\n",
       "      <td>9550</td>\n",
       "      <td>Pave</td>\n",
       "      <td>NaN</td>\n",
       "      <td>IR1</td>\n",
       "      <td>Lvl</td>\n",
       "      <td>AllPub</td>\n",
       "      <td>...</td>\n",
       "      <td>0</td>\n",
       "      <td>NaN</td>\n",
       "      <td>NaN</td>\n",
       "      <td>NaN</td>\n",
       "      <td>0</td>\n",
       "      <td>2</td>\n",
       "      <td>2006</td>\n",
       "      <td>WD</td>\n",
       "      <td>Abnorml</td>\n",
       "      <td>140000</td>\n",
       "    </tr>\n",
       "    <tr>\n",
       "      <th>4</th>\n",
       "      <td>5</td>\n",
       "      <td>60</td>\n",
       "      <td>RL</td>\n",
       "      <td>84.0</td>\n",
       "      <td>14260</td>\n",
       "      <td>Pave</td>\n",
       "      <td>NaN</td>\n",
       "      <td>IR1</td>\n",
       "      <td>Lvl</td>\n",
       "      <td>AllPub</td>\n",
       "      <td>...</td>\n",
       "      <td>0</td>\n",
       "      <td>NaN</td>\n",
       "      <td>NaN</td>\n",
       "      <td>NaN</td>\n",
       "      <td>0</td>\n",
       "      <td>12</td>\n",
       "      <td>2008</td>\n",
       "      <td>WD</td>\n",
       "      <td>Normal</td>\n",
       "      <td>250000</td>\n",
       "    </tr>\n",
       "  </tbody>\n",
       "</table>\n",
       "<p>5 rows × 81 columns</p>\n",
       "</div>"
      ],
      "text/plain": [
       "   Id  MSSubClass MSZoning  LotFrontage  LotArea Street Alley LotShape  \\\n",
       "0   1          60       RL         65.0     8450   Pave   NaN      Reg   \n",
       "1   2          20       RL         80.0     9600   Pave   NaN      Reg   \n",
       "2   3          60       RL         68.0    11250   Pave   NaN      IR1   \n",
       "3   4          70       RL         60.0     9550   Pave   NaN      IR1   \n",
       "4   5          60       RL         84.0    14260   Pave   NaN      IR1   \n",
       "\n",
       "  LandContour Utilities    ...     PoolArea PoolQC Fence MiscFeature MiscVal  \\\n",
       "0         Lvl    AllPub    ...            0    NaN   NaN         NaN       0   \n",
       "1         Lvl    AllPub    ...            0    NaN   NaN         NaN       0   \n",
       "2         Lvl    AllPub    ...            0    NaN   NaN         NaN       0   \n",
       "3         Lvl    AllPub    ...            0    NaN   NaN         NaN       0   \n",
       "4         Lvl    AllPub    ...            0    NaN   NaN         NaN       0   \n",
       "\n",
       "  MoSold YrSold  SaleType  SaleCondition  SalePrice  \n",
       "0      2   2008        WD         Normal     208500  \n",
       "1      5   2007        WD         Normal     181500  \n",
       "2      9   2008        WD         Normal     223500  \n",
       "3      2   2006        WD        Abnorml     140000  \n",
       "4     12   2008        WD         Normal     250000  \n",
       "\n",
       "[5 rows x 81 columns]"
      ]
     },
     "execution_count": 3,
     "metadata": {},
     "output_type": "execute_result"
    }
   ],
   "source": [
    "train_set.head(5)"
   ]
  },
  {
   "cell_type": "markdown",
   "metadata": {},
   "source": [
    "SalePrice is our target variable and therefore we remove it from the train set and put it in a separate y_train df."
   ]
  },
  {
   "cell_type": "code",
   "execution_count": 4,
   "metadata": {},
   "outputs": [],
   "source": [
    "y_train = train_set[['SalePrice']]\n",
    "train_set = train_set.drop(['SalePrice'], axis=1)"
   ]
  },
  {
   "cell_type": "markdown",
   "metadata": {},
   "source": [
    "With a first look at the dataset we can observe categorical data and missing values expressed in NaN. We need to fix them before proceeding with the prediction. Specifically, transform categorical data to dummy values and fill NaN values with 0 if we have numerical data or Other if we have categorical. Since we need to fix both train and test set it makes sence to merge into a dataframe and then separate them once more."
   ]
  },
  {
   "cell_type": "code",
   "execution_count": 5,
   "metadata": {},
   "outputs": [],
   "source": [
    "train_test_data =  pd.concat((train_set.loc[:,'MSSubClass':'SaleCondition'], test_set.loc[:, 'MSSubClass':'SaleCondition']))"
   ]
  },
  {
   "cell_type": "code",
   "execution_count": 6,
   "metadata": {},
   "outputs": [],
   "source": [
    "numeric_feats = []\n",
    "for col in train_test_data.columns:\n",
    "    if train_test_data[col].dtype== np.float64:\n",
    "        train_test_data[col]= train_test_data[col].fillna(0)\n",
    "        numeric_feats.append(col)\n",
    "    elif train_test_data[col].dtype == np.object:\n",
    "        train_test_data[col] = train_test_data[col].fillna('Other')"
   ]
  },
  {
   "cell_type": "markdown",
   "metadata": {},
   "source": [
    "We should also plot the target variable to check for skewness and if normalization is needed."
   ]
  },
  {
   "cell_type": "code",
   "execution_count": 7,
   "metadata": {},
   "outputs": [
    {
     "data": {
      "image/png": "[encoded data removed]",
      "text/plain": [
       "<matplotlib.figure.Figure at 0x7f1b5db5d160>"
      ]
     },
     "metadata": {},
     "output_type": "display_data"
    }
   ],
   "source": [
    "plt.hist(y_train['SalePrice'])\n",
    "plt.ylabel('Frequency')\n",
    "plt.title('SalePrice distribution')\n",
    "plt.show()"
   ]
  },
  {
   "cell_type": "markdown",
   "metadata": {},
   "source": [
    "We can observe that the sale price variable is positively skewed since the blue line is deviated towards the right which means there is assymetry in the distribution and therefore we need to fix it to be normally distributed. To do so the best fix is to perform a log transform in the sales price and the features that suffer from skewness as well."
   ]
  },
  {
   "cell_type": "code",
   "execution_count": 8,
   "metadata": {},
   "outputs": [],
   "source": [
    "skewness = train_test_data[numeric_feats].skew()\n",
    "# skew values over 1.00 and below -1.00 indicate substantial skewness \n",
    "skewness = skewness[(skewness>1.00)].index\n",
    "train_test_data[skewness] = np.log1p(train_test_data[skewness])\n",
    "y_train['SalePrice']= np.log1p(y_train['SalePrice'])"
   ]
  },
  {
   "cell_type": "code",
   "execution_count": 9,
   "metadata": {},
   "outputs": [],
   "source": [
    "train_test_data['MSSubClass'] = train_test_data['MSSubClass'].astype('category')\n",
    "train_test_data['OverallQual'] = train_test_data['OverallQual'].astype('category')\n",
    "train_test_data['OverallCond'] = train_test_data['OverallCond'].astype('category')"
   ]
  },
  {
   "cell_type": "code",
   "execution_count": 10,
   "metadata": {},
   "outputs": [],
   "source": [
    "train_test_data = pd.get_dummies(train_test_data)"
   ]
  },
  {
   "cell_type": "code",
   "execution_count": 11,
   "metadata": {},
   "outputs": [],
   "source": [
    "x_train = train_test_data[:train_set.shape[0]]\n",
    "x_test = train_test_data[train_set.shape[0]:]"
   ]
  },
  {
   "cell_type": "markdown",
   "metadata": {},
   "source": [
    "Below we can see the correlation matrix. We can see a large number of features are correlated more than 60%"
   ]
  },
  {
   "cell_type": "code",
   "execution_count": 12,
   "metadata": {},
   "outputs": [
    {
     "data": {
      "text/plain": [
       "<matplotlib.axes._subplots.AxesSubplot at 0x7f1b5db796a0>"
      ]
     },
     "execution_count": 12,
     "metadata": {},
     "output_type": "execute_result"
    },
    {
     "data": {
      "image/png": "[encoded data removed]",
      "text/plain": [
       "<matplotlib.figure.Figure at 0x7f1b5dacb9b0>"
      ]
     },
     "metadata": {},
     "output_type": "display_data"
    }
   ],
   "source": [
    "plt.figure(figsize=(18,10))\n",
    "sns.heatmap(train_set.corr())"
   ]
  },
  {
   "cell_type": "markdown",
   "metadata": {},
   "source": [
    "Let's now test the sparsity of the dataset"
   ]
  },
  {
   "cell_type": "code",
   "execution_count": 13,
   "metadata": {},
   "outputs": [
    {
     "name": "stdout",
     "output_type": "stream",
     "text": [
      "The percentage of non-zeros elements is 0.19552190979732437\n"
     ]
    }
   ],
   "source": [
    "print ('The percentage of non-zeros elements is {0}'.format(np.count_nonzero(x_train)/np.size(x_train)))"
   ]
  },
  {
   "cell_type": "markdown",
   "metadata": {},
   "source": [
    "We will go ahead and perfom PCA so as to deal with correlated features and sparsity and therefore improve performance. "
   ]
  },
  {
   "cell_type": "code",
   "execution_count": 14,
   "metadata": {},
   "outputs": [],
   "source": [
    "pca = PCA(n_components=200)\n",
    "X_train = pca.fit_transform(x_train)\n",
    "X_test = pca.fit_transform(x_test)"
   ]
  },
  {
   "cell_type": "markdown",
   "metadata": {},
   "source": [
    "## Models"
   ]
  },
  {
   "cell_type": "code",
   "execution_count": 55,
   "metadata": {},
   "outputs": [],
   "source": [
    "import xgboost as xgb\n",
    "from xgboost import XGBClassifier\n",
    "from sklearn import linear_model\n",
    "from sklearn.cross_validation import cross_val_score\n",
    "from sklearn.ensemble import RandomForestRegressor, RandomForestClassifier\n",
    "from sklearn.linear_model import LogisticRegression\n",
    "from sklearn.grid_search import GridSearchCV\n",
    "from sklearn.cross_validation import train_test_split\n",
    "from sklearn.metrics import r2_score"
   ]
  },
  {
   "cell_type": "markdown",
   "metadata": {},
   "source": [
    "## Linear Regression"
   ]
  },
  {
   "cell_type": "code",
   "execution_count": 16,
   "metadata": {},
   "outputs": [
    {
     "name": "stdout",
     "output_type": "stream",
     "text": [
      "Linear Regression r2 score 0.8346284058658805\n",
      "Cross validation = 0.86\n"
     ]
    }
   ],
   "source": [
    "X_tr, X_tst, y_tr, y_tst = train_test_split(X_train, y_train, test_size=0.3, random_state=0)\n",
    "linreg = linear_model.LinearRegression()\n",
    "linreg.fit(X_tr, y_tr)\n",
    "y_pred = linreg.predict(X_tst)\n",
    "score = cross_val_score(linreg, X_tr, y_tr).mean()\n",
    "print(\"Linear Regression r2 score\",r2_score(y_tst, y_pred))\n",
    "print(\"Cross validation = %.2f\" % score)"
   ]
  },
  {
   "cell_type": "markdown",
   "metadata": {},
   "source": [
    "## XGBoost Regressor"
   ]
  },
  {
   "cell_type": "markdown",
   "metadata": {},
   "source": [
    "XGBoost is a Gradient Boosting algorithm, as its name gives away(short for extreme gradient boosting). The final values of the parameters were chosen using grid search with cross validation on 5 folds but also with tuning after some trials.  "
   ]
  },
  {
   "cell_type": "code",
   "execution_count": 22,
   "metadata": {},
   "outputs": [
    {
     "name": "stdout",
     "output_type": "stream",
     "text": [
      "{'n_estimators': 100, 'max_depth': 3}\n"
     ]
    }
   ],
   "source": [
    "X_tr, X_tst, y_tr, y_tst = train_test_split(x_train, y_train, test_size=0.3, random_state=0)\n",
    "param_grid = { \n",
    "            \"n_estimators\"      : [50, 100],\n",
    "           \"max_depth\"         : [2,3,5]}\n",
    "GS_xgb = GridSearchCV(xgb.XGBRegressor(), param_grid=param_grid, cv= 5)\n",
    "GS_xgb .fit(X_tr, y_tr)\n",
    "print (GS_xgb.best_params_)"
   ]
  },
  {
   "cell_type": "code",
   "execution_count": 25,
   "metadata": {},
   "outputs": [
    {
     "name": "stdout",
     "output_type": "stream",
     "text": [
      "XGBoost accuracy score 0.8927202984913837\n",
      "Cross validation = 0.88\n"
     ]
    }
   ],
   "source": [
    "xgb_model = xgb.XGBRegressor(n_estimators=100, learning_rate=0.08, gamma=0, subsample=0.75,\n",
    "                           colsample_bytree=1, max_depth=5)\n",
    "xgb_model.fit(X_tr,y_tr)\n",
    "y_pred = xgb_model.predict(X_tst)\n",
    "score = cross_val_score(xgb_model, X_tr, y_tr).mean()\n",
    "print(\"XGBoost accuracy score\",r2_score(y_tst, y_pred))\n",
    "print(\"Cross validation = %.2f\" % score)"
   ]
  },
  {
   "cell_type": "markdown",
   "metadata": {},
   "source": [
    "## RandomForest Regressor"
   ]
  },
  {
   "cell_type": "markdown",
   "metadata": {},
   "source": [
    "We perform grid search to find the best parameters for the random forest regressor model and cross validate them in 5 folds. "
   ]
  },
  {
   "cell_type": "code",
   "execution_count": 26,
   "metadata": {},
   "outputs": [
    {
     "name": "stderr",
     "output_type": "stream",
     "text": [
      "/home/vasia/miniconda2/envs/p3env/lib/python3.5/site-packages/sklearn/cross_validation.py:1675: DataConversionWarning: A column-vector y was passed when a 1d array was expected. Please change the shape of y to (n_samples,), for example using ravel().\n",
      "  estimator.fit(X_train, y_train, **fit_params)\n",
      "/home/vasia/miniconda2/envs/p3env/lib/python3.5/site-packages/sklearn/cross_validation.py:1675: DataConversionWarning: A column-vector y was passed when a 1d array was expected. Please change the shape of y to (n_samples,), for example using ravel().\n",
      "  estimator.fit(X_train, y_train, **fit_params)\n",
      "/home/vasia/miniconda2/envs/p3env/lib/python3.5/site-packages/sklearn/cross_validation.py:1675: DataConversionWarning: A column-vector y was passed when a 1d array was expected. Please change the shape of y to (n_samples,), for example using ravel().\n",
      "  estimator.fit(X_train, y_train, **fit_params)\n",
      "/home/vasia/miniconda2/envs/p3env/lib/python3.5/site-packages/sklearn/cross_validation.py:1675: DataConversionWarning: A column-vector y was passed when a 1d array was expected. Please change the shape of y to (n_samples,), for example using ravel().\n",
      "  estimator.fit(X_train, y_train, **fit_params)\n",
      "/home/vasia/miniconda2/envs/p3env/lib/python3.5/site-packages/sklearn/cross_validation.py:1675: DataConversionWarning: A column-vector y was passed when a 1d array was expected. Please change the shape of y to (n_samples,), for example using ravel().\n",
      "  estimator.fit(X_train, y_train, **fit_params)\n",
      "/home/vasia/miniconda2/envs/p3env/lib/python3.5/site-packages/sklearn/cross_validation.py:1675: DataConversionWarning: A column-vector y was passed when a 1d array was expected. Please change the shape of y to (n_samples,), for example using ravel().\n",
      "  estimator.fit(X_train, y_train, **fit_params)\n",
      "/home/vasia/miniconda2/envs/p3env/lib/python3.5/site-packages/sklearn/cross_validation.py:1675: DataConversionWarning: A column-vector y was passed when a 1d array was expected. Please change the shape of y to (n_samples,), for example using ravel().\n",
      "  estimator.fit(X_train, y_train, **fit_params)\n",
      "/home/vasia/miniconda2/envs/p3env/lib/python3.5/site-packages/sklearn/cross_validation.py:1675: DataConversionWarning: A column-vector y was passed when a 1d array was expected. Please change the shape of y to (n_samples,), for example using ravel().\n",
      "  estimator.fit(X_train, y_train, **fit_params)\n",
      "/home/vasia/miniconda2/envs/p3env/lib/python3.5/site-packages/sklearn/cross_validation.py:1675: DataConversionWarning: A column-vector y was passed when a 1d array was expected. Please change the shape of y to (n_samples,), for example using ravel().\n",
      "  estimator.fit(X_train, y_train, **fit_params)\n",
      "/home/vasia/miniconda2/envs/p3env/lib/python3.5/site-packages/sklearn/cross_validation.py:1675: DataConversionWarning: A column-vector y was passed when a 1d array was expected. Please change the shape of y to (n_samples,), for example using ravel().\n",
      "  estimator.fit(X_train, y_train, **fit_params)\n",
      "/home/vasia/miniconda2/envs/p3env/lib/python3.5/site-packages/sklearn/cross_validation.py:1675: DataConversionWarning: A column-vector y was passed when a 1d array was expected. Please change the shape of y to (n_samples,), for example using ravel().\n",
      "  estimator.fit(X_train, y_train, **fit_params)\n",
      "/home/vasia/miniconda2/envs/p3env/lib/python3.5/site-packages/sklearn/cross_validation.py:1675: DataConversionWarning: A column-vector y was passed when a 1d array was expected. Please change the shape of y to (n_samples,), for example using ravel().\n",
      "  estimator.fit(X_train, y_train, **fit_params)\n",
      "/home/vasia/miniconda2/envs/p3env/lib/python3.5/site-packages/sklearn/cross_validation.py:1675: DataConversionWarning: A column-vector y was passed when a 1d array was expected. Please change the shape of y to (n_samples,), for example using ravel().\n",
      "  estimator.fit(X_train, y_train, **fit_params)\n",
      "/home/vasia/miniconda2/envs/p3env/lib/python3.5/site-packages/sklearn/cross_validation.py:1675: DataConversionWarning: A column-vector y was passed when a 1d array was expected. Please change the shape of y to (n_samples,), for example using ravel().\n",
      "  estimator.fit(X_train, y_train, **fit_params)\n",
      "/home/vasia/miniconda2/envs/p3env/lib/python3.5/site-packages/sklearn/cross_validation.py:1675: DataConversionWarning: A column-vector y was passed when a 1d array was expected. Please change the shape of y to (n_samples,), for example using ravel().\n",
      "  estimator.fit(X_train, y_train, **fit_params)\n",
      "/home/vasia/miniconda2/envs/p3env/lib/python3.5/site-packages/sklearn/cross_validation.py:1675: DataConversionWarning: A column-vector y was passed when a 1d array was expected. Please change the shape of y to (n_samples,), for example using ravel().\n",
      "  estimator.fit(X_train, y_train, **fit_params)\n",
      "/home/vasia/miniconda2/envs/p3env/lib/python3.5/site-packages/sklearn/cross_validation.py:1675: DataConversionWarning: A column-vector y was passed when a 1d array was expected. Please change the shape of y to (n_samples,), for example using ravel().\n",
      "  estimator.fit(X_train, y_train, **fit_params)\n",
      "/home/vasia/miniconda2/envs/p3env/lib/python3.5/site-packages/sklearn/cross_validation.py:1675: DataConversionWarning: A column-vector y was passed when a 1d array was expected. Please change the shape of y to (n_samples,), for example using ravel().\n",
      "  estimator.fit(X_train, y_train, **fit_params)\n",
      "/home/vasia/miniconda2/envs/p3env/lib/python3.5/site-packages/sklearn/cross_validation.py:1675: DataConversionWarning: A column-vector y was passed when a 1d array was expected. Please change the shape of y to (n_samples,), for example using ravel().\n",
      "  estimator.fit(X_train, y_train, **fit_params)\n",
      "/home/vasia/miniconda2/envs/p3env/lib/python3.5/site-packages/sklearn/cross_validation.py:1675: DataConversionWarning: A column-vector y was passed when a 1d array was expected. Please change the shape of y to (n_samples,), for example using ravel().\n",
      "  estimator.fit(X_train, y_train, **fit_params)\n",
      "/home/vasia/miniconda2/envs/p3env/lib/python3.5/site-packages/sklearn/cross_validation.py:1675: DataConversionWarning: A column-vector y was passed when a 1d array was expected. Please change the shape of y to (n_samples,), for example using ravel().\n",
      "  estimator.fit(X_train, y_train, **fit_params)\n",
      "/home/vasia/miniconda2/envs/p3env/lib/python3.5/site-packages/sklearn/cross_validation.py:1675: DataConversionWarning: A column-vector y was passed when a 1d array was expected. Please change the shape of y to (n_samples,), for example using ravel().\n",
      "  estimator.fit(X_train, y_train, **fit_params)\n",
      "/home/vasia/miniconda2/envs/p3env/lib/python3.5/site-packages/sklearn/cross_validation.py:1675: DataConversionWarning: A column-vector y was passed when a 1d array was expected. Please change the shape of y to (n_samples,), for example using ravel().\n",
      "  estimator.fit(X_train, y_train, **fit_params)\n",
      "/home/vasia/miniconda2/envs/p3env/lib/python3.5/site-packages/sklearn/cross_validation.py:1675: DataConversionWarning: A column-vector y was passed when a 1d array was expected. Please change the shape of y to (n_samples,), for example using ravel().\n",
      "  estimator.fit(X_train, y_train, **fit_params)\n",
      "/home/vasia/miniconda2/envs/p3env/lib/python3.5/site-packages/sklearn/cross_validation.py:1675: DataConversionWarning: A column-vector y was passed when a 1d array was expected. Please change the shape of y to (n_samples,), for example using ravel().\n",
      "  estimator.fit(X_train, y_train, **fit_params)\n",
      "/home/vasia/miniconda2/envs/p3env/lib/python3.5/site-packages/sklearn/cross_validation.py:1675: DataConversionWarning: A column-vector y was passed when a 1d array was expected. Please change the shape of y to (n_samples,), for example using ravel().\n",
      "  estimator.fit(X_train, y_train, **fit_params)\n",
      "/home/vasia/miniconda2/envs/p3env/lib/python3.5/site-packages/sklearn/cross_validation.py:1675: DataConversionWarning: A column-vector y was passed when a 1d array was expected. Please change the shape of y to (n_samples,), for example using ravel().\n",
      "  estimator.fit(X_train, y_train, **fit_params)\n",
      "/home/vasia/miniconda2/envs/p3env/lib/python3.5/site-packages/sklearn/cross_validation.py:1675: DataConversionWarning: A column-vector y was passed when a 1d array was expected. Please change the shape of y to (n_samples,), for example using ravel().\n",
      "  estimator.fit(X_train, y_train, **fit_params)\n"
     ]
    },
    {
     "name": "stderr",
     "output_type": "stream",
     "text": [
      "/home/vasia/miniconda2/envs/p3env/lib/python3.5/site-packages/sklearn/cross_validation.py:1675: DataConversionWarning: A column-vector y was passed when a 1d array was expected. Please change the shape of y to (n_samples,), for example using ravel().\n",
      "  estimator.fit(X_train, y_train, **fit_params)\n",
      "/home/vasia/miniconda2/envs/p3env/lib/python3.5/site-packages/sklearn/cross_validation.py:1675: DataConversionWarning: A column-vector y was passed when a 1d array was expected. Please change the shape of y to (n_samples,), for example using ravel().\n",
      "  estimator.fit(X_train, y_train, **fit_params)\n",
      "/home/vasia/miniconda2/envs/p3env/lib/python3.5/site-packages/sklearn/cross_validation.py:1675: DataConversionWarning: A column-vector y was passed when a 1d array was expected. Please change the shape of y to (n_samples,), for example using ravel().\n",
      "  estimator.fit(X_train, y_train, **fit_params)\n",
      "/home/vasia/miniconda2/envs/p3env/lib/python3.5/site-packages/sklearn/cross_validation.py:1675: DataConversionWarning: A column-vector y was passed when a 1d array was expected. Please change the shape of y to (n_samples,), for example using ravel().\n",
      "  estimator.fit(X_train, y_train, **fit_params)\n",
      "/home/vasia/miniconda2/envs/p3env/lib/python3.5/site-packages/sklearn/cross_validation.py:1675: DataConversionWarning: A column-vector y was passed when a 1d array was expected. Please change the shape of y to (n_samples,), for example using ravel().\n",
      "  estimator.fit(X_train, y_train, **fit_params)\n",
      "/home/vasia/miniconda2/envs/p3env/lib/python3.5/site-packages/sklearn/cross_validation.py:1675: DataConversionWarning: A column-vector y was passed when a 1d array was expected. Please change the shape of y to (n_samples,), for example using ravel().\n",
      "  estimator.fit(X_train, y_train, **fit_params)\n",
      "/home/vasia/miniconda2/envs/p3env/lib/python3.5/site-packages/sklearn/cross_validation.py:1675: DataConversionWarning: A column-vector y was passed when a 1d array was expected. Please change the shape of y to (n_samples,), for example using ravel().\n",
      "  estimator.fit(X_train, y_train, **fit_params)\n",
      "/home/vasia/miniconda2/envs/p3env/lib/python3.5/site-packages/sklearn/cross_validation.py:1675: DataConversionWarning: A column-vector y was passed when a 1d array was expected. Please change the shape of y to (n_samples,), for example using ravel().\n",
      "  estimator.fit(X_train, y_train, **fit_params)\n",
      "/home/vasia/miniconda2/envs/p3env/lib/python3.5/site-packages/sklearn/cross_validation.py:1675: DataConversionWarning: A column-vector y was passed when a 1d array was expected. Please change the shape of y to (n_samples,), for example using ravel().\n",
      "  estimator.fit(X_train, y_train, **fit_params)\n",
      "/home/vasia/miniconda2/envs/p3env/lib/python3.5/site-packages/sklearn/cross_validation.py:1675: DataConversionWarning: A column-vector y was passed when a 1d array was expected. Please change the shape of y to (n_samples,), for example using ravel().\n",
      "  estimator.fit(X_train, y_train, **fit_params)\n",
      "/home/vasia/miniconda2/envs/p3env/lib/python3.5/site-packages/sklearn/cross_validation.py:1675: DataConversionWarning: A column-vector y was passed when a 1d array was expected. Please change the shape of y to (n_samples,), for example using ravel().\n",
      "  estimator.fit(X_train, y_train, **fit_params)\n",
      "/home/vasia/miniconda2/envs/p3env/lib/python3.5/site-packages/sklearn/cross_validation.py:1675: DataConversionWarning: A column-vector y was passed when a 1d array was expected. Please change the shape of y to (n_samples,), for example using ravel().\n",
      "  estimator.fit(X_train, y_train, **fit_params)\n",
      "/home/vasia/miniconda2/envs/p3env/lib/python3.5/site-packages/sklearn/cross_validation.py:1675: DataConversionWarning: A column-vector y was passed when a 1d array was expected. Please change the shape of y to (n_samples,), for example using ravel().\n",
      "  estimator.fit(X_train, y_train, **fit_params)\n",
      "/home/vasia/miniconda2/envs/p3env/lib/python3.5/site-packages/sklearn/cross_validation.py:1675: DataConversionWarning: A column-vector y was passed when a 1d array was expected. Please change the shape of y to (n_samples,), for example using ravel().\n",
      "  estimator.fit(X_train, y_train, **fit_params)\n",
      "/home/vasia/miniconda2/envs/p3env/lib/python3.5/site-packages/sklearn/cross_validation.py:1675: DataConversionWarning: A column-vector y was passed when a 1d array was expected. Please change the shape of y to (n_samples,), for example using ravel().\n",
      "  estimator.fit(X_train, y_train, **fit_params)\n",
      "/home/vasia/miniconda2/envs/p3env/lib/python3.5/site-packages/sklearn/cross_validation.py:1675: DataConversionWarning: A column-vector y was passed when a 1d array was expected. Please change the shape of y to (n_samples,), for example using ravel().\n",
      "  estimator.fit(X_train, y_train, **fit_params)\n",
      "/home/vasia/miniconda2/envs/p3env/lib/python3.5/site-packages/sklearn/cross_validation.py:1675: DataConversionWarning: A column-vector y was passed when a 1d array was expected. Please change the shape of y to (n_samples,), for example using ravel().\n",
      "  estimator.fit(X_train, y_train, **fit_params)\n",
      "/home/vasia/miniconda2/envs/p3env/lib/python3.5/site-packages/sklearn/cross_validation.py:1675: DataConversionWarning: A column-vector y was passed when a 1d array was expected. Please change the shape of y to (n_samples,), for example using ravel().\n",
      "  estimator.fit(X_train, y_train, **fit_params)\n",
      "/home/vasia/miniconda2/envs/p3env/lib/python3.5/site-packages/sklearn/cross_validation.py:1675: DataConversionWarning: A column-vector y was passed when a 1d array was expected. Please change the shape of y to (n_samples,), for example using ravel().\n",
      "  estimator.fit(X_train, y_train, **fit_params)\n",
      "/home/vasia/miniconda2/envs/p3env/lib/python3.5/site-packages/sklearn/cross_validation.py:1675: DataConversionWarning: A column-vector y was passed when a 1d array was expected. Please change the shape of y to (n_samples,), for example using ravel().\n",
      "  estimator.fit(X_train, y_train, **fit_params)\n",
      "/home/vasia/miniconda2/envs/p3env/lib/python3.5/site-packages/sklearn/cross_validation.py:1675: DataConversionWarning: A column-vector y was passed when a 1d array was expected. Please change the shape of y to (n_samples,), for example using ravel().\n",
      "  estimator.fit(X_train, y_train, **fit_params)\n",
      "/home/vasia/miniconda2/envs/p3env/lib/python3.5/site-packages/sklearn/cross_validation.py:1675: DataConversionWarning: A column-vector y was passed when a 1d array was expected. Please change the shape of y to (n_samples,), for example using ravel().\n",
      "  estimator.fit(X_train, y_train, **fit_params)\n",
      "/home/vasia/miniconda2/envs/p3env/lib/python3.5/site-packages/sklearn/cross_validation.py:1675: DataConversionWarning: A column-vector y was passed when a 1d array was expected. Please change the shape of y to (n_samples,), for example using ravel().\n",
      "  estimator.fit(X_train, y_train, **fit_params)\n",
      "/home/vasia/miniconda2/envs/p3env/lib/python3.5/site-packages/sklearn/cross_validation.py:1675: DataConversionWarning: A column-vector y was passed when a 1d array was expected. Please change the shape of y to (n_samples,), for example using ravel().\n",
      "  estimator.fit(X_train, y_train, **fit_params)\n",
      "/home/vasia/miniconda2/envs/p3env/lib/python3.5/site-packages/sklearn/cross_validation.py:1675: DataConversionWarning: A column-vector y was passed when a 1d array was expected. Please change the shape of y to (n_samples,), for example using ravel().\n",
      "  estimator.fit(X_train, y_train, **fit_params)\n",
      "/home/vasia/miniconda2/envs/p3env/lib/python3.5/site-packages/sklearn/cross_validation.py:1675: DataConversionWarning: A column-vector y was passed when a 1d array was expected. Please change the shape of y to (n_samples,), for example using ravel().\n",
      "  estimator.fit(X_train, y_train, **fit_params)\n",
      "/home/vasia/miniconda2/envs/p3env/lib/python3.5/site-packages/sklearn/cross_validation.py:1675: DataConversionWarning: A column-vector y was passed when a 1d array was expected. Please change the shape of y to (n_samples,), for example using ravel().\n",
      "  estimator.fit(X_train, y_train, **fit_params)\n",
      "/home/vasia/miniconda2/envs/p3env/lib/python3.5/site-packages/sklearn/cross_validation.py:1675: DataConversionWarning: A column-vector y was passed when a 1d array was expected. Please change the shape of y to (n_samples,), for example using ravel().\n",
      "  estimator.fit(X_train, y_train, **fit_params)\n"
     ]
    },
    {
     "name": "stderr",
     "output_type": "stream",
     "text": [
      "/home/vasia/miniconda2/envs/p3env/lib/python3.5/site-packages/sklearn/cross_validation.py:1675: DataConversionWarning: A column-vector y was passed when a 1d array was expected. Please change the shape of y to (n_samples,), for example using ravel().\n",
      "  estimator.fit(X_train, y_train, **fit_params)\n",
      "/home/vasia/miniconda2/envs/p3env/lib/python3.5/site-packages/sklearn/cross_validation.py:1675: DataConversionWarning: A column-vector y was passed when a 1d array was expected. Please change the shape of y to (n_samples,), for example using ravel().\n",
      "  estimator.fit(X_train, y_train, **fit_params)\n",
      "/home/vasia/miniconda2/envs/p3env/lib/python3.5/site-packages/sklearn/cross_validation.py:1675: DataConversionWarning: A column-vector y was passed when a 1d array was expected. Please change the shape of y to (n_samples,), for example using ravel().\n",
      "  estimator.fit(X_train, y_train, **fit_params)\n",
      "/home/vasia/miniconda2/envs/p3env/lib/python3.5/site-packages/sklearn/cross_validation.py:1675: DataConversionWarning: A column-vector y was passed when a 1d array was expected. Please change the shape of y to (n_samples,), for example using ravel().\n",
      "  estimator.fit(X_train, y_train, **fit_params)\n",
      "/home/vasia/miniconda2/envs/p3env/lib/python3.5/site-packages/sklearn/cross_validation.py:1675: DataConversionWarning: A column-vector y was passed when a 1d array was expected. Please change the shape of y to (n_samples,), for example using ravel().\n",
      "  estimator.fit(X_train, y_train, **fit_params)\n",
      "/home/vasia/miniconda2/envs/p3env/lib/python3.5/site-packages/sklearn/cross_validation.py:1675: DataConversionWarning: A column-vector y was passed when a 1d array was expected. Please change the shape of y to (n_samples,), for example using ravel().\n",
      "  estimator.fit(X_train, y_train, **fit_params)\n",
      "/home/vasia/miniconda2/envs/p3env/lib/python3.5/site-packages/sklearn/cross_validation.py:1675: DataConversionWarning: A column-vector y was passed when a 1d array was expected. Please change the shape of y to (n_samples,), for example using ravel().\n",
      "  estimator.fit(X_train, y_train, **fit_params)\n",
      "/home/vasia/miniconda2/envs/p3env/lib/python3.5/site-packages/sklearn/cross_validation.py:1675: DataConversionWarning: A column-vector y was passed when a 1d array was expected. Please change the shape of y to (n_samples,), for example using ravel().\n",
      "  estimator.fit(X_train, y_train, **fit_params)\n",
      "/home/vasia/miniconda2/envs/p3env/lib/python3.5/site-packages/sklearn/cross_validation.py:1675: DataConversionWarning: A column-vector y was passed when a 1d array was expected. Please change the shape of y to (n_samples,), for example using ravel().\n",
      "  estimator.fit(X_train, y_train, **fit_params)\n",
      "/home/vasia/miniconda2/envs/p3env/lib/python3.5/site-packages/sklearn/cross_validation.py:1675: DataConversionWarning: A column-vector y was passed when a 1d array was expected. Please change the shape of y to (n_samples,), for example using ravel().\n",
      "  estimator.fit(X_train, y_train, **fit_params)\n",
      "/home/vasia/miniconda2/envs/p3env/lib/python3.5/site-packages/sklearn/cross_validation.py:1675: DataConversionWarning: A column-vector y was passed when a 1d array was expected. Please change the shape of y to (n_samples,), for example using ravel().\n",
      "  estimator.fit(X_train, y_train, **fit_params)\n",
      "/home/vasia/miniconda2/envs/p3env/lib/python3.5/site-packages/sklearn/cross_validation.py:1675: DataConversionWarning: A column-vector y was passed when a 1d array was expected. Please change the shape of y to (n_samples,), for example using ravel().\n",
      "  estimator.fit(X_train, y_train, **fit_params)\n",
      "/home/vasia/miniconda2/envs/p3env/lib/python3.5/site-packages/sklearn/cross_validation.py:1675: DataConversionWarning: A column-vector y was passed when a 1d array was expected. Please change the shape of y to (n_samples,), for example using ravel().\n",
      "  estimator.fit(X_train, y_train, **fit_params)\n",
      "/home/vasia/miniconda2/envs/p3env/lib/python3.5/site-packages/sklearn/cross_validation.py:1675: DataConversionWarning: A column-vector y was passed when a 1d array was expected. Please change the shape of y to (n_samples,), for example using ravel().\n",
      "  estimator.fit(X_train, y_train, **fit_params)\n",
      "/home/vasia/miniconda2/envs/p3env/lib/python3.5/site-packages/sklearn/cross_validation.py:1675: DataConversionWarning: A column-vector y was passed when a 1d array was expected. Please change the shape of y to (n_samples,), for example using ravel().\n",
      "  estimator.fit(X_train, y_train, **fit_params)\n",
      "/home/vasia/miniconda2/envs/p3env/lib/python3.5/site-packages/sklearn/cross_validation.py:1675: DataConversionWarning: A column-vector y was passed when a 1d array was expected. Please change the shape of y to (n_samples,), for example using ravel().\n",
      "  estimator.fit(X_train, y_train, **fit_params)\n",
      "/home/vasia/miniconda2/envs/p3env/lib/python3.5/site-packages/sklearn/cross_validation.py:1675: DataConversionWarning: A column-vector y was passed when a 1d array was expected. Please change the shape of y to (n_samples,), for example using ravel().\n",
      "  estimator.fit(X_train, y_train, **fit_params)\n",
      "/home/vasia/miniconda2/envs/p3env/lib/python3.5/site-packages/sklearn/cross_validation.py:1675: DataConversionWarning: A column-vector y was passed when a 1d array was expected. Please change the shape of y to (n_samples,), for example using ravel().\n",
      "  estimator.fit(X_train, y_train, **fit_params)\n",
      "/home/vasia/miniconda2/envs/p3env/lib/python3.5/site-packages/sklearn/cross_validation.py:1675: DataConversionWarning: A column-vector y was passed when a 1d array was expected. Please change the shape of y to (n_samples,), for example using ravel().\n",
      "  estimator.fit(X_train, y_train, **fit_params)\n",
      "/home/vasia/miniconda2/envs/p3env/lib/python3.5/site-packages/sklearn/cross_validation.py:1675: DataConversionWarning: A column-vector y was passed when a 1d array was expected. Please change the shape of y to (n_samples,), for example using ravel().\n",
      "  estimator.fit(X_train, y_train, **fit_params)\n",
      "/home/vasia/miniconda2/envs/p3env/lib/python3.5/site-packages/sklearn/cross_validation.py:1675: DataConversionWarning: A column-vector y was passed when a 1d array was expected. Please change the shape of y to (n_samples,), for example using ravel().\n",
      "  estimator.fit(X_train, y_train, **fit_params)\n",
      "/home/vasia/miniconda2/envs/p3env/lib/python3.5/site-packages/sklearn/cross_validation.py:1675: DataConversionWarning: A column-vector y was passed when a 1d array was expected. Please change the shape of y to (n_samples,), for example using ravel().\n",
      "  estimator.fit(X_train, y_train, **fit_params)\n",
      "/home/vasia/miniconda2/envs/p3env/lib/python3.5/site-packages/sklearn/cross_validation.py:1675: DataConversionWarning: A column-vector y was passed when a 1d array was expected. Please change the shape of y to (n_samples,), for example using ravel().\n",
      "  estimator.fit(X_train, y_train, **fit_params)\n",
      "/home/vasia/miniconda2/envs/p3env/lib/python3.5/site-packages/sklearn/cross_validation.py:1675: DataConversionWarning: A column-vector y was passed when a 1d array was expected. Please change the shape of y to (n_samples,), for example using ravel().\n",
      "  estimator.fit(X_train, y_train, **fit_params)\n",
      "/home/vasia/miniconda2/envs/p3env/lib/python3.5/site-packages/sklearn/cross_validation.py:1675: DataConversionWarning: A column-vector y was passed when a 1d array was expected. Please change the shape of y to (n_samples,), for example using ravel().\n",
      "  estimator.fit(X_train, y_train, **fit_params)\n",
      "/home/vasia/miniconda2/envs/p3env/lib/python3.5/site-packages/sklearn/cross_validation.py:1675: DataConversionWarning: A column-vector y was passed when a 1d array was expected. Please change the shape of y to (n_samples,), for example using ravel().\n",
      "  estimator.fit(X_train, y_train, **fit_params)\n",
      "/home/vasia/miniconda2/envs/p3env/lib/python3.5/site-packages/sklearn/cross_validation.py:1675: DataConversionWarning: A column-vector y was passed when a 1d array was expected. Please change the shape of y to (n_samples,), for example using ravel().\n",
      "  estimator.fit(X_train, y_train, **fit_params)\n",
      "/home/vasia/miniconda2/envs/p3env/lib/python3.5/site-packages/sklearn/cross_validation.py:1675: DataConversionWarning: A column-vector y was passed when a 1d array was expected. Please change the shape of y to (n_samples,), for example using ravel().\n",
      "  estimator.fit(X_train, y_train, **fit_params)\n"
     ]
    },
    {
     "name": "stderr",
     "output_type": "stream",
     "text": [
      "/home/vasia/miniconda2/envs/p3env/lib/python3.5/site-packages/sklearn/cross_validation.py:1675: DataConversionWarning: A column-vector y was passed when a 1d array was expected. Please change the shape of y to (n_samples,), for example using ravel().\n",
      "  estimator.fit(X_train, y_train, **fit_params)\n",
      "/home/vasia/miniconda2/envs/p3env/lib/python3.5/site-packages/sklearn/cross_validation.py:1675: DataConversionWarning: A column-vector y was passed when a 1d array was expected. Please change the shape of y to (n_samples,), for example using ravel().\n",
      "  estimator.fit(X_train, y_train, **fit_params)\n",
      "/home/vasia/miniconda2/envs/p3env/lib/python3.5/site-packages/sklearn/cross_validation.py:1675: DataConversionWarning: A column-vector y was passed when a 1d array was expected. Please change the shape of y to (n_samples,), for example using ravel().\n",
      "  estimator.fit(X_train, y_train, **fit_params)\n",
      "/home/vasia/miniconda2/envs/p3env/lib/python3.5/site-packages/sklearn/cross_validation.py:1675: DataConversionWarning: A column-vector y was passed when a 1d array was expected. Please change the shape of y to (n_samples,), for example using ravel().\n",
      "  estimator.fit(X_train, y_train, **fit_params)\n",
      "/home/vasia/miniconda2/envs/p3env/lib/python3.5/site-packages/sklearn/cross_validation.py:1675: DataConversionWarning: A column-vector y was passed when a 1d array was expected. Please change the shape of y to (n_samples,), for example using ravel().\n",
      "  estimator.fit(X_train, y_train, **fit_params)\n",
      "/home/vasia/miniconda2/envs/p3env/lib/python3.5/site-packages/sklearn/cross_validation.py:1675: DataConversionWarning: A column-vector y was passed when a 1d array was expected. Please change the shape of y to (n_samples,), for example using ravel().\n",
      "  estimator.fit(X_train, y_train, **fit_params)\n",
      "/home/vasia/miniconda2/envs/p3env/lib/python3.5/site-packages/sklearn/cross_validation.py:1675: DataConversionWarning: A column-vector y was passed when a 1d array was expected. Please change the shape of y to (n_samples,), for example using ravel().\n",
      "  estimator.fit(X_train, y_train, **fit_params)\n",
      "/home/vasia/miniconda2/envs/p3env/lib/python3.5/site-packages/sklearn/cross_validation.py:1675: DataConversionWarning: A column-vector y was passed when a 1d array was expected. Please change the shape of y to (n_samples,), for example using ravel().\n",
      "  estimator.fit(X_train, y_train, **fit_params)\n",
      "/home/vasia/miniconda2/envs/p3env/lib/python3.5/site-packages/sklearn/cross_validation.py:1675: DataConversionWarning: A column-vector y was passed when a 1d array was expected. Please change the shape of y to (n_samples,), for example using ravel().\n",
      "  estimator.fit(X_train, y_train, **fit_params)\n",
      "/home/vasia/miniconda2/envs/p3env/lib/python3.5/site-packages/sklearn/cross_validation.py:1675: DataConversionWarning: A column-vector y was passed when a 1d array was expected. Please change the shape of y to (n_samples,), for example using ravel().\n",
      "  estimator.fit(X_train, y_train, **fit_params)\n",
      "/home/vasia/miniconda2/envs/p3env/lib/python3.5/site-packages/sklearn/cross_validation.py:1675: DataConversionWarning: A column-vector y was passed when a 1d array was expected. Please change the shape of y to (n_samples,), for example using ravel().\n",
      "  estimator.fit(X_train, y_train, **fit_params)\n",
      "/home/vasia/miniconda2/envs/p3env/lib/python3.5/site-packages/sklearn/cross_validation.py:1675: DataConversionWarning: A column-vector y was passed when a 1d array was expected. Please change the shape of y to (n_samples,), for example using ravel().\n",
      "  estimator.fit(X_train, y_train, **fit_params)\n",
      "/home/vasia/miniconda2/envs/p3env/lib/python3.5/site-packages/sklearn/cross_validation.py:1675: DataConversionWarning: A column-vector y was passed when a 1d array was expected. Please change the shape of y to (n_samples,), for example using ravel().\n",
      "  estimator.fit(X_train, y_train, **fit_params)\n",
      "/home/vasia/miniconda2/envs/p3env/lib/python3.5/site-packages/sklearn/cross_validation.py:1675: DataConversionWarning: A column-vector y was passed when a 1d array was expected. Please change the shape of y to (n_samples,), for example using ravel().\n",
      "  estimator.fit(X_train, y_train, **fit_params)\n",
      "/home/vasia/miniconda2/envs/p3env/lib/python3.5/site-packages/sklearn/cross_validation.py:1675: DataConversionWarning: A column-vector y was passed when a 1d array was expected. Please change the shape of y to (n_samples,), for example using ravel().\n",
      "  estimator.fit(X_train, y_train, **fit_params)\n",
      "/home/vasia/miniconda2/envs/p3env/lib/python3.5/site-packages/sklearn/cross_validation.py:1675: DataConversionWarning: A column-vector y was passed when a 1d array was expected. Please change the shape of y to (n_samples,), for example using ravel().\n",
      "  estimator.fit(X_train, y_train, **fit_params)\n",
      "/home/vasia/miniconda2/envs/p3env/lib/python3.5/site-packages/sklearn/cross_validation.py:1675: DataConversionWarning: A column-vector y was passed when a 1d array was expected. Please change the shape of y to (n_samples,), for example using ravel().\n",
      "  estimator.fit(X_train, y_train, **fit_params)\n",
      "/home/vasia/miniconda2/envs/p3env/lib/python3.5/site-packages/sklearn/cross_validation.py:1675: DataConversionWarning: A column-vector y was passed when a 1d array was expected. Please change the shape of y to (n_samples,), for example using ravel().\n",
      "  estimator.fit(X_train, y_train, **fit_params)\n",
      "/home/vasia/miniconda2/envs/p3env/lib/python3.5/site-packages/sklearn/cross_validation.py:1675: DataConversionWarning: A column-vector y was passed when a 1d array was expected. Please change the shape of y to (n_samples,), for example using ravel().\n",
      "  estimator.fit(X_train, y_train, **fit_params)\n",
      "/home/vasia/miniconda2/envs/p3env/lib/python3.5/site-packages/sklearn/cross_validation.py:1675: DataConversionWarning: A column-vector y was passed when a 1d array was expected. Please change the shape of y to (n_samples,), for example using ravel().\n",
      "  estimator.fit(X_train, y_train, **fit_params)\n",
      "/home/vasia/miniconda2/envs/p3env/lib/python3.5/site-packages/sklearn/cross_validation.py:1675: DataConversionWarning: A column-vector y was passed when a 1d array was expected. Please change the shape of y to (n_samples,), for example using ravel().\n",
      "  estimator.fit(X_train, y_train, **fit_params)\n",
      "/home/vasia/miniconda2/envs/p3env/lib/python3.5/site-packages/sklearn/cross_validation.py:1675: DataConversionWarning: A column-vector y was passed when a 1d array was expected. Please change the shape of y to (n_samples,), for example using ravel().\n",
      "  estimator.fit(X_train, y_train, **fit_params)\n",
      "/home/vasia/miniconda2/envs/p3env/lib/python3.5/site-packages/sklearn/cross_validation.py:1675: DataConversionWarning: A column-vector y was passed when a 1d array was expected. Please change the shape of y to (n_samples,), for example using ravel().\n",
      "  estimator.fit(X_train, y_train, **fit_params)\n",
      "/home/vasia/miniconda2/envs/p3env/lib/python3.5/site-packages/sklearn/cross_validation.py:1675: DataConversionWarning: A column-vector y was passed when a 1d array was expected. Please change the shape of y to (n_samples,), for example using ravel().\n",
      "  estimator.fit(X_train, y_train, **fit_params)\n",
      "/home/vasia/miniconda2/envs/p3env/lib/python3.5/site-packages/sklearn/cross_validation.py:1675: DataConversionWarning: A column-vector y was passed when a 1d array was expected. Please change the shape of y to (n_samples,), for example using ravel().\n",
      "  estimator.fit(X_train, y_train, **fit_params)\n",
      "/home/vasia/miniconda2/envs/p3env/lib/python3.5/site-packages/sklearn/cross_validation.py:1675: DataConversionWarning: A column-vector y was passed when a 1d array was expected. Please change the shape of y to (n_samples,), for example using ravel().\n",
      "  estimator.fit(X_train, y_train, **fit_params)\n",
      "/home/vasia/miniconda2/envs/p3env/lib/python3.5/site-packages/sklearn/cross_validation.py:1675: DataConversionWarning: A column-vector y was passed when a 1d array was expected. Please change the shape of y to (n_samples,), for example using ravel().\n",
      "  estimator.fit(X_train, y_train, **fit_params)\n",
      "/home/vasia/miniconda2/envs/p3env/lib/python3.5/site-packages/sklearn/cross_validation.py:1675: DataConversionWarning: A column-vector y was passed when a 1d array was expected. Please change the shape of y to (n_samples,), for example using ravel().\n",
      "  estimator.fit(X_train, y_train, **fit_params)\n"
     ]
    },
    {
     "name": "stderr",
     "output_type": "stream",
     "text": [
      "/home/vasia/miniconda2/envs/p3env/lib/python3.5/site-packages/sklearn/cross_validation.py:1675: DataConversionWarning: A column-vector y was passed when a 1d array was expected. Please change the shape of y to (n_samples,), for example using ravel().\n",
      "  estimator.fit(X_train, y_train, **fit_params)\n",
      "/home/vasia/miniconda2/envs/p3env/lib/python3.5/site-packages/sklearn/cross_validation.py:1675: DataConversionWarning: A column-vector y was passed when a 1d array was expected. Please change the shape of y to (n_samples,), for example using ravel().\n",
      "  estimator.fit(X_train, y_train, **fit_params)\n",
      "/home/vasia/miniconda2/envs/p3env/lib/python3.5/site-packages/sklearn/cross_validation.py:1675: DataConversionWarning: A column-vector y was passed when a 1d array was expected. Please change the shape of y to (n_samples,), for example using ravel().\n",
      "  estimator.fit(X_train, y_train, **fit_params)\n",
      "/home/vasia/miniconda2/envs/p3env/lib/python3.5/site-packages/sklearn/cross_validation.py:1675: DataConversionWarning: A column-vector y was passed when a 1d array was expected. Please change the shape of y to (n_samples,), for example using ravel().\n",
      "  estimator.fit(X_train, y_train, **fit_params)\n",
      "/home/vasia/miniconda2/envs/p3env/lib/python3.5/site-packages/sklearn/cross_validation.py:1675: DataConversionWarning: A column-vector y was passed when a 1d array was expected. Please change the shape of y to (n_samples,), for example using ravel().\n",
      "  estimator.fit(X_train, y_train, **fit_params)\n",
      "/home/vasia/miniconda2/envs/p3env/lib/python3.5/site-packages/sklearn/cross_validation.py:1675: DataConversionWarning: A column-vector y was passed when a 1d array was expected. Please change the shape of y to (n_samples,), for example using ravel().\n",
      "  estimator.fit(X_train, y_train, **fit_params)\n",
      "/home/vasia/miniconda2/envs/p3env/lib/python3.5/site-packages/sklearn/cross_validation.py:1675: DataConversionWarning: A column-vector y was passed when a 1d array was expected. Please change the shape of y to (n_samples,), for example using ravel().\n",
      "  estimator.fit(X_train, y_train, **fit_params)\n",
      "/home/vasia/miniconda2/envs/p3env/lib/python3.5/site-packages/sklearn/cross_validation.py:1675: DataConversionWarning: A column-vector y was passed when a 1d array was expected. Please change the shape of y to (n_samples,), for example using ravel().\n",
      "  estimator.fit(X_train, y_train, **fit_params)\n",
      "/home/vasia/miniconda2/envs/p3env/lib/python3.5/site-packages/sklearn/cross_validation.py:1675: DataConversionWarning: A column-vector y was passed when a 1d array was expected. Please change the shape of y to (n_samples,), for example using ravel().\n",
      "  estimator.fit(X_train, y_train, **fit_params)\n",
      "/home/vasia/miniconda2/envs/p3env/lib/python3.5/site-packages/sklearn/cross_validation.py:1675: DataConversionWarning: A column-vector y was passed when a 1d array was expected. Please change the shape of y to (n_samples,), for example using ravel().\n",
      "  estimator.fit(X_train, y_train, **fit_params)\n",
      "/home/vasia/miniconda2/envs/p3env/lib/python3.5/site-packages/sklearn/cross_validation.py:1675: DataConversionWarning: A column-vector y was passed when a 1d array was expected. Please change the shape of y to (n_samples,), for example using ravel().\n",
      "  estimator.fit(X_train, y_train, **fit_params)\n",
      "/home/vasia/miniconda2/envs/p3env/lib/python3.5/site-packages/sklearn/cross_validation.py:1675: DataConversionWarning: A column-vector y was passed when a 1d array was expected. Please change the shape of y to (n_samples,), for example using ravel().\n",
      "  estimator.fit(X_train, y_train, **fit_params)\n",
      "/home/vasia/miniconda2/envs/p3env/lib/python3.5/site-packages/sklearn/cross_validation.py:1675: DataConversionWarning: A column-vector y was passed when a 1d array was expected. Please change the shape of y to (n_samples,), for example using ravel().\n",
      "  estimator.fit(X_train, y_train, **fit_params)\n",
      "/home/vasia/miniconda2/envs/p3env/lib/python3.5/site-packages/sklearn/cross_validation.py:1675: DataConversionWarning: A column-vector y was passed when a 1d array was expected. Please change the shape of y to (n_samples,), for example using ravel().\n",
      "  estimator.fit(X_train, y_train, **fit_params)\n",
      "/home/vasia/miniconda2/envs/p3env/lib/python3.5/site-packages/sklearn/cross_validation.py:1675: DataConversionWarning: A column-vector y was passed when a 1d array was expected. Please change the shape of y to (n_samples,), for example using ravel().\n",
      "  estimator.fit(X_train, y_train, **fit_params)\n",
      "/home/vasia/miniconda2/envs/p3env/lib/python3.5/site-packages/sklearn/cross_validation.py:1675: DataConversionWarning: A column-vector y was passed when a 1d array was expected. Please change the shape of y to (n_samples,), for example using ravel().\n",
      "  estimator.fit(X_train, y_train, **fit_params)\n",
      "/home/vasia/miniconda2/envs/p3env/lib/python3.5/site-packages/sklearn/cross_validation.py:1675: DataConversionWarning: A column-vector y was passed when a 1d array was expected. Please change the shape of y to (n_samples,), for example using ravel().\n",
      "  estimator.fit(X_train, y_train, **fit_params)\n",
      "/home/vasia/miniconda2/envs/p3env/lib/python3.5/site-packages/sklearn/cross_validation.py:1675: DataConversionWarning: A column-vector y was passed when a 1d array was expected. Please change the shape of y to (n_samples,), for example using ravel().\n",
      "  estimator.fit(X_train, y_train, **fit_params)\n",
      "/home/vasia/miniconda2/envs/p3env/lib/python3.5/site-packages/sklearn/cross_validation.py:1675: DataConversionWarning: A column-vector y was passed when a 1d array was expected. Please change the shape of y to (n_samples,), for example using ravel().\n",
      "  estimator.fit(X_train, y_train, **fit_params)\n",
      "/home/vasia/miniconda2/envs/p3env/lib/python3.5/site-packages/sklearn/cross_validation.py:1675: DataConversionWarning: A column-vector y was passed when a 1d array was expected. Please change the shape of y to (n_samples,), for example using ravel().\n",
      "  estimator.fit(X_train, y_train, **fit_params)\n",
      "/home/vasia/miniconda2/envs/p3env/lib/python3.5/site-packages/sklearn/cross_validation.py:1675: DataConversionWarning: A column-vector y was passed when a 1d array was expected. Please change the shape of y to (n_samples,), for example using ravel().\n",
      "  estimator.fit(X_train, y_train, **fit_params)\n",
      "/home/vasia/miniconda2/envs/p3env/lib/python3.5/site-packages/sklearn/cross_validation.py:1675: DataConversionWarning: A column-vector y was passed when a 1d array was expected. Please change the shape of y to (n_samples,), for example using ravel().\n",
      "  estimator.fit(X_train, y_train, **fit_params)\n",
      "/home/vasia/miniconda2/envs/p3env/lib/python3.5/site-packages/sklearn/cross_validation.py:1675: DataConversionWarning: A column-vector y was passed when a 1d array was expected. Please change the shape of y to (n_samples,), for example using ravel().\n",
      "  estimator.fit(X_train, y_train, **fit_params)\n",
      "/home/vasia/miniconda2/envs/p3env/lib/python3.5/site-packages/sklearn/cross_validation.py:1675: DataConversionWarning: A column-vector y was passed when a 1d array was expected. Please change the shape of y to (n_samples,), for example using ravel().\n",
      "  estimator.fit(X_train, y_train, **fit_params)\n",
      "/home/vasia/miniconda2/envs/p3env/lib/python3.5/site-packages/sklearn/cross_validation.py:1675: DataConversionWarning: A column-vector y was passed when a 1d array was expected. Please change the shape of y to (n_samples,), for example using ravel().\n",
      "  estimator.fit(X_train, y_train, **fit_params)\n",
      "/home/vasia/miniconda2/envs/p3env/lib/python3.5/site-packages/sklearn/cross_validation.py:1675: DataConversionWarning: A column-vector y was passed when a 1d array was expected. Please change the shape of y to (n_samples,), for example using ravel().\n",
      "  estimator.fit(X_train, y_train, **fit_params)\n",
      "/home/vasia/miniconda2/envs/p3env/lib/python3.5/site-packages/sklearn/cross_validation.py:1675: DataConversionWarning: A column-vector y was passed when a 1d array was expected. Please change the shape of y to (n_samples,), for example using ravel().\n",
      "  estimator.fit(X_train, y_train, **fit_params)\n",
      "/home/vasia/miniconda2/envs/p3env/lib/python3.5/site-packages/sklearn/cross_validation.py:1675: DataConversionWarning: A column-vector y was passed when a 1d array was expected. Please change the shape of y to (n_samples,), for example using ravel().\n",
      "  estimator.fit(X_train, y_train, **fit_params)\n"
     ]
    },
    {
     "name": "stderr",
     "output_type": "stream",
     "text": [
      "/home/vasia/miniconda2/envs/p3env/lib/python3.5/site-packages/sklearn/cross_validation.py:1675: DataConversionWarning: A column-vector y was passed when a 1d array was expected. Please change the shape of y to (n_samples,), for example using ravel().\n",
      "  estimator.fit(X_train, y_train, **fit_params)\n",
      "/home/vasia/miniconda2/envs/p3env/lib/python3.5/site-packages/sklearn/cross_validation.py:1675: DataConversionWarning: A column-vector y was passed when a 1d array was expected. Please change the shape of y to (n_samples,), for example using ravel().\n",
      "  estimator.fit(X_train, y_train, **fit_params)\n",
      "/home/vasia/miniconda2/envs/p3env/lib/python3.5/site-packages/sklearn/cross_validation.py:1675: DataConversionWarning: A column-vector y was passed when a 1d array was expected. Please change the shape of y to (n_samples,), for example using ravel().\n",
      "  estimator.fit(X_train, y_train, **fit_params)\n",
      "/home/vasia/miniconda2/envs/p3env/lib/python3.5/site-packages/sklearn/cross_validation.py:1675: DataConversionWarning: A column-vector y was passed when a 1d array was expected. Please change the shape of y to (n_samples,), for example using ravel().\n",
      "  estimator.fit(X_train, y_train, **fit_params)\n",
      "/home/vasia/miniconda2/envs/p3env/lib/python3.5/site-packages/sklearn/cross_validation.py:1675: DataConversionWarning: A column-vector y was passed when a 1d array was expected. Please change the shape of y to (n_samples,), for example using ravel().\n",
      "  estimator.fit(X_train, y_train, **fit_params)\n",
      "/home/vasia/miniconda2/envs/p3env/lib/python3.5/site-packages/sklearn/cross_validation.py:1675: DataConversionWarning: A column-vector y was passed when a 1d array was expected. Please change the shape of y to (n_samples,), for example using ravel().\n",
      "  estimator.fit(X_train, y_train, **fit_params)\n",
      "/home/vasia/miniconda2/envs/p3env/lib/python3.5/site-packages/sklearn/cross_validation.py:1675: DataConversionWarning: A column-vector y was passed when a 1d array was expected. Please change the shape of y to (n_samples,), for example using ravel().\n",
      "  estimator.fit(X_train, y_train, **fit_params)\n",
      "/home/vasia/miniconda2/envs/p3env/lib/python3.5/site-packages/sklearn/cross_validation.py:1675: DataConversionWarning: A column-vector y was passed when a 1d array was expected. Please change the shape of y to (n_samples,), for example using ravel().\n",
      "  estimator.fit(X_train, y_train, **fit_params)\n",
      "/home/vasia/miniconda2/envs/p3env/lib/python3.5/site-packages/sklearn/cross_validation.py:1675: DataConversionWarning: A column-vector y was passed when a 1d array was expected. Please change the shape of y to (n_samples,), for example using ravel().\n",
      "  estimator.fit(X_train, y_train, **fit_params)\n",
      "/home/vasia/miniconda2/envs/p3env/lib/python3.5/site-packages/sklearn/cross_validation.py:1675: DataConversionWarning: A column-vector y was passed when a 1d array was expected. Please change the shape of y to (n_samples,), for example using ravel().\n",
      "  estimator.fit(X_train, y_train, **fit_params)\n",
      "/home/vasia/miniconda2/envs/p3env/lib/python3.5/site-packages/sklearn/cross_validation.py:1675: DataConversionWarning: A column-vector y was passed when a 1d array was expected. Please change the shape of y to (n_samples,), for example using ravel().\n",
      "  estimator.fit(X_train, y_train, **fit_params)\n",
      "/home/vasia/miniconda2/envs/p3env/lib/python3.5/site-packages/sklearn/cross_validation.py:1675: DataConversionWarning: A column-vector y was passed when a 1d array was expected. Please change the shape of y to (n_samples,), for example using ravel().\n",
      "  estimator.fit(X_train, y_train, **fit_params)\n",
      "/home/vasia/miniconda2/envs/p3env/lib/python3.5/site-packages/sklearn/cross_validation.py:1675: DataConversionWarning: A column-vector y was passed when a 1d array was expected. Please change the shape of y to (n_samples,), for example using ravel().\n",
      "  estimator.fit(X_train, y_train, **fit_params)\n",
      "/home/vasia/miniconda2/envs/p3env/lib/python3.5/site-packages/sklearn/cross_validation.py:1675: DataConversionWarning: A column-vector y was passed when a 1d array was expected. Please change the shape of y to (n_samples,), for example using ravel().\n",
      "  estimator.fit(X_train, y_train, **fit_params)\n",
      "/home/vasia/miniconda2/envs/p3env/lib/python3.5/site-packages/sklearn/cross_validation.py:1675: DataConversionWarning: A column-vector y was passed when a 1d array was expected. Please change the shape of y to (n_samples,), for example using ravel().\n",
      "  estimator.fit(X_train, y_train, **fit_params)\n",
      "/home/vasia/miniconda2/envs/p3env/lib/python3.5/site-packages/sklearn/cross_validation.py:1675: DataConversionWarning: A column-vector y was passed when a 1d array was expected. Please change the shape of y to (n_samples,), for example using ravel().\n",
      "  estimator.fit(X_train, y_train, **fit_params)\n",
      "/home/vasia/miniconda2/envs/p3env/lib/python3.5/site-packages/sklearn/cross_validation.py:1675: DataConversionWarning: A column-vector y was passed when a 1d array was expected. Please change the shape of y to (n_samples,), for example using ravel().\n",
      "  estimator.fit(X_train, y_train, **fit_params)\n",
      "/home/vasia/miniconda2/envs/p3env/lib/python3.5/site-packages/sklearn/cross_validation.py:1675: DataConversionWarning: A column-vector y was passed when a 1d array was expected. Please change the shape of y to (n_samples,), for example using ravel().\n",
      "  estimator.fit(X_train, y_train, **fit_params)\n",
      "/home/vasia/miniconda2/envs/p3env/lib/python3.5/site-packages/sklearn/cross_validation.py:1675: DataConversionWarning: A column-vector y was passed when a 1d array was expected. Please change the shape of y to (n_samples,), for example using ravel().\n",
      "  estimator.fit(X_train, y_train, **fit_params)\n",
      "/home/vasia/miniconda2/envs/p3env/lib/python3.5/site-packages/sklearn/cross_validation.py:1675: DataConversionWarning: A column-vector y was passed when a 1d array was expected. Please change the shape of y to (n_samples,), for example using ravel().\n",
      "  estimator.fit(X_train, y_train, **fit_params)\n",
      "/home/vasia/miniconda2/envs/p3env/lib/python3.5/site-packages/sklearn/grid_search.py:620: DataConversionWarning: A column-vector y was passed when a 1d array was expected. Please change the shape of y to (n_samples,), for example using ravel().\n",
      "  best_estimator.fit(X, y, **self.fit_params)\n"
     ]
    },
    {
     "name": "stdout",
     "output_type": "stream",
     "text": [
      "{'max_features': 5, 'min_samples_split': 2, 'bootstrap': False, 'n_estimators': 250, 'max_depth': 20}\n"
     ]
    }
   ],
   "source": [
    "X_tr, X_tst, y_tr, y_tst = train_test_split(x_train, y_train, test_size=0.3, random_state=0) \n",
    "param_grid = { \n",
    "            \"n_estimators\"      : [250, 500],\n",
    "           \"max_features\"      : [3, 5],\n",
    "           \"max_depth\"         : [3, 20],\n",
    "           \"min_samples_split\" : [2, 4] ,\n",
    "           \"bootstrap\": [True, False]}\n",
    "\n",
    "CV_rfc = GridSearchCV(RandomForestRegressor(), param_grid=param_grid, cv= 5)\n",
    "CV_rfc.fit(X_tr, y_tr)\n",
    "print (CV_rfc.best_params_)"
   ]
  },
  {
   "cell_type": "code",
   "execution_count": null,
   "metadata": {},
   "outputs": [],
   "source": [
    "rfc = RandomForestRegressor(random_state=0, n_estimators=500, max_depth=20, max_features=5, min_samples_split=2, bootstrap=False)\n",
    "score = cross_val_score(rfc, X_tr, y_tr).mean()\n",
    "print(\"Cross validation = %.2f\" % score)\n",
    "print(\"R2 Score= %.2f \" %r2_score(y_pred, y_tst))"
   ]
  },
  {
   "cell_type": "markdown",
   "metadata": {},
   "source": [
    "XGBoost presents the highest r2 score and performs better in cross validation in comparison to the other models. However all three models achieve scores higher than 0.80 which I consider to be due to the good preprocessing of the features. Moreover, room for improvement exists since other than preprocessing,  feature selection could also enhance the performance of the models.  "
   ]
  },
  {
   "cell_type": "code",
   "execution_count": 27,
   "metadata": {},
   "outputs": [
    {
     "data": {
      "image/png": "[encoded data removed]",
      "text/plain": [
       "<matplotlib.figure.Figure at 0x7f1b5d018470>"
      ]
     },
     "metadata": {},
     "output_type": "display_data"
    }
   ],
   "source": [
    "feature_importance =xgb_model.feature_importances_\n",
    "# make importances relative to max importance\n",
    "feature_importance = 100.0 * (feature_importance / feature_importance.max())\n",
    "sorted_idx = np.argsort(feature_importance)\n",
    "pos = np.arange(sorted_idx.shape[0]) + .5\n",
    "plt.figure(figsize=(20,10))\n",
    "plt.subplot(1, 2, 2)\n",
    "plt.barh(pos, feature_importance[sorted_idx], align='center')\n",
    "plt.xlabel('Relative Importance')\n",
    "plt.title('Variable Importance')\n",
    "plt.show()"
   ]
  },
  {
   "cell_type": "code",
   "execution_count": 28,
   "metadata": {},
   "outputs": [
    {
     "name": "stdout",
     "output_type": "stream",
     "text": [
      "Feature ranking:\n",
      "1. feature 0 (100.000000)\n",
      "2. feature 1 (91.666672)\n",
      "3. feature 12 (70.833328)\n",
      "4. feature 2 (58.333332)\n",
      "5. feature 7 (53.333328)\n",
      "6. feature 8 (49.166660)\n",
      "7. feature 5 (38.333332)\n",
      "8. feature 9 (36.666664)\n",
      "9. feature 21 (32.500000)\n",
      "10. feature 3 (31.666666)\n",
      "11. feature 23 (30.833330)\n",
      "12. feature 31 (29.166666)\n",
      "13. feature 25 (21.666666)\n",
      "14. feature 24 (17.500000)\n",
      "15. feature 4 (16.666668)\n",
      "16. feature 17 (13.333332)\n",
      "17. feature 150 (13.333332)\n",
      "18. feature 146 (13.333332)\n",
      "19. feature 20 (12.500000)\n",
      "20. feature 279 (12.500000)\n",
      "21. feature 26 (12.500000)\n",
      "22. feature 13 (11.666667)\n",
      "23. feature 10 (11.666667)\n",
      "24. feature 32 (11.666667)\n",
      "25. feature 85 (9.999999)\n",
      "26. feature 148 (9.999999)\n",
      "27. feature 147 (9.999999)\n",
      "28. feature 140 (9.999999)\n",
      "29. feature 106 (9.999999)\n",
      "30. feature 49 (9.999999)\n",
      "31. feature 267 (9.166666)\n",
      "32. feature 19 (9.166666)\n",
      "33. feature 336 (9.166666)\n",
      "34. feature 138 (7.500000)\n",
      "35. feature 18 (7.500000)\n",
      "36. feature 22 (7.500000)\n",
      "37. feature 15 (7.500000)\n",
      "38. feature 137 (7.500000)\n",
      "39. feature 90 (7.500000)\n",
      "40. feature 141 (5.833333)\n",
      "41. feature 232 (5.833333)\n",
      "42. feature 54 (5.000000)\n",
      "43. feature 6 (5.000000)\n",
      "44. feature 34 (5.000000)\n",
      "45. feature 63 (5.000000)\n",
      "46. feature 259 (5.000000)\n",
      "47. feature 28 (5.000000)\n",
      "48. feature 170 (5.000000)\n",
      "49. feature 317 (5.000000)\n",
      "50. feature 37 (4.166667)\n",
      "51. feature 133 (4.166667)\n",
      "52. feature 242 (4.166667)\n",
      "53. feature 84 (4.166667)\n",
      "54. feature 308 (4.166667)\n",
      "55. feature 86 (4.166667)\n",
      "56. feature 224 (4.166667)\n",
      "57. feature 98 (4.166667)\n",
      "58. feature 219 (4.166667)\n",
      "59. feature 99 (4.166667)\n",
      "60. feature 212 (4.166667)\n",
      "61. feature 200 (4.166667)\n",
      "62. feature 251 (4.166667)\n",
      "63. feature 160 (4.166667)\n",
      "64. feature 287 (4.166667)\n",
      "65. feature 16 (3.333333)\n",
      "66. feature 136 (3.333333)\n",
      "67. feature 169 (3.333333)\n",
      "68. feature 58 (3.333333)\n",
      "69. feature 236 (3.333333)\n",
      "70. feature 82 (3.333333)\n",
      "71. feature 173 (3.333333)\n",
      "72. feature 296 (3.333333)\n",
      "73. feature 230 (3.333333)\n",
      "74. feature 154 (3.333333)\n",
      "75. feature 50 (3.333333)\n",
      "76. feature 234 (3.333333)\n",
      "77. feature 268 (3.333333)\n",
      "78. feature 193 (3.333333)\n",
      "79. feature 273 (3.333333)\n",
      "80. feature 104 (3.333333)\n",
      "81. feature 97 (2.500000)\n",
      "82. feature 221 (2.500000)\n",
      "83. feature 91 (2.500000)\n",
      "84. feature 151 (2.500000)\n",
      "85. feature 149 (2.500000)\n",
      "86. feature 71 (2.500000)\n",
      "87. feature 167 (2.500000)\n",
      "88. feature 215 (2.500000)\n",
      "89. feature 139 (2.500000)\n",
      "90. feature 207 (2.500000)\n",
      "91. feature 96 (2.500000)\n",
      "92. feature 172 (2.500000)\n",
      "93. feature 338 (2.500000)\n",
      "94. feature 256 (2.500000)\n",
      "95. feature 271 (2.500000)\n",
      "96. feature 258 (2.500000)\n",
      "97. feature 291 (2.500000)\n",
      "98. feature 326 (2.500000)\n",
      "99. feature 73 (1.666667)\n",
      "100. feature 213 (1.666667)\n",
      "101. feature 295 (1.666667)\n",
      "102. feature 177 (1.666667)\n",
      "103. feature 152 (1.666667)\n",
      "104. feature 100 (1.666667)\n",
      "105. feature 335 (1.666667)\n",
      "106. feature 274 (1.666667)\n",
      "107. feature 214 (1.666667)\n",
      "108. feature 276 (1.666667)\n",
      "109. feature 155 (1.666667)\n",
      "110. feature 105 (1.666667)\n",
      "111. feature 209 (1.666667)\n",
      "112. feature 108 (1.666667)\n",
      "113. feature 109 (1.666667)\n",
      "114. feature 115 (1.666667)\n",
      "115. feature 203 (1.666667)\n",
      "116. feature 126 (1.666667)\n",
      "117. feature 196 (1.666667)\n",
      "118. feature 269 (1.666667)\n",
      "119. feature 255 (1.666667)\n",
      "120. feature 60 (1.666667)\n",
      "121. feature 75 (1.666667)\n",
      "122. feature 76 (1.666667)\n",
      "123. feature 239 (1.666667)\n",
      "124. feature 78 (1.666667)\n",
      "125. feature 237 (1.666667)\n",
      "126. feature 254 (1.666667)\n",
      "127. feature 72 (1.666667)\n",
      "128. feature 293 (1.666667)\n",
      "129. feature 57 (1.666667)\n",
      "130. feature 289 (1.666667)\n",
      "131. feature 66 (1.666667)\n",
      "132. feature 339 (1.666667)\n",
      "133. feature 53 (1.666667)\n",
      "134. feature 262 (1.666667)\n",
      "135. feature 14 (0.833333)\n",
      "136. feature 11 (0.833333)\n",
      "137. feature 302 (0.833333)\n",
      "138. feature 145 (0.833333)\n",
      "139. feature 299 (0.833333)\n",
      "140. feature 166 (0.833333)\n",
      "141. feature 298 (0.833333)\n",
      "142. feature 340 (0.833333)\n",
      "143. feature 331 (0.833333)\n",
      "144. feature 153 (0.833333)\n",
      "145. feature 156 (0.833333)\n",
      "146. feature 62 (0.833333)\n",
      "147. feature 134 (0.833333)\n",
      "148. feature 41 (0.833333)\n",
      "149. feature 64 (0.833333)\n",
      "150. feature 59 (0.833333)\n",
      "151. feature 83 (0.833333)\n",
      "152. feature 310 (0.833333)\n",
      "153. feature 88 (0.833333)\n",
      "154. feature 307 (0.833333)\n",
      "155. feature 93 (0.833333)\n",
      "156. feature 43 (0.833333)\n",
      "157. feature 39 (0.833333)\n",
      "158. feature 320 (0.833333)\n",
      "159. feature 38 (0.833333)\n",
      "160. feature 102 (0.833333)\n",
      "161. feature 309 (0.833333)\n",
      "162. feature 29 (0.833333)\n",
      "163. feature 113 (0.833333)\n",
      "164. feature 121 (0.833333)\n",
      "165. feature 318 (0.833333)\n",
      "166. feature 128 (0.833333)\n",
      "167. feature 30 (0.833333)\n",
      "168. feature 341 (0.833333)\n",
      "169. feature 229 (0.833333)\n",
      "170. feature 282 (0.833333)\n",
      "171. feature 263 (0.833333)\n",
      "172. feature 272 (0.833333)\n",
      "173. feature 204 (0.833333)\n",
      "174. feature 205 (0.833333)\n",
      "175. feature 197 (0.833333)\n",
      "176. feature 261 (0.833333)\n",
      "177. feature 206 (0.833333)\n",
      "178. feature 194 (0.833333)\n",
      "179. feature 249 (0.833333)\n",
      "180. feature 186 (0.833333)\n",
      "181. feature 246 (0.833333)\n",
      "182. feature 223 (0.833333)\n",
      "183. feature 190 (0.833333)\n",
      "184. feature 202 (0.833333)\n",
      "185. feature 285 (0.833333)\n",
      "186. feature 180 (0.833333)\n",
      "187. feature 227 (0.833333)\n",
      "188. feature 244 (0.833333)\n",
      "189. feature 235 (0.833333)\n",
      "190. feature 231 (0.833333)\n",
      "191. feature 260 (0.000000)\n",
      "192. feature 52 (0.000000)\n",
      "193. feature 241 (0.000000)\n",
      "194. feature 51 (0.000000)\n",
      "195. feature 77 (0.000000)\n",
      "196. feature 240 (0.000000)\n",
      "197. feature 243 (0.000000)\n",
      "198. feature 311 (0.000000)\n",
      "199. feature 48 (0.000000)\n",
      "200. feature 47 (0.000000)\n"
     ]
    }
   ],
   "source": [
    "indices = np.argsort(feature_importance)[::-1]\n",
    "\n",
    "# Print the feature ranking\n",
    "print(\"Feature ranking:\")\n",
    "\n",
    "for f in range(X_train.shape[1]):\n",
    "    print(\"%d. feature %d (%f)\" % (f + 1, indices[f], feature_importance[indices[f]]))\n"
   ]
  },
  {
   "cell_type": "markdown",
   "metadata": {},
   "source": [
    "As we can see from the bar chart of the relative feature importances and the ranking, while the first 11 features are contributing the most in the model after the 25th rank features have small contribution and in the last 10  positions features are worthless and not used in the model at all."
   ]
  },
  {
   "cell_type": "markdown",
   "metadata": {},
   "source": [
    "Finally we train the best model with the entire dataset but since we do not have the test sets true sales prices we cannot evaluate our model."
   ]
  },
  {
   "cell_type": "code",
   "execution_count": 33,
   "metadata": {},
   "outputs": [],
   "source": [
    "xgb_model = xgb.XGBRegressor(n_estimators=100, learning_rate=0.08, gamma=0, subsample=0.75,\n",
    "                           colsample_bytree=1, max_depth=5)\n",
    "xgb_model.fit(X_train,y_train)\n",
    "y_pred = xgb_model.predict(X_test)"
   ]
  },
  {
   "cell_type": "markdown",
   "metadata": {},
   "source": [
    "# Question 2"
   ]
  },
  {
   "cell_type": "code",
   "execution_count": 29,
   "metadata": {},
   "outputs": [],
   "source": [
    "forest_df = pd.read_csv('data/covtype.csv')"
   ]
  },
  {
   "cell_type": "code",
   "execution_count": 30,
   "metadata": {},
   "outputs": [],
   "source": [
    "y = forest_df['Cover_Type']\n",
    "X = forest_df.loc[:,'Elevation':'Soil_Type40']"
   ]
  },
  {
   "cell_type": "markdown",
   "metadata": {},
   "source": [
    "In order to divide the dataset into X_train with 20000 examples and X_test with another 20000 we use StratifiedShuffleSplit from sklearn to split the set making sure through stratification that the classes ratio will be maintained. "
   ]
  },
  {
   "cell_type": "code",
   "execution_count": 31,
   "metadata": {},
   "outputs": [],
   "source": [
    "s = StratifiedShuffleSplit(n_splits=1, train_size=20000, test_size=20000, random_state=0)\n",
    "for train_index, test_index in s.split(X,y):\n",
    "    train_indices, test_indices = train_index , test_index\n",
    "X_train = X.iloc[train_indices]\n",
    "y_train = y[train_indices]\n",
    "X_test = X.iloc[test_indices]\n",
    "y_test = y[test_indices]"
   ]
  },
  {
   "cell_type": "markdown",
   "metadata": {},
   "source": [
    "Logistic Regression classifier needs the features to be scaled in order to perform better so we use preprocessing scale module from sklearn. Also we train test split the train set in order to check the performance of our classifiers before evaluating in the test set. We once again use stratification in order to maintain class ratio."
   ]
  },
  {
   "cell_type": "code",
   "execution_count": 46,
   "metadata": {},
   "outputs": [],
   "source": [
    "X_train_scale = preprocessing.scale(X_train)\n",
    "X_test_scale = preprocessing.scale(X_test)\n",
    "X_tr_s , X_tst_s, y_tr_s, y_tst_s = train_test_split(X_train_scale, y_train, test_size=0.4, stratify=y_train)\n",
    "X_tr, X_tst, y_tr, y_tst = train_test_split(X_train, y_train, test_size=0.3, stratify=y_train)\n"
   ]
  },
  {
   "cell_type": "markdown",
   "metadata": {},
   "source": [
    "## Logistic Regression classifier"
   ]
  },
  {
   "cell_type": "markdown",
   "metadata": {},
   "source": [
    "Using grid search to select best parameters for the logistic regression classifier"
   ]
  },
  {
   "cell_type": "code",
   "execution_count": 42,
   "metadata": {},
   "outputs": [
    {
     "name": "stdout",
     "output_type": "stream",
     "text": [
      "The best parameters are {'multi_class': 'ovr', 'max_iter': 100, 'solver': 'newton-cg'} with a score of 0.49\n"
     ]
    }
   ],
   "source": [
    "param_grid = {\"solver\" : ['newton-cg', 'lbfgs'],\n",
    "              'multi_class' : ['ovr', 'multinomial'],\n",
    "              \"max_iter\": [100, 200 , 300]}\n",
    "# run grid search\n",
    "grid_logreg = GridSearchCV(LogisticRegression(C= 0.00001), param_grid=param_grid)\n",
    "grid_logreg.fit(X_tr_s, y_tr_s)\n",
    "print(\"The best parameters are %s with a score of %0.2f\"\n",
    "     % (grid_logreg.best_params_, grid_logreg.best_score_))"
   ]
  },
  {
   "cell_type": "code",
   "execution_count": 47,
   "metadata": {},
   "outputs": [
    {
     "name": "stdout",
     "output_type": "stream",
     "text": [
      "Logistic regression accuracy score:  0.665\n",
      "Logistic regression classification report:\n",
      "              precision    recall  f1-score   support\n",
      "\n",
      "          1       0.67      0.61      0.64      2917\n",
      "          2       0.70      0.79      0.74      3901\n",
      "          3       0.51      0.96      0.67       492\n",
      "          4       0.00      0.00      0.00        38\n",
      "          5       0.00      0.00      0.00       131\n",
      "          6       1.00      0.02      0.03       239\n",
      "          7       1.00      0.01      0.02       282\n",
      "\n",
      "avg / total       0.68      0.67      0.63      8000\n",
      "\n"
     ]
    },
    {
     "name": "stderr",
     "output_type": "stream",
     "text": [
      "/home/vasia/miniconda2/envs/p3env/lib/python3.5/site-packages/sklearn/metrics/classification.py:1135: UndefinedMetricWarning: Precision and F-score are ill-defined and being set to 0.0 in labels with no predicted samples.\n",
      "  'precision', 'predicted', average, warn_for)\n"
     ]
    }
   ],
   "source": [
    "logreg = LogisticRegression(C= 0.0001, multi_class='ovr')\n",
    "logreg.fit(X_tr_s, y_tr_s)\n",
    "y_pred_logreg = logreg.predict(X_tst_s)\n",
    "print('Logistic regression accuracy score: ', accuracy_score(y_tst_s, y_pred_logreg))\n",
    "print('Logistic regression classification report:\\n', classification_report(y_tst_s, y_pred_logreg))"
   ]
  },
  {
   "cell_type": "markdown",
   "metadata": {},
   "source": [
    "## Random Forest classifier\n"
   ]
  },
  {
   "cell_type": "markdown",
   "metadata": {},
   "source": [
    "Once again we perform grid search to find the best parameters "
   ]
  },
  {
   "cell_type": "code",
   "execution_count": 39,
   "metadata": {},
   "outputs": [
    {
     "name": "stdout",
     "output_type": "stream",
     "text": [
      "The best parameters are {'criterion': 'entropy', 'bootstrap': False, 'max_depth': 9} with a score of 0.73\n"
     ]
    }
   ],
   "source": [
    "param_grid = {\"max_depth\": [3, 5, 7, 9],\n",
    "              \"bootstrap\": [True, False],\n",
    "              \"criterion\": [\"gini\", \"entropy\"]}\n",
    "\n",
    "# run grid search\n",
    "grid = GridSearchCV(RandomForestClassifier(), param_grid=param_grid)\n",
    "grid.fit(X_tr, y_tr)\n",
    "print(\"The best parameters are %s with a score of %0.2f\"\n",
    "     % (grid.best_params_, grid.best_score_))"
   ]
  },
  {
   "cell_type": "code",
   "execution_count": 48,
   "metadata": {},
   "outputs": [
    {
     "name": "stdout",
     "output_type": "stream",
     "text": [
      "Random forest accuracy score:  0.7468333333333333\n",
      "Random forest classification report:\n",
      "              precision    recall  f1-score   support\n",
      "\n",
      "          1       0.74      0.73      0.73      2188\n",
      "          2       0.76      0.84      0.80      2926\n",
      "          3       0.70      0.86      0.77       369\n",
      "          4       0.40      0.14      0.21        28\n",
      "          5       0.80      0.04      0.08        98\n",
      "          6       0.59      0.11      0.19       179\n",
      "          7       0.94      0.40      0.56       212\n",
      "\n",
      "avg / total       0.75      0.75      0.73      6000\n",
      "\n"
     ]
    }
   ],
   "source": [
    "rfc = RandomForestClassifier(max_depth=9, bootstrap=False, criterion='entropy', n_estimators=200)\n",
    "rfc.fit(X_tr, y_tr)\n",
    "y_pred_rfc = rfc.predict(X_tst)\n",
    "print('Random forest accuracy score: ', accuracy_score(y_tst, y_pred_rfc))\n",
    "print('Random forest classification report:\\n', classification_report(y_tst, y_pred_rfc))"
   ]
  },
  {
   "cell_type": "markdown",
   "metadata": {},
   "source": [
    "## XGBoost Classifier"
   ]
  },
  {
   "cell_type": "code",
   "execution_count": 49,
   "metadata": {},
   "outputs": [
    {
     "name": "stderr",
     "output_type": "stream",
     "text": [
      "/home/vasia/miniconda2/envs/p3env/lib/python3.5/site-packages/sklearn/preprocessing/label.py:151: DeprecationWarning: The truth value of an empty array is ambiguous. Returning False, but in future this will result in an error. Use `array.size > 0` to check that an array is not empty.\n",
      "  if diff:\n",
      "/home/vasia/miniconda2/envs/p3env/lib/python3.5/site-packages/sklearn/preprocessing/label.py:151: DeprecationWarning: The truth value of an empty array is ambiguous. Returning False, but in future this will result in an error. Use `array.size > 0` to check that an array is not empty.\n",
      "  if diff:\n",
      "/home/vasia/miniconda2/envs/p3env/lib/python3.5/site-packages/sklearn/preprocessing/label.py:151: DeprecationWarning: The truth value of an empty array is ambiguous. Returning False, but in future this will result in an error. Use `array.size > 0` to check that an array is not empty.\n",
      "  if diff:\n",
      "/home/vasia/miniconda2/envs/p3env/lib/python3.5/site-packages/sklearn/preprocessing/label.py:151: DeprecationWarning: The truth value of an empty array is ambiguous. Returning False, but in future this will result in an error. Use `array.size > 0` to check that an array is not empty.\n",
      "  if diff:\n",
      "/home/vasia/miniconda2/envs/p3env/lib/python3.5/site-packages/sklearn/preprocessing/label.py:151: DeprecationWarning: The truth value of an empty array is ambiguous. Returning False, but in future this will result in an error. Use `array.size > 0` to check that an array is not empty.\n",
      "  if diff:\n",
      "/home/vasia/miniconda2/envs/p3env/lib/python3.5/site-packages/sklearn/preprocessing/label.py:151: DeprecationWarning: The truth value of an empty array is ambiguous. Returning False, but in future this will result in an error. Use `array.size > 0` to check that an array is not empty.\n",
      "  if diff:\n",
      "/home/vasia/miniconda2/envs/p3env/lib/python3.5/site-packages/sklearn/preprocessing/label.py:151: DeprecationWarning: The truth value of an empty array is ambiguous. Returning False, but in future this will result in an error. Use `array.size > 0` to check that an array is not empty.\n",
      "  if diff:\n",
      "/home/vasia/miniconda2/envs/p3env/lib/python3.5/site-packages/sklearn/preprocessing/label.py:151: DeprecationWarning: The truth value of an empty array is ambiguous. Returning False, but in future this will result in an error. Use `array.size > 0` to check that an array is not empty.\n",
      "  if diff:\n",
      "/home/vasia/miniconda2/envs/p3env/lib/python3.5/site-packages/sklearn/preprocessing/label.py:151: DeprecationWarning: The truth value of an empty array is ambiguous. Returning False, but in future this will result in an error. Use `array.size > 0` to check that an array is not empty.\n",
      "  if diff:\n",
      "/home/vasia/miniconda2/envs/p3env/lib/python3.5/site-packages/sklearn/preprocessing/label.py:151: DeprecationWarning: The truth value of an empty array is ambiguous. Returning False, but in future this will result in an error. Use `array.size > 0` to check that an array is not empty.\n",
      "  if diff:\n",
      "/home/vasia/miniconda2/envs/p3env/lib/python3.5/site-packages/sklearn/preprocessing/label.py:151: DeprecationWarning: The truth value of an empty array is ambiguous. Returning False, but in future this will result in an error. Use `array.size > 0` to check that an array is not empty.\n",
      "  if diff:\n",
      "/home/vasia/miniconda2/envs/p3env/lib/python3.5/site-packages/sklearn/preprocessing/label.py:151: DeprecationWarning: The truth value of an empty array is ambiguous. Returning False, but in future this will result in an error. Use `array.size > 0` to check that an array is not empty.\n",
      "  if diff:\n",
      "/home/vasia/miniconda2/envs/p3env/lib/python3.5/site-packages/sklearn/preprocessing/label.py:151: DeprecationWarning: The truth value of an empty array is ambiguous. Returning False, but in future this will result in an error. Use `array.size > 0` to check that an array is not empty.\n",
      "  if diff:\n",
      "/home/vasia/miniconda2/envs/p3env/lib/python3.5/site-packages/sklearn/preprocessing/label.py:151: DeprecationWarning: The truth value of an empty array is ambiguous. Returning False, but in future this will result in an error. Use `array.size > 0` to check that an array is not empty.\n",
      "  if diff:\n",
      "/home/vasia/miniconda2/envs/p3env/lib/python3.5/site-packages/sklearn/preprocessing/label.py:151: DeprecationWarning: The truth value of an empty array is ambiguous. Returning False, but in future this will result in an error. Use `array.size > 0` to check that an array is not empty.\n",
      "  if diff:\n",
      "/home/vasia/miniconda2/envs/p3env/lib/python3.5/site-packages/sklearn/preprocessing/label.py:151: DeprecationWarning: The truth value of an empty array is ambiguous. Returning False, but in future this will result in an error. Use `array.size > 0` to check that an array is not empty.\n",
      "  if diff:\n",
      "/home/vasia/miniconda2/envs/p3env/lib/python3.5/site-packages/sklearn/preprocessing/label.py:151: DeprecationWarning: The truth value of an empty array is ambiguous. Returning False, but in future this will result in an error. Use `array.size > 0` to check that an array is not empty.\n",
      "  if diff:\n",
      "/home/vasia/miniconda2/envs/p3env/lib/python3.5/site-packages/sklearn/preprocessing/label.py:151: DeprecationWarning: The truth value of an empty array is ambiguous. Returning False, but in future this will result in an error. Use `array.size > 0` to check that an array is not empty.\n",
      "  if diff:\n",
      "/home/vasia/miniconda2/envs/p3env/lib/python3.5/site-packages/sklearn/preprocessing/label.py:151: DeprecationWarning: The truth value of an empty array is ambiguous. Returning False, but in future this will result in an error. Use `array.size > 0` to check that an array is not empty.\n",
      "  if diff:\n",
      "/home/vasia/miniconda2/envs/p3env/lib/python3.5/site-packages/sklearn/preprocessing/label.py:151: DeprecationWarning: The truth value of an empty array is ambiguous. Returning False, but in future this will result in an error. Use `array.size > 0` to check that an array is not empty.\n",
      "  if diff:\n",
      "/home/vasia/miniconda2/envs/p3env/lib/python3.5/site-packages/sklearn/preprocessing/label.py:151: DeprecationWarning: The truth value of an empty array is ambiguous. Returning False, but in future this will result in an error. Use `array.size > 0` to check that an array is not empty.\n",
      "  if diff:\n",
      "/home/vasia/miniconda2/envs/p3env/lib/python3.5/site-packages/sklearn/preprocessing/label.py:151: DeprecationWarning: The truth value of an empty array is ambiguous. Returning False, but in future this will result in an error. Use `array.size > 0` to check that an array is not empty.\n",
      "  if diff:\n",
      "/home/vasia/miniconda2/envs/p3env/lib/python3.5/site-packages/sklearn/preprocessing/label.py:151: DeprecationWarning: The truth value of an empty array is ambiguous. Returning False, but in future this will result in an error. Use `array.size > 0` to check that an array is not empty.\n",
      "  if diff:\n",
      "/home/vasia/miniconda2/envs/p3env/lib/python3.5/site-packages/sklearn/preprocessing/label.py:151: DeprecationWarning: The truth value of an empty array is ambiguous. Returning False, but in future this will result in an error. Use `array.size > 0` to check that an array is not empty.\n",
      "  if diff:\n",
      "/home/vasia/miniconda2/envs/p3env/lib/python3.5/site-packages/sklearn/preprocessing/label.py:151: DeprecationWarning: The truth value of an empty array is ambiguous. Returning False, but in future this will result in an error. Use `array.size > 0` to check that an array is not empty.\n",
      "  if diff:\n",
      "/home/vasia/miniconda2/envs/p3env/lib/python3.5/site-packages/sklearn/preprocessing/label.py:151: DeprecationWarning: The truth value of an empty array is ambiguous. Returning False, but in future this will result in an error. Use `array.size > 0` to check that an array is not empty.\n",
      "  if diff:\n",
      "/home/vasia/miniconda2/envs/p3env/lib/python3.5/site-packages/sklearn/preprocessing/label.py:151: DeprecationWarning: The truth value of an empty array is ambiguous. Returning False, but in future this will result in an error. Use `array.size > 0` to check that an array is not empty.\n",
      "  if diff:\n",
      "/home/vasia/miniconda2/envs/p3env/lib/python3.5/site-packages/sklearn/preprocessing/label.py:151: DeprecationWarning: The truth value of an empty array is ambiguous. Returning False, but in future this will result in an error. Use `array.size > 0` to check that an array is not empty.\n",
      "  if diff:\n"
     ]
    },
    {
     "name": "stderr",
     "output_type": "stream",
     "text": [
      "/home/vasia/miniconda2/envs/p3env/lib/python3.5/site-packages/sklearn/preprocessing/label.py:151: DeprecationWarning: The truth value of an empty array is ambiguous. Returning False, but in future this will result in an error. Use `array.size > 0` to check that an array is not empty.\n",
      "  if diff:\n",
      "/home/vasia/miniconda2/envs/p3env/lib/python3.5/site-packages/sklearn/preprocessing/label.py:151: DeprecationWarning: The truth value of an empty array is ambiguous. Returning False, but in future this will result in an error. Use `array.size > 0` to check that an array is not empty.\n",
      "  if diff:\n"
     ]
    },
    {
     "name": "stdout",
     "output_type": "stream",
     "text": [
      "{'n_estimators': 100, 'max_depth': 5}\n"
     ]
    }
   ],
   "source": [
    "param_grid = { \"n_estimators\"      : [50, 100],\n",
    "           \"max_depth\"         : [2,3,5]}\n",
    "GS_xgb = GridSearchCV(xgb.XGBClassifier(), param_grid=param_grid, cv= 5)\n",
    "GS_xgb .fit(X_tr, y_tr)\n",
    "print (GS_xgb.best_params_)"
   ]
  },
  {
   "cell_type": "code",
   "execution_count": 57,
   "metadata": {},
   "outputs": [
    {
     "name": "stdout",
     "output_type": "stream",
     "text": [
      "Xgboost accuracy score:  0.776\n",
      "Xgboostt classification report:\n",
      "              precision    recall  f1-score   support\n",
      "\n",
      "          1       0.77      0.76      0.76      2188\n",
      "          2       0.79      0.83      0.81      2926\n",
      "          3       0.75      0.85      0.80       369\n",
      "          4       0.69      0.64      0.67        28\n",
      "          5       0.63      0.19      0.30        98\n",
      "          6       0.53      0.35      0.42       179\n",
      "          7       0.85      0.72      0.78       212\n",
      "\n",
      "avg / total       0.77      0.78      0.77      6000\n",
      "\n"
     ]
    },
    {
     "name": "stderr",
     "output_type": "stream",
     "text": [
      "/home/vasia/miniconda2/envs/p3env/lib/python3.5/site-packages/sklearn/preprocessing/label.py:151: DeprecationWarning: The truth value of an empty array is ambiguous. Returning False, but in future this will result in an error. Use `array.size > 0` to check that an array is not empty.\n",
      "  if diff:\n"
     ]
    }
   ],
   "source": [
    "xgb = XGBClassifier(n_estimators=100, max_depth=5, learning_rate=0.08, gamma=0, subsample=0.75,\n",
    "                           colsample_bytree=1)\n",
    "xgb.fit(X_tr, y_tr)\n",
    "y_pred_xgb = xgb.predict(X_tst)\n",
    "print('Xgboost accuracy score: ', accuracy_score(y_tst, y_pred_xgb))\n",
    "print('Xgboostt classification report:\\n', classification_report(y_tst, y_pred_xgb))"
   ]
  },
  {
   "cell_type": "markdown",
   "metadata": {},
   "source": [
    "Again XGBoost classifier gives the best results in accuracy score as well as in the other metrics. From the classification report we can deduct that precision and recall scores are balanced in all models and approximately equal to the accuracy score. "
   ]
  },
  {
   "cell_type": "markdown",
   "metadata": {},
   "source": [
    "## Evaluation on X_test"
   ]
  },
  {
   "cell_type": "code",
   "execution_count": 58,
   "metadata": {},
   "outputs": [
    {
     "name": "stdout",
     "output_type": "stream",
     "text": [
      "Xgboost accuracy score:  0.7739\n"
     ]
    },
    {
     "name": "stderr",
     "output_type": "stream",
     "text": [
      "/home/vasia/miniconda2/envs/p3env/lib/python3.5/site-packages/sklearn/preprocessing/label.py:151: DeprecationWarning: The truth value of an empty array is ambiguous. Returning False, but in future this will result in an error. Use `array.size > 0` to check that an array is not empty.\n",
      "  if diff:\n"
     ]
    }
   ],
   "source": [
    "xgb.fit(X_train, y_train)\n",
    "y_pred_xgb = xgb.predict(X_test)\n",
    "print('Xgboost accuracy score: ', accuracy_score(y_test, y_pred_xgb))"
   ]
  },
  {
   "cell_type": "markdown",
   "metadata": {},
   "source": [
    "XGBoost gives the same accuracy score when evaluating the test set which means that the model is not overfitting the train dataset. Improvement could be possibly achieved should we perform feature selection. "
   ]
  },
  {
   "cell_type": "code",
   "execution_count": 61,
   "metadata": {},
   "outputs": [
    {
     "data": {
      "image/png": "[encoded data removed]",
      "text/plain": [
       "<matplotlib.figure.Figure at 0x7f1b505b9ef0>"
      ]
     },
     "metadata": {},
     "output_type": "display_data"
    }
   ],
   "source": [
    "feature_importance =xgb_model.feature_importances_\n",
    "# make importances relative to max importance\n",
    "feature_importance = 100.0 * (feature_importance / feature_importance.max())\n",
    "sorted_idx = np.argsort(feature_importance)\n",
    "pos = np.arange(sorted_idx.shape[0]) + .5\n",
    "plt.figure(figsize=(20,10))\n",
    "plt.subplot(1, 2, 2)\n",
    "plt.barh(pos, feature_importance[sorted_idx], align='center')\n",
    "plt.xlabel('Relative Importance')\n",
    "plt.title('Variable Importance')\n",
    "plt.show()"
   ]
  },
  {
   "cell_type": "code",
   "execution_count": 62,
   "metadata": {},
   "outputs": [
    {
     "name": "stdout",
     "output_type": "stream",
     "text": [
      "Feature ranking:\n",
      "1. feature 0 (100.000000)\n",
      "2. feature 5 (63.712376)\n",
      "3. feature 9 (52.508362)\n",
      "4. feature 3 (27.424749)\n",
      "5. feature 1 (24.581940)\n",
      "6. feature 4 (20.735785)\n",
      "7. feature 6 (19.899664)\n",
      "8. feature 2 (16.889633)\n",
      "9. feature 8 (14.882943)\n",
      "10. feature 7 (14.381271)\n",
      "11. feature 12 (9.866220)\n",
      "12. feature 52 (7.692308)\n",
      "13. feature 51 (7.190636)\n",
      "14. feature 10 (7.023411)\n",
      "15. feature 45 (4.180602)\n",
      "16. feature 23 (4.013378)\n",
      "17. feature 53 (3.846154)\n",
      "18. feature 30 (3.511706)\n",
      "19. feature 26 (3.344482)\n",
      "20. feature 48 (3.344482)\n",
      "21. feature 43 (3.344482)\n",
      "22. feature 50 (3.010033)\n",
      "23. feature 17 (3.010033)\n",
      "24. feature 35 (2.341137)\n",
      "25. feature 11 (2.173913)\n",
      "26. feature 36 (2.173913)\n",
      "27. feature 18 (2.006689)\n",
      "28. feature 15 (1.839465)\n",
      "29. feature 46 (1.672241)\n",
      "30. feature 44 (1.672241)\n",
      "31. feature 27 (1.505017)\n",
      "32. feature 24 (1.505017)\n",
      "33. feature 47 (1.337793)\n",
      "34. feature 37 (1.337793)\n",
      "35. feature 14 (1.003345)\n",
      "36. feature 16 (0.836120)\n",
      "37. feature 22 (0.501672)\n",
      "38. feature 32 (0.501672)\n",
      "39. feature 42 (0.334448)\n",
      "40. feature 19 (0.334448)\n",
      "41. feature 33 (0.334448)\n",
      "42. feature 40 (0.334448)\n",
      "43. feature 34 (0.167224)\n",
      "44. feature 25 (0.167224)\n",
      "45. feature 13 (0.167224)\n",
      "46. feature 41 (0.000000)\n",
      "47. feature 21 (0.000000)\n",
      "48. feature 39 (0.000000)\n",
      "49. feature 38 (0.000000)\n",
      "50. feature 29 (0.000000)\n",
      "51. feature 28 (0.000000)\n",
      "52. feature 49 (0.000000)\n",
      "53. feature 20 (0.000000)\n",
      "54. feature 31 (0.000000)\n"
     ]
    }
   ],
   "source": [
    "indices = np.argsort(feature_importance)[::-1]\n",
    "\n",
    "# Print the feature ranking\n",
    "print(\"Feature ranking:\")\n",
    "\n",
    "for f in range(X_train.shape[1]):\n",
    "    print(\"%d. feature %d (%f)\" % (f + 1, indices[f], feature_importance[indices[f]]))"
   ]
  },
  {
   "cell_type": "markdown",
   "metadata": {},
   "source": [
    "We see from the bar chart and the feature importance ranking that the first 6 features are contributing the most to our model while the 9 last features are worthless to the model and could be eliminated from the process."
   ]
  },
  {
   "cell_type": "markdown",
   "metadata": {},
   "source": [
    "## Confusion Matrix"
   ]
  },
  {
   "cell_type": "code",
   "execution_count": 64,
   "metadata": {},
   "outputs": [
    {
     "data": {
      "text/plain": [
       "array([[5428, 1787,    0,    0,    1,    3,   73],\n",
       "       [1405, 8216,   73,    1,   10,   43,    4],\n",
       "       [   0,  137, 1000,    9,    0,   85,    0],\n",
       "       [   0,    0,   27,   54,    0,   13,    0],\n",
       "       [   5,  253,    7,    0,   61,    1,    0],\n",
       "       [   0,  115,  240,    0,    0,  243,    0],\n",
       "       [ 225,    5,    0,    0,    0,    0,  476]])"
      ]
     },
     "execution_count": 64,
     "metadata": {},
     "output_type": "execute_result"
    }
   ],
   "source": [
    "from sklearn.metrics import confusion_matrix\n",
    "confusion_matrix(y_test,y_pred_xgb)"
   ]
  },
  {
   "cell_type": "markdown",
   "metadata": {},
   "source": [
    "The confusion matrix shows that the model finds hard to distinguish cover type 1 and 2."
   ]
  },
  {
   "cell_type": "code",
   "execution_count": null,
   "metadata": {},
   "outputs": [],
   "source": []
  }
 ],
 "metadata": {
  "kernelspec": {
   "display_name": "Python 3",
   "language": "python",
   "name": "python3"
  },
  "language_info": {
   "codemirror_mode": {
    "name": "ipython",
    "version": 3
   },
   "file_extension": ".py",
   "mimetype": "text/x-python",
   "name": "python",
   "nbconvert_exporter": "python",
   "pygments_lexer": "ipython3",
   "version": "3.5.4"
  }
 },
 "nbformat": 4,
 "nbformat_minor": 2
}
