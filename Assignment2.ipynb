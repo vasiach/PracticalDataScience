{
 "cells": [
  {
   "cell_type": "markdown",
   "metadata": {},
   "source": [
    "# Question 1"
   ]
  },
  {
   "cell_type": "code",
   "execution_count": 1,
   "metadata": {},
   "outputs": [],
   "source": [
    "import numpy as np\n",
    "import pandas as pd\n",
    "import matplotlib.pyplot as plt\n",
    "%matplotlib inline"
   ]
  },
  {
   "cell_type": "code",
   "execution_count": 2,
   "metadata": {},
   "outputs": [],
   "source": [
    "summary_filename = 'data/gombe_128.csv'\n",
    "ratings_filename = 'data/gombe_460.csv'\n",
    "sumdf = pd.read_csv(summary_filename)\n",
    "ratingsdf = pd.read_csv(ratings_filename)"
   ]
  },
  {
   "cell_type": "code",
   "execution_count": 3,
   "metadata": {},
   "outputs": [
    {
     "name": "stdout",
     "output_type": "stream",
     "text": [
      "a)The median impulsiveness score is 3.33\n"
     ]
    }
   ],
   "source": [
    "impl = sumdf.impl\n",
    "print('a)The median impulsiveness score is {:.2f}'.format(impl.median()))"
   ]
  },
  {
   "cell_type": "code",
   "execution_count": 4,
   "metadata": {},
   "outputs": [
    {
     "name": "stdout",
     "output_type": "stream",
     "text": [
      "b)The number of chimpanzees with 3 digits in their code is 107\n"
     ]
    }
   ],
   "source": [
    "chimcode_dig =sumdf.chimpcode[sumdf.chimpcode.str.contains(r'\\d{3}.*')]\n",
    "print('b)The number of chimpanzees with 3 digits in their code is {}'.format(len(chimcode_dig)))"
   ]
  },
  {
   "cell_type": "code",
   "execution_count": 5,
   "metadata": {},
   "outputs": [
    {
     "name": "stdout",
     "output_type": "stream",
     "text": [
      "c) The average difference between conventional and decisive traits is 1.259\n"
     ]
    }
   ],
   "source": [
    "avg_diff_decs_conv = abs((sumdf['conv']-sumdf['decs']).mean())\n",
    "print('c) The average difference between conventional and decisive traits is {:.3f}'.format(avg_diff_decs_conv))\n"
   ]
  },
  {
   "cell_type": "code",
   "execution_count": 20,
   "metadata": {},
   "outputs": [
    {
     "data": {
      "text/html": [
       "<div>\n",
       "<style scoped>\n",
       "    .dataframe tbody tr th:only-of-type {\n",
       "        vertical-align: middle;\n",
       "    }\n",
       "\n",
       "    .dataframe tbody tr th {\n",
       "        vertical-align: top;\n",
       "    }\n",
       "\n",
       "    .dataframe thead th {\n",
       "        text-align: right;\n",
       "    }\n",
       "</style>\n",
       "<table border=\"1\" class=\"dataframe\">\n",
       "  <thead>\n",
       "    <tr style=\"text-align: right;\">\n",
       "      <th></th>\n",
       "      <th>dominance</th>\n",
       "      <th>extraversion</th>\n",
       "      <th>conscientiousness</th>\n",
       "      <th>agreeableness</th>\n",
       "      <th>neuroticism</th>\n",
       "      <th>openness</th>\n",
       "    </tr>\n",
       "    <tr>\n",
       "      <th>sex</th>\n",
       "      <th></th>\n",
       "      <th></th>\n",
       "      <th></th>\n",
       "      <th></th>\n",
       "      <th></th>\n",
       "      <th></th>\n",
       "    </tr>\n",
       "  </thead>\n",
       "  <tbody>\n",
       "    <tr>\n",
       "      <th>0</th>\n",
       "      <td>3.804156</td>\n",
       "      <td>4.349256</td>\n",
       "      <td>4.691202</td>\n",
       "      <td>4.430595</td>\n",
       "      <td>3.580546</td>\n",
       "      <td>3.640692</td>\n",
       "    </tr>\n",
       "    <tr>\n",
       "      <th>1</th>\n",
       "      <td>4.220803</td>\n",
       "      <td>4.890041</td>\n",
       "      <td>4.161139</td>\n",
       "      <td>4.662747</td>\n",
       "      <td>4.258373</td>\n",
       "      <td>4.397894</td>\n",
       "    </tr>\n",
       "  </tbody>\n",
       "</table>\n",
       "</div>"
      ],
      "text/plain": [
       "     dominance  extraversion  conscientiousness  agreeableness  neuroticism  \\\n",
       "sex                                                                           \n",
       "0     3.804156      4.349256           4.691202       4.430595     3.580546   \n",
       "1     4.220803      4.890041           4.161139       4.662747     4.258373   \n",
       "\n",
       "     openness  \n",
       "sex            \n",
       "0    3.640692  \n",
       "1    4.397894  "
      ]
     },
     "execution_count": 20,
     "metadata": {},
     "output_type": "execute_result"
    }
   ],
   "source": [
    "grouped_by_sex = sumdf.groupby(['sex'])\n",
    "prominence = grouped_by_sex.mean()\n",
    "prominent_traits = prominence[prominence.columns[-6:]].copy()\n",
    "prominent_traits"
   ]
  },
  {
   "cell_type": "code",
   "execution_count": null,
   "metadata": {},
   "outputs": [],
   "source": []
  }
 ],
 "metadata": {
  "kernelspec": {
   "display_name": "Python 3",
   "language": "python",
   "name": "python3"
  },
  "language_info": {
   "codemirror_mode": {
    "name": "ipython",
    "version": 3
   },
   "file_extension": ".py",
   "mimetype": "text/x-python",
   "name": "python",
   "nbconvert_exporter": "python",
   "pygments_lexer": "ipython3",
   "version": "3.5.4"
  }
 },
 "nbformat": 4,
 "nbformat_minor": 2
}
