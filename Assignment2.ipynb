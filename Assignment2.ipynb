{
 "cells": [
  {
   "cell_type": "markdown",
   "metadata": {},
   "source": [
    "# Question 1"
   ]
  },
  {
   "cell_type": "code",
   "execution_count": 1,
   "metadata": {},
   "outputs": [
    {
     "name": "stderr",
     "output_type": "stream",
     "text": [
      "/home/vasia/miniconda2/envs/p3env/lib/python3.5/site-packages/matplotlib/font_manager.py:279: UserWarning: Matplotlib is building the font cache using fc-list. This may take a moment.\n",
      "  'Matplotlib is building the font cache using fc-list. '\n"
     ]
    }
   ],
   "source": [
    "import numpy as np\n",
    "import pandas as pd\n",
    "import matplotlib.pyplot as plt\n",
    "%matplotlib inline"
   ]
  },
  {
   "cell_type": "code",
   "execution_count": 2,
   "metadata": {},
   "outputs": [],
   "source": [
    "summary_filename = 'data/gombe_128.csv'\n",
    "ratings_filename = 'data/gombe_460.csv'\n",
    "sumdf = pd.read_csv(summary_filename)\n",
    "ratingsdf = pd.read_csv(ratings_filename)"
   ]
  },
  {
   "cell_type": "code",
   "execution_count": 15,
   "metadata": {},
   "outputs": [
    {
     "name": "stdout",
     "output_type": "stream",
     "text": [
      "a)The median impulsiveness score is 3.33\n"
     ]
    }
   ],
   "source": [
    "impl = sumdf.impl\n",
    "print('a)The median impulsiveness score is {:.2f}'.format(impl.median()))"
   ]
  },
  {
   "cell_type": "code",
   "execution_count": 16,
   "metadata": {},
   "outputs": [
    {
     "name": "stdout",
     "output_type": "stream",
     "text": [
      "b)The number of chimpanzees with 3 digits in their code is 107\n"
     ]
    }
   ],
   "source": [
    "chimcode_dig =sumdf.chimpcode[sumdf.chimpcode.str.contains(r'\\d{3}.*')]\n",
    "print('b)The number of chimpanzees with 3 digits in their code is {}'.format(len(chimcode_dig)))"
   ]
  },
  {
   "cell_type": "code",
   "execution_count": 17,
   "metadata": {},
   "outputs": [
    {
     "name": "stdout",
     "output_type": "stream",
     "text": [
      "c) The average difference between conventional and decisive traits is 1.259\n"
     ]
    }
   ],
   "source": [
    "avg_diff_decs_conv = abs((sumdf['conv']-sumdf['decs']).mean())\n",
    "print('c) The average difference between conventional and decisive traits is {:.3f}'.format(avg_diff_decs_conv))\n"
   ]
  },
  {
   "cell_type": "code",
   "execution_count": null,
   "metadata": {},
   "outputs": [],
   "source": []
  }
 ],
 "metadata": {
  "kernelspec": {
   "display_name": "Python 3",
   "language": "python",
   "name": "python3"
  },
  "language_info": {
   "codemirror_mode": {
    "name": "ipython",
    "version": 3
   },
   "file_extension": ".py",
   "mimetype": "text/x-python",
   "name": "python",
   "nbconvert_exporter": "python",
   "pygments_lexer": "ipython3",
   "version": "3.5.4"
  }
 },
 "nbformat": 4,
 "nbformat_minor": 2
}
